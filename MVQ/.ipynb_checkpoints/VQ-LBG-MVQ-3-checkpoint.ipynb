{
 "cells": [
  {
   "cell_type": "code",
   "execution_count": 1,
   "metadata": {
    "collapsed": false
   },
   "outputs": [
    {
     "name": "stdout",
     "output_type": "stream",
     "text": [
      "Populating the interactive namespace from numpy and matplotlib\n"
     ]
    }
   ],
   "source": [
    "%pylab inline"
   ]
  },
  {
   "cell_type": "code",
   "execution_count": 2,
   "metadata": {
    "collapsed": true
   },
   "outputs": [],
   "source": [
    "#Added all Libraries\n",
    "from spectral import *\n",
    "import numpy as np\n",
    "import PIL\n",
    "import matplotlib\n",
    "import matplotlib.pyplot as plt\n",
    "import mpmath as mp"
   ]
  },
  {
   "cell_type": "code",
   "execution_count": 3,
   "metadata": {
    "collapsed": false,
    "scrolled": true
   },
   "outputs": [
    {
     "name": "stdout",
     "output_type": "stream",
     "text": [
      "\tData Source:   './hawaii_sc01.raw'\n",
      "\t# Rows:            512\n",
      "\t# Samples:         614\n",
      "\t# Bands:           224\n",
      "\tInterleave:        BIP\n",
      "\tQuantization:  16 bits\n",
      "\tData format:     int16\n"
     ]
    }
   ],
   "source": [
    "#image stored in arr\n",
    "img = aviris.open('hawaii_sc01.raw')\n",
    "print img\n",
    "arr = img.load()"
   ]
  },
  {
   "cell_type": "code",
   "execution_count": 4,
   "metadata": {
    "collapsed": false
   },
   "outputs": [
    {
     "name": "stdout",
     "output_type": "stream",
     "text": [
      "process complete\n"
     ]
    }
   ],
   "source": [
    "block = []\n",
    "for i in range(224):\n",
    "    data = arr[:10,:10,i].astype(np.float32)*10000\n",
    "    block.append(data)\n",
    "print \"process complete\""
   ]
  },
  {
   "cell_type": "code",
   "execution_count": 5,
   "metadata": {
    "collapsed": true
   },
   "outputs": [],
   "source": [
    "varblock = []\n",
    "for hg in range(224):\n",
    "    yog = np.var(block[hg])\n",
    "    varblock.append(yog)\n",
    "variance = np.average(varblock)"
   ]
  },
  {
   "cell_type": "code",
   "execution_count": 6,
   "metadata": {
    "collapsed": false
   },
   "outputs": [
    {
     "data": {
      "text/plain": [
       "551.76843"
      ]
     },
     "execution_count": 6,
     "metadata": {},
     "output_type": "execute_result"
    }
   ],
   "source": [
    "variance"
   ]
  },
  {
   "cell_type": "code",
   "execution_count": 7,
   "metadata": {
    "collapsed": false
   },
   "outputs": [
    {
     "name": "stdout",
     "output_type": "stream",
     "text": [
      "process complete\n"
     ]
    }
   ],
   "source": [
    "#considering 10x10 matrix\n",
    "block = []\n",
    "for i in range(224):\n",
    "    data = arr[:40,:40,i].astype(np.float32)*10000 \n",
    "    block.append(data)\n",
    "print \"process complete\""
   ]
  },
  {
   "cell_type": "code",
   "execution_count": 8,
   "metadata": {
    "collapsed": false
   },
   "outputs": [
    {
     "name": "stdout",
     "output_type": "stream",
     "text": [
      "process complete\n"
     ]
    }
   ],
   "source": [
    "#correlation\n",
    "corr = []\n",
    "for i in range(223):\n",
    "    cor = np.corrcoef(block[i].reshape(-1), block[i+1].reshape(-1))[0][1]\n",
    "    corr.append(cor)\n",
    "print \"process complete\""
   ]
  },
  {
   "cell_type": "code",
   "execution_count": 9,
   "metadata": {
    "collapsed": false
   },
   "outputs": [
    {
     "name": "stdout",
     "output_type": "stream",
     "text": [
      "159\n"
     ]
    }
   ],
   "source": [
    "#Pre-Processing of the hyperspectral image, Hawaii. Using GOA technique\n",
    "haha = corr.index(min(corr))\n",
    "print haha"
   ]
  },
  {
   "cell_type": "code",
   "execution_count": 10,
   "metadata": {
    "collapsed": false
   },
   "outputs": [
    {
     "name": "stdout",
     "output_type": "stream",
     "text": [
      "Process Complete\n"
     ]
    }
   ],
   "source": [
    "#greedy ordering algorithm\n",
    "rblock = [] #reference block\n",
    "block1 = [] #all blocks\n",
    "block1 = block\n",
    "rindex = [] #contains all index\n",
    "ifin = []\n",
    "ifin1 = []\n",
    "\n",
    "\n",
    "rindex.append(haha)\n",
    "rblock.append(block1[haha])\n",
    "\n",
    "for gh in range(len(block)):\n",
    "        ifin.append(gh) #ifin will conatin the number od indices\n",
    "        \n",
    "for jk in range(224): \n",
    "    corgoa = [] #conatins correlation of greedy ordering algorithm\n",
    "    Ref = rindex[jk] #Ref will contain the last rindex    \n",
    "    block1.pop(Ref) #Removes that index from the block\n",
    "    yoyo = ifin.pop(Ref) # saves it to a temp variable yoyo\n",
    "    ifin1.append(yoyo) #ifin1 will conatin the final rearranged indexes\n",
    "    for ijk in range(len(block1)):\n",
    "        corr2 = np.corrcoef(rblock[jk].reshape(-1), block1[ijk].reshape(-1))[0][1] #calculate correlation coefficient with respect to the reference block\n",
    "        corgoa.append(corr2)\n",
    "    if len(corgoa) !=0:\n",
    "        indexi = corgoa.index(max(corgoa)) #indexi will contain the index of maximum correlation w.r.t to the rblock\n",
    "        rblock.append(block1[indexi]) #add the corresponding block to the rblock\n",
    "        rindex.append(indexi) \n",
    "    del(corgoa)\n",
    "    del(Ref)\n",
    "print \"Process Complete\""
   ]
  },
  {
   "cell_type": "code",
   "execution_count": 11,
   "metadata": {
    "collapsed": false
   },
   "outputs": [
    {
     "name": "stdout",
     "output_type": "stream",
     "text": [
      "process complete\n"
     ]
    }
   ],
   "source": [
    "corrfin = []\n",
    "for i in range(223):\n",
    "    corfin = np.corrcoef(rblock[i].reshape(-1), rblock[i+1].reshape(-1))[0][1]\n",
    "    corrfin.append(corfin)\n",
    "print \"process complete\""
   ]
  },
  {
   "cell_type": "code",
   "execution_count": 12,
   "metadata": {
    "collapsed": false
   },
   "outputs": [
    {
     "data": {
      "image/png": "[encoded data removed]",
      "text/plain": [
       "<matplotlib.figure.Figure at 0x10fb9bd10>"
      ]
     },
     "metadata": {},
     "output_type": "display_data"
    }
   ],
   "source": [
    "plt.figure(12)\n",
    "plt.plot(range(0,223),corrfin, 'k')\n",
    "plt.xlabel('Band Number')\n",
    "plt.ylabel('Correlation Coefficient')\n",
    "plt.title('Correlation Coefficient vs Band Number after GOA')\n",
    "plt.show()"
   ]
  },
  {
   "cell_type": "code",
   "execution_count": 13,
   "metadata": {
    "collapsed": true
   },
   "outputs": [],
   "source": [
    "from sklearn.preprocessing import normalize"
   ]
  },
  {
   "cell_type": "markdown",
   "metadata": {},
   "source": [
    "def normalize(lst):\n",
    "    s = sum(lst)\n",
    "    return map(lambda x: float(x)/s, lst)\n",
    "def norm(array):\n",
    "    p1 = array.reshape(-1)\n",
    "    x1 = normalize(p1)\n",
    "    y1 = np.array(x1).reshape(-1,10)\n",
    "    return y1"
   ]
  },
  {
   "cell_type": "code",
   "execution_count": 14,
   "metadata": {
    "collapsed": false
   },
   "outputs": [
    {
     "name": "stdout",
     "output_type": "stream",
     "text": [
      "Process Complete\n"
     ]
    }
   ],
   "source": [
    "#normalizing each block\n",
    "rblockn = []\n",
    "maxblock = []\n",
    "minblock = []\n",
    "for q in range(len(rblock)):\n",
    "    xc = rblock[q]\n",
    "    maxxc = np.max(xc)\n",
    "    maxblock.append(maxxc)\n",
    "    minxc = np.min(xc)\n",
    "    minblock.append(minxc)\n",
    "    xcfin = []\n",
    "    for xci in range(len(xc)):\n",
    "        for xcj in range(len(xc)):\n",
    "            xcres = (xc[xci][xcj] - minxc)/(maxxc - minxc) \n",
    "            xcfin.append(xcres)\n",
    "    xcfin1 = np.reshape(xcfin,(40,-1))\n",
    "    rblockn.append(xcfin1)\n",
    "print 'Process Complete'"
   ]
  },
  {
   "cell_type": "code",
   "execution_count": 15,
   "metadata": {
    "collapsed": true
   },
   "outputs": [],
   "source": [
    "def raster(arr):\n",
    "    a = arr\n",
    "    xx = []\n",
    "    for i in range(10):\n",
    "        zz = []\n",
    "        for j in range(10):\n",
    "            x = float(a[i][j])\n",
    "            zz.append(x)\n",
    "        xx.extend(zz)\n",
    "        del zz\n",
    "    return xx"
   ]
  },
  {
   "cell_type": "code",
   "execution_count": 16,
   "metadata": {
    "collapsed": true
   },
   "outputs": [],
   "source": [
    "#imagescanning\n",
    "finlist = []\n",
    "for i in range(224):\n",
    "    rblockyo = rblockn[i]\n",
    "    xx = rblockyo[:10,:10]\n",
    "    yy = raster(xx)\n",
    "    finlist = finlist + yy"
   ]
  },
  {
   "cell_type": "code",
   "execution_count": 17,
   "metadata": {
    "collapsed": false
   },
   "outputs": [
    {
     "data": {
      "text/plain": [
       "22400"
      ]
     },
     "execution_count": 17,
     "metadata": {},
     "output_type": "execute_result"
    }
   ],
   "source": [
    "len(finlist)"
   ]
  },
  {
   "cell_type": "code",
   "execution_count": 18,
   "metadata": {
    "collapsed": false
   },
   "outputs": [],
   "source": [
    "finlist = list(finlist)"
   ]
  },
  {
   "cell_type": "code",
   "execution_count": 19,
   "metadata": {
    "collapsed": false
   },
   "outputs": [
    {
     "data": {
      "text/plain": [
       "0.75"
      ]
     },
     "execution_count": 19,
     "metadata": {},
     "output_type": "execute_result"
    }
   ],
   "source": [
    "float(finlist[0])"
   ]
  },
  {
   "cell_type": "code",
   "execution_count": 20,
   "metadata": {
    "collapsed": false
   },
   "outputs": [
    {
     "data": {
      "image/png": "[encoded data removed]",
      "text/plain": [
       "<matplotlib.figure.Figure at 0x1193627d0>"
      ]
     },
     "metadata": {},
     "output_type": "display_data"
    }
   ],
   "source": [
    "plt.figure(29)\n",
    "plt.plot(range(500,1000),finlist[500:1000], 'k')\n",
    "plt.xlabel('Band')\n",
    "plt.ylabel('Correlation')\n",
    "plt.title('Correlation vs band')\n",
    "plt.show()"
   ]
  },
  {
   "cell_type": "code",
   "execution_count": 21,
   "metadata": {
    "collapsed": true
   },
   "outputs": [],
   "source": [
    "from audiolazy import lpc"
   ]
  },
  {
   "cell_type": "code",
   "execution_count": 22,
   "metadata": {
    "collapsed": true
   },
   "outputs": [],
   "source": [
    "y = 40 #frame size"
   ]
  },
  {
   "cell_type": "code",
   "execution_count": 23,
   "metadata": {
    "collapsed": false
   },
   "outputs": [],
   "source": [
    "finli = map (lambda x: finlist[y*x:(x+1)*y], range (len(finlist)/y)) "
   ]
  },
  {
   "cell_type": "code",
   "execution_count": 24,
   "metadata": {
    "collapsed": false
   },
   "outputs": [
    {
     "name": "stdout",
     "output_type": "stream",
     "text": [
      "process complete\n"
     ]
    }
   ],
   "source": [
    "reslpcfin = []\n",
    "errorframe = []\n",
    "coefficient = []\n",
    "lpcfunction = []\n",
    "lpcerror = []\n",
    "errorfull = []\n",
    "for ijk in range(len(finlist)/y):\n",
    "    lpcframe = lpc(finli[ijk],order=3)\n",
    "    lpcfunction.append(lpcframe)\n",
    "    lpcerror.append(lpcframe.error)\n",
    "    reslpc = list(lpcframe(finli[ijk]))\n",
    "    reslpcfin.append(reslpc)\n",
    "    coefficient.append(lpcframe.numerator)\n",
    "    errorfr = []\n",
    "    for ijkl in range(len(reslpc)):\n",
    "        err = finli[ijk][ijkl] - reslpc[ijkl]\n",
    "        errorfr.append(err)\n",
    "        errorfull.append(err)\n",
    "    errorframe.append(errorfr)\n",
    "    del(errorfr)\n",
    "    del(reslpc)\n",
    "    del(lpcframe)\n",
    "print \"process complete\""
   ]
  },
  {
   "cell_type": "code",
   "execution_count": 25,
   "metadata": {
    "collapsed": false
   },
   "outputs": [],
   "source": [
    "from __future__ import with_statement\n",
    "from __future__ import unicode_literals\n",
    "\n",
    "import numpy as np\n",
    "import scipy.cluster\n",
    "from pylab import *\n",
    "\n",
    "class codebook(object):\n",
    "\n",
    "    def __init__(self, input):\n",
    "        self.__vector = []\n",
    "        for i in input:\n",
    "            self.vector.append(np.array(i))\n",
    "        self.__centroid = 0.0\n",
    "\n",
    "    def __str__(self):\n",
    "        return \"centroid:\" + str(self.__centroid) + \" vector_count:\" + str(len(self.__vector))\n",
    "\n",
    "    #The center of the calculation\n",
    "    @property\n",
    "    def centroid(self):\n",
    "        return self.__centroid\n",
    "\n",
    "    def _get_vector(self):\n",
    "        return self.__vector\n",
    "\n",
    "    def _set_vector(self, value):\n",
    "        self.__vector.append(value)\n",
    "\n",
    "    def _del_vector(self):\n",
    "        self.__vector = []\n",
    "\n",
    "    vector = property(_get_vector, _set_vector, _del_vector)\n",
    "\n",
    "    def calc_centroid(self, eps = 0.0):\n",
    "        if len(self.__vector) < 1:\n",
    "            return False\n",
    "\n",
    "        c = np.zeros([len(self.__vector[0])])\n",
    "        for i in self.__vector:\n",
    "            c += i\n",
    "        self.__centroid = (c / len(self.__vector))* (1.0 + eps)\n",
    "\n",
    "        return True\n",
    "\n",
    "\n",
    "\n",
    "class LBG_splitting(object):\n",
    "    \"\"\"LBG+Splitting Algorithm\"\"\"\n",
    "\n",
    "    #Calculation of distortion ( metrics / convergence determination)\n",
    "    def calc_D(self):\n",
    "        result = 0.0\n",
    "        a = []\n",
    "        for code in self.__codebook:\n",
    "            center = code.centroid\n",
    "            for child in code.vector:\n",
    "                result += np.linalg.norm(center - child)\n",
    "                a.append(np.linalg.norm(center - child))\n",
    "        return result , a\n",
    "\n",
    "    def start(self, N, input1, eps = np.float64(0.00001)):\n",
    "        delta = np.float64(0.01)\n",
    "        eps = np.float64(eps)\n",
    "        #Creating the initial code book / initialization\n",
    "        self.__codebook = []\n",
    "        N /= 2\n",
    "        d = int(len(input1)/N)\n",
    "        for i in range(N):\n",
    "            tmp = input1[i*d:(i+1)*d]\n",
    "\n",
    "\n",
    "            #You want to create a minute of the code book of + delta and -delta\n",
    "            code = codebook(tmp)\n",
    "            code.calc_centroid(delta)\n",
    "            self.__codebook.append(code)\n",
    "\n",
    "            code = codebook(tmp)\n",
    "            code.calc_centroid(-1*delta)\n",
    "            self.__codebook.append(code)\n",
    "\n",
    "            \n",
    "        #Strain calculation\n",
    "        global D\n",
    "        distort = self.calc_D()\n",
    "        D = distort[0]\n",
    "        global distortion\n",
    "        distortion = []\n",
    "        distortion.append(distort[1])\n",
    "        cnt = 0\n",
    "        \n",
    "        print \"distortion = \", D\n",
    "        \n",
    "        #Clustering\n",
    "        while True:\n",
    "            #For now , delete the previous results\n",
    "            for i in self.__codebook:\n",
    "                del(i.vector)\n",
    "\n",
    "            #Clustering part\n",
    "            global position\n",
    "            position = []\n",
    "            for vector in input1:\n",
    "                d = np.finfo(np.float64).max\n",
    "                pos = -1\n",
    "                for i in range(len(self.__codebook)):\n",
    "                    code = self.__codebook[i]\n",
    "                    tmp = np.linalg.norm(vector - code.centroid)\n",
    "                    if d >= tmp:\n",
    "                        d = tmp\n",
    "                        pos = i\n",
    "                position.append(pos)\n",
    "                self.__codebook[pos].vector = vector\n",
    "\n",
    "            #Recalculation of the median\n",
    "            temp_codebook = []\n",
    "            for i in self.__codebook:\n",
    "                if i.calc_centroid():\n",
    "                    temp_codebook.append(i)\n",
    "\n",
    "            self.__codebook = temp_codebook\n",
    "\n",
    "\n",
    "            #Calculation of metrics\n",
    "            distort = self.calc_D()\n",
    "            tmp_D = distort[0]\n",
    "            distortion.append(distort[1])\n",
    "            \n",
    "            if (D - tmp_D) / D <= eps:\n",
    "                break\n",
    "\n",
    "            D = tmp_D\n",
    "            print \"distortion = \", D\n",
    "\n",
    "    @property\n",
    "    def codebook(self):\n",
    "        return self.__codebook"
   ]
  },
  {
   "cell_type": "code",
   "execution_count": 26,
   "metadata": {
    "collapsed": false
   },
   "outputs": [
    {
     "name": "stdout",
     "output_type": "stream",
     "text": [
      "distortion =  547.727559738\n",
      "distortion =  89.6725220918\n",
      "distortion =  78.1435855087\n",
      "distortion =  77.0432115545\n",
      "distortion =  76.5188245791\n"
     ]
    }
   ],
   "source": [
    "N = 512     #The number of Clusters\n",
    "data = np.array(errorframe)       #Input Data\n",
    "\n",
    "clustering = LBG_splitting()\n",
    "\n",
    "clustering.start(N, data)"
   ]
  },
  {
   "cell_type": "code",
   "execution_count": 27,
   "metadata": {
    "collapsed": false
   },
   "outputs": [],
   "source": [
    "np.sum(distortion[0])\n",
    "dist = D"
   ]
  },
  {
   "cell_type": "raw",
   "metadata": {
    "collapsed": false
   },
   "source": [
    "#plot of distortion\n",
    "\n",
    "for i in range(1,len(distortion)-1):\n",
    "    plt.figure(12+i)\n",
    "    plt.plot(range(len(finlist)/y),distortion[i], 'k')\n",
    "    plt.xlabel('Frame Number')\n",
    "    plt.ylabel('Distortion')\n",
    "    plt.title('Stage 1: Framewise Distortion')\n",
    "    plt.show()"
   ]
  },
  {
   "cell_type": "raw",
   "metadata": {
    "collapsed": false
   },
   "source": [
    "for i in range(len(clustering.codebook)):\n",
    "    codebook = clustering.codebook[i]\n",
    "    print \"Cluster%d\" % (i)\n",
    "    print \"\\tcentroid:%s\" % (codebook.centroid)\n",
    "    print \"\\tvectors:\"\n",
    "    for j in codebook.vector:\n",
    "        print \"\\t\\t%s\" % (j)"
   ]
  },
  {
   "cell_type": "code",
   "execution_count": 28,
   "metadata": {
    "collapsed": false
   },
   "outputs": [
    {
     "name": "stdout",
     "output_type": "stream",
     "text": [
      "560\n"
     ]
    }
   ],
   "source": [
    "a = 0\n",
    "for i in range(len(clustering.codebook)):\n",
    "    a = len(clustering.codebook[i].vector) + a\n",
    "print a"
   ]
  },
  {
   "cell_type": "code",
   "execution_count": 29,
   "metadata": {
    "collapsed": false
   },
   "outputs": [
    {
     "data": {
      "text/plain": [
       "560"
      ]
     },
     "execution_count": 29,
     "metadata": {},
     "output_type": "execute_result"
    }
   ],
   "source": [
    "len(position)"
   ]
  },
  {
   "cell_type": "code",
   "execution_count": 30,
   "metadata": {
    "collapsed": false
   },
   "outputs": [
    {
     "data": {
      "text/plain": [
       "array([ 0.        ,  0.19219671,  0.38874613,  0.36209198,  0.33799674,\n",
       "        0.35237034,  0.50193327,  0.44550394,  0.55586462,  0.50338188,\n",
       "        0.62292202,  0.47516722,  0.4392774 ,  0.34553961,  0.4526061 ,\n",
       "        0.54146611,  0.40251052,  0.53191215,  0.47661219,  0.5782085 ,\n",
       "        0.45397557,  0.47822882,  0.39124917,  0.40163053,  0.42662627,\n",
       "        0.47752416,  0.64261196,  0.55486148,  0.43120137,  0.32779724,\n",
       "        0.45278138,  0.36951193,  0.4791719 ,  0.55359152,  0.54565273,\n",
       "        0.54058586,  0.49582684,  0.48676889,  0.54912323,  0.58543304])"
      ]
     },
     "execution_count": 30,
     "metadata": {},
     "output_type": "execute_result"
    }
   ],
   "source": [
    "clustering.codebook[position[2]].centroid"
   ]
  },
  {
   "cell_type": "code",
   "execution_count": 31,
   "metadata": {
    "collapsed": false
   },
   "outputs": [],
   "source": [
    "position1 = position[:]"
   ]
  },
  {
   "cell_type": "code",
   "execution_count": 32,
   "metadata": {
    "collapsed": true
   },
   "outputs": [],
   "source": [
    "errordecode = []\n",
    "for ik in position:\n",
    "    abcde = list(clustering.codebook[ik].centroid)\n",
    "    errordecode.append(abcde)"
   ]
  },
  {
   "cell_type": "code",
   "execution_count": 33,
   "metadata": {
    "collapsed": false
   },
   "outputs": [],
   "source": [
    "errordecode1 = errordecode[:]"
   ]
  },
  {
   "cell_type": "code",
   "execution_count": 34,
   "metadata": {
    "collapsed": true
   },
   "outputs": [],
   "source": [
    "errorminus = []\n",
    "for i in range(len(errordecode)):\n",
    "    ret = np.array(errorframe[i]) - np.array(errordecode[i])\n",
    "    errorminus.append(list(ret))\n",
    "    "
   ]
  },
  {
   "cell_type": "code",
   "execution_count": 35,
   "metadata": {
    "collapsed": true
   },
   "outputs": [],
   "source": [
    "errorminus1 = errorminus[:]"
   ]
  },
  {
   "cell_type": "code",
   "execution_count": 36,
   "metadata": {
    "collapsed": false
   },
   "outputs": [],
   "source": [
    "del(distortion)"
   ]
  },
  {
   "cell_type": "code",
   "execution_count": 37,
   "metadata": {
    "collapsed": true
   },
   "outputs": [],
   "source": [
    "from __future__ import with_statement\n",
    "from __future__ import unicode_literals\n",
    "\n",
    "import numpy as np\n",
    "import scipy.cluster\n",
    "from pylab import *\n",
    "\n",
    "class codebook(object):\n",
    "\n",
    "    def __init__(self, input):\n",
    "        self.__vector = []\n",
    "        for i in input:\n",
    "            self.vector.append(np.array(i))\n",
    "        self.__centroid = 0.0\n",
    "\n",
    "    def __str__(self):\n",
    "        return \"centroid:\" + str(self.__centroid) + \" vector_count:\" + str(len(self.__vector))\n",
    "\n",
    "    #The center of the calculation\n",
    "    @property\n",
    "    def centroid(self):\n",
    "        return self.__centroid\n",
    "\n",
    "    def _get_vector(self):\n",
    "        return self.__vector\n",
    "\n",
    "    def _set_vector(self, value):\n",
    "        self.__vector.append(value)\n",
    "\n",
    "    def _del_vector(self):\n",
    "        self.__vector = []\n",
    "\n",
    "    vector = property(_get_vector, _set_vector, _del_vector)\n",
    "\n",
    "    def calc_centroid(self, eps = 0.0):\n",
    "        if len(self.__vector) < 1:\n",
    "            return False\n",
    "\n",
    "        c = np.zeros([len(self.__vector[0])])\n",
    "        for i in self.__vector:\n",
    "            c += i\n",
    "        self.__centroid = (c / len(self.__vector))* (1.0 + eps)\n",
    "\n",
    "        return True\n",
    "\n",
    "\n",
    "\n",
    "class LBG_splitting(object):\n",
    "    \"\"\"LBG+Splitting Algorithm\"\"\"\n",
    "\n",
    "    #Calculation of distortion ( metrics / convergence determination)\n",
    "    def calc_D(self):\n",
    "        result = 0.0\n",
    "        a = []\n",
    "        for code in self.__codebook:\n",
    "            center = code.centroid\n",
    "            for child in code.vector:\n",
    "                result += np.linalg.norm(center - child)\n",
    "                a.append(np.linalg.norm(center - child))\n",
    "        return result , a\n",
    "\n",
    "    def start(self, N, input1, eps = np.float64(0.00001)):\n",
    "        delta = np.float64(0.01)\n",
    "        eps = np.float64(eps)\n",
    "        #Creating the initial code book / initialization\n",
    "        self.__codebook = []\n",
    "        N /= 2\n",
    "        d = int(len(input1)/N)\n",
    "        for i in range(N):\n",
    "            tmp = input1[i*d:(i+1)*d]\n",
    "\n",
    "\n",
    "            #You want to create a minute of the code book of + delta and -delta\n",
    "            code = codebook(tmp)\n",
    "            code.calc_centroid(delta)\n",
    "            self.__codebook.append(code)\n",
    "\n",
    "            code = codebook(tmp)\n",
    "            code.calc_centroid(-1*delta)\n",
    "            self.__codebook.append(code)\n",
    "\n",
    "            \n",
    "        #Strain calculation\n",
    "        global D\n",
    "        distort = self.calc_D()\n",
    "        D = distort[0]\n",
    "        global distortion\n",
    "        distortion = []\n",
    "        distortion.append(distort[1])\n",
    "        cnt = 0\n",
    "        \n",
    "        print \"distortion = \", D\n",
    "        \n",
    "        #Clustering\n",
    "        while True:\n",
    "            #For now , delete the previous results\n",
    "            for i in self.__codebook:\n",
    "                del(i.vector)\n",
    "\n",
    "            #Clustering part\n",
    "            global position\n",
    "            position = []\n",
    "            for vector in input1:\n",
    "                d = np.finfo(np.float64).max\n",
    "                pos = -1\n",
    "                for i in range(len(self.__codebook)):\n",
    "                    code = self.__codebook[i]\n",
    "                    tmp = np.linalg.norm(vector - code.centroid)\n",
    "                    if d >= tmp:\n",
    "                        d = tmp\n",
    "                        pos = i\n",
    "                position.append(pos)\n",
    "                self.__codebook[pos].vector = vector\n",
    "\n",
    "            #Recalculation of the median\n",
    "            temp_codebook = []\n",
    "            for i in self.__codebook:\n",
    "                if i.calc_centroid():\n",
    "                    temp_codebook.append(i)\n",
    "\n",
    "            self.__codebook = temp_codebook\n",
    "\n",
    "\n",
    "            #Calculation of metrics\n",
    "            distort = self.calc_D()\n",
    "            tmp_D = distort[0]\n",
    "            distortion.append(distort[1])\n",
    "            \n",
    "            if (D - tmp_D) / D <= eps:\n",
    "                break\n",
    "\n",
    "            D = tmp_D\n",
    "            print \"distortion = \", D\n",
    "\n",
    "    @property\n",
    "    def codebook(self):\n",
    "        return self.__codebook"
   ]
  },
  {
   "cell_type": "code",
   "execution_count": 38,
   "metadata": {
    "collapsed": false
   },
   "outputs": [
    {
     "name": "stdout",
     "output_type": "stream",
     "text": [
      "distortion =  84.8656992439\n",
      "distortion =  23.4289544742\n",
      "distortion =  15.5526361101\n",
      "distortion =  14.0971666809\n",
      "distortion =  13.8445310957\n"
     ]
    }
   ],
   "source": [
    "N = 512     #The number of Clusters\n",
    "data = np.array(errorminus)       #Input Data\n",
    "\n",
    "clustering = LBG_splitting()\n",
    "\n",
    "clustering.start(N, data)"
   ]
  },
  {
   "cell_type": "code",
   "execution_count": 39,
   "metadata": {
    "collapsed": true
   },
   "outputs": [],
   "source": [
    "dist = D"
   ]
  },
  {
   "cell_type": "code",
   "execution_count": 40,
   "metadata": {
    "collapsed": false
   },
   "outputs": [
    {
     "data": {
      "text/plain": [
       "13.844531095670519"
      ]
     },
     "execution_count": 40,
     "metadata": {},
     "output_type": "execute_result"
    }
   ],
   "source": [
    "dist"
   ]
  },
  {
   "cell_type": "raw",
   "metadata": {
    "collapsed": false
   },
   "source": [
    "for i in range(1,len(distortion)-1):\n",
    "    plt.figure(112+i)\n",
    "    plt.plot(range(len(finlist)/y),distortion[i], 'k')\n",
    "    plt.xlabel('Frame Number')\n",
    "    plt.ylabel('Distortion')\n",
    "    plt.title('Stage 2: Framewise Distortion')\n",
    "    plt.show()"
   ]
  },
  {
   "cell_type": "code",
   "execution_count": 41,
   "metadata": {
    "collapsed": true
   },
   "outputs": [],
   "source": [
    "errordecode = []\n",
    "for ik in position:\n",
    "    abcde = list(clustering.codebook[ik].centroid)\n",
    "    errordecode.append(abcde)"
   ]
  },
  {
   "cell_type": "code",
   "execution_count": 42,
   "metadata": {
    "collapsed": true
   },
   "outputs": [],
   "source": [
    "errordecode2 = errordecode[:]"
   ]
  },
  {
   "cell_type": "code",
   "execution_count": 43,
   "metadata": {
    "collapsed": true
   },
   "outputs": [],
   "source": [
    "errorminus = []\n",
    "for i in range(len(errordecode)):\n",
    "    ret = np.array(errorminus1[i]) - np.array(errordecode[i])\n",
    "    errorminus.append(list(ret))"
   ]
  },
  {
   "cell_type": "code",
   "execution_count": 44,
   "metadata": {
    "collapsed": true
   },
   "outputs": [],
   "source": [
    "errorminus2 = errorminus[:]"
   ]
  },
  {
   "cell_type": "code",
   "execution_count": 45,
   "metadata": {
    "collapsed": true
   },
   "outputs": [],
   "source": [
    "position2 = position[:]"
   ]
  },
  {
   "cell_type": "code",
   "execution_count": 46,
   "metadata": {
    "collapsed": true
   },
   "outputs": [],
   "source": [
    "del(distortion)"
   ]
  },
  {
   "cell_type": "code",
   "execution_count": 47,
   "metadata": {
    "collapsed": true
   },
   "outputs": [],
   "source": [
    "from __future__ import with_statement\n",
    "from __future__ import unicode_literals\n",
    "\n",
    "import numpy as np\n",
    "import scipy.cluster\n",
    "from pylab import *\n",
    "\n",
    "class codebook(object):\n",
    "\n",
    "    def __init__(self, input):\n",
    "        self.__vector = []\n",
    "        for i in input:\n",
    "            self.vector.append(np.array(i))\n",
    "        self.__centroid = 0.0\n",
    "\n",
    "    def __str__(self):\n",
    "        return \"centroid:\" + str(self.__centroid) + \" vector_count:\" + str(len(self.__vector))\n",
    "\n",
    "    #The center of the calculation\n",
    "    @property\n",
    "    def centroid(self):\n",
    "        return self.__centroid\n",
    "\n",
    "    def _get_vector(self):\n",
    "        return self.__vector\n",
    "\n",
    "    def _set_vector(self, value):\n",
    "        self.__vector.append(value)\n",
    "\n",
    "    def _del_vector(self):\n",
    "        self.__vector = []\n",
    "\n",
    "    vector = property(_get_vector, _set_vector, _del_vector)\n",
    "\n",
    "    def calc_centroid(self, eps = 0.0):\n",
    "        if len(self.__vector) < 1:\n",
    "            return False\n",
    "\n",
    "        c = np.zeros([len(self.__vector[0])])\n",
    "        for i in self.__vector:\n",
    "            c += i\n",
    "        self.__centroid = (c / len(self.__vector))* (1.0 + eps)\n",
    "\n",
    "        return True\n",
    "\n",
    "\n",
    "\n",
    "class LBG_splitting(object):\n",
    "    \"\"\"LBG+Splitting Algorithm\"\"\"\n",
    "\n",
    "    #Calculation of distortion ( metrics / convergence determination)\n",
    "    def calc_D(self):\n",
    "        result = 0.0\n",
    "        a = []\n",
    "        for code in self.__codebook:\n",
    "            center = code.centroid\n",
    "            for child in code.vector:\n",
    "                result += np.linalg.norm(center - child)\n",
    "                a.append(np.linalg.norm(center - child))\n",
    "        return result , a\n",
    "\n",
    "    def start(self, N, input1, eps = np.float64(0.00001)):\n",
    "        delta = np.float64(0.01)\n",
    "        eps = np.float64(eps)\n",
    "        #Creating the initial code book / initialization\n",
    "        self.__codebook = []\n",
    "        N /= 2\n",
    "        d = int(len(input1)/N)\n",
    "        for i in range(N):\n",
    "            tmp = input1[i*d:(i+1)*d]\n",
    "\n",
    "\n",
    "            #You want to create a minute of the code book of + delta and -delta\n",
    "            code = codebook(tmp)\n",
    "            code.calc_centroid(delta)\n",
    "            self.__codebook.append(code)\n",
    "\n",
    "            code = codebook(tmp)\n",
    "            code.calc_centroid(-1*delta)\n",
    "            self.__codebook.append(code)\n",
    "\n",
    "            \n",
    "        #Strain calculation\n",
    "        global D\n",
    "        distort = self.calc_D()\n",
    "        D = distort[0]\n",
    "        global distortion\n",
    "        distortion = []\n",
    "        distortion.append(distort[1])\n",
    "        cnt = 0\n",
    "        \n",
    "        print \"distortion = \", D\n",
    "        \n",
    "        #Clustering\n",
    "        while True:\n",
    "            #For now , delete the previous results\n",
    "            for i in self.__codebook:\n",
    "                del(i.vector)\n",
    "\n",
    "            #Clustering part\n",
    "            global position\n",
    "            position = []\n",
    "            for vector in input1:\n",
    "                d = np.finfo(np.float64).max\n",
    "                pos = -1\n",
    "                for i in range(len(self.__codebook)):\n",
    "                    code = self.__codebook[i]\n",
    "                    tmp = np.linalg.norm(vector - code.centroid)\n",
    "                    if d >= tmp:\n",
    "                        d = tmp\n",
    "                        pos = i\n",
    "                position.append(pos)\n",
    "                self.__codebook[pos].vector = vector\n",
    "\n",
    "            #Recalculation of the median\n",
    "            temp_codebook = []\n",
    "            for i in self.__codebook:\n",
    "                if i.calc_centroid():\n",
    "                    temp_codebook.append(i)\n",
    "\n",
    "            self.__codebook = temp_codebook\n",
    "\n",
    "\n",
    "            #Calculation of metrics\n",
    "            distort = self.calc_D()\n",
    "            tmp_D = distort[0]\n",
    "            distortion.append(distort[1])\n",
    "            \n",
    "            if (D - tmp_D) / D <= eps:\n",
    "                break\n",
    "\n",
    "            D = tmp_D\n",
    "            print \"distortion = \", D\n",
    "\n",
    "    @property\n",
    "    def codebook(self):\n",
    "        return self.__codebook"
   ]
  },
  {
   "cell_type": "code",
   "execution_count": 48,
   "metadata": {
    "collapsed": false
   },
   "outputs": [
    {
     "name": "stdout",
     "output_type": "stream",
     "text": [
      "distortion =  16.3772663253\n",
      "distortion =  3.83448562763\n",
      "distortion =  2.62619093185\n",
      "distortion =  2.56954514904\n"
     ]
    }
   ],
   "source": [
    "N = 512     #The number of Clusters\n",
    "data = np.array(errorminus)       #Input Data\n",
    "\n",
    "clustering = LBG_splitting()\n",
    "\n",
    "clustering.start(N, data)"
   ]
  },
  {
   "cell_type": "code",
   "execution_count": 49,
   "metadata": {
    "collapsed": false
   },
   "outputs": [
    {
     "data": {
      "text/plain": [
       "2.5695451490428418"
      ]
     },
     "execution_count": 49,
     "metadata": {},
     "output_type": "execute_result"
    }
   ],
   "source": [
    "dist = D\n",
    "dist"
   ]
  },
  {
   "cell_type": "raw",
   "metadata": {
    "collapsed": false
   },
   "source": [
    "for i in range(len(clustering.codebook)):\n",
    "    codebook = clustering.codebook[i]\n",
    "    print \"Cluster%d\" % (i)\n",
    "    print \"\\tcentroid:%s\" % (codebook.centroid)\n",
    "    print \"\\tvectors:\"\n",
    "    for j in codebook.vector:\n",
    "        print \"\\t\\t%s\" % (j)"
   ]
  },
  {
   "cell_type": "raw",
   "metadata": {
    "collapsed": false
   },
   "source": [
    "for i in range(1,len(distortion)-1):\n",
    "    plt.figure(212+i)\n",
    "    plt.plot(range(len(finlist)/y),distortion[i], 'k')\n",
    "    plt.xlabel('Frame Number')\n",
    "    plt.ylabel('Distortion')\n",
    "    plt.title('Stage 3: Framewise Distortion')\n",
    "    plt.show()"
   ]
  },
  {
   "cell_type": "code",
   "execution_count": 50,
   "metadata": {
    "collapsed": true
   },
   "outputs": [],
   "source": [
    "errordecode = []\n",
    "for ik in position:\n",
    "    abcde = list(clustering.codebook[ik].centroid)\n",
    "    errordecode.append(abcde)"
   ]
  },
  {
   "cell_type": "code",
   "execution_count": 51,
   "metadata": {
    "collapsed": true
   },
   "outputs": [],
   "source": [
    "errordecode[:] = errordecode[:]"
   ]
  },
  {
   "cell_type": "code",
   "execution_count": 52,
   "metadata": {
    "collapsed": true
   },
   "outputs": [],
   "source": [
    "errorminus = []\n",
    "for i in range(len(errordecode)):\n",
    "    ret = np.array(errorminus2[i]) - np.array(errordecode[i])\n",
    "    errorminus.append(list(ret))"
   ]
  },
  {
   "cell_type": "code",
   "execution_count": 53,
   "metadata": {
    "collapsed": true
   },
   "outputs": [],
   "source": [
    "errorminus3 = errorminus[:]"
   ]
  },
  {
   "cell_type": "code",
   "execution_count": 54,
   "metadata": {
    "collapsed": true
   },
   "outputs": [],
   "source": [
    "position3 = position[:]"
   ]
  },
  {
   "cell_type": "code",
   "execution_count": 55,
   "metadata": {
    "collapsed": false
   },
   "outputs": [],
   "source": [
    "huffcodebook = position"
   ]
  },
  {
   "cell_type": "code",
   "execution_count": 56,
   "metadata": {
    "collapsed": false
   },
   "outputs": [
    {
     "data": {
      "text/plain": [
       "560"
      ]
     },
     "execution_count": 56,
     "metadata": {},
     "output_type": "execute_result"
    }
   ],
   "source": [
    "len(position)"
   ]
  },
  {
   "cell_type": "code",
   "execution_count": 57,
   "metadata": {
    "collapsed": false
   },
   "outputs": [
    {
     "name": "stdout",
     "output_type": "stream",
     "text": [
      "Symbol\tWeight\tHuffman Code\n"
     ]
    }
   ],
   "source": [
    "from heapq import heappush, heappop, heapify\n",
    "from collections import defaultdict\n",
    " \n",
    "def encode(symb2freq):\n",
    "    \"\"\"Huffman encode the given dict mapping symbols to weights\"\"\"\n",
    "    heap = [[wt, [sym, \"\"]] for sym, wt in symb2freq.items()]\n",
    "    heapify(heap)\n",
    "    while len(heap) > 1:\n",
    "        lo = heappop(heap)\n",
    "        hi = heappop(heap)\n",
    "        for pair in lo[1:]:\n",
    "            pair[1] = '0' + pair[1]\n",
    "        for pair in hi[1:]:\n",
    "            pair[1] = '1' + pair[1]\n",
    "        heappush(heap, [lo[0] + hi[0]] + lo[1:] + hi[1:])\n",
    "    return sorted(heappop(heap)[1:], key=lambda p: (len(p[-1]), p))\n",
    " \n",
    "txt = \"this is an example for huffman encoding\"\n",
    "symb2freq = defaultdict(int)\n",
    "for ch in huffcodebook:\n",
    "    symb2freq[ch] += 1\n",
    "# in Python 3.1+:\n",
    "# symb2freq = collections.Counter(txt)\n",
    "huff = encode(symb2freq)\n",
    "print \"Symbol\\tWeight\\tHuffman Code\"\n",
    "huffsymbol = []\n",
    "hufffreq = []\n",
    "for p in huff:\n",
    "    huffsymbol.append(p[1])\n",
    "    hufffreq.append(symb2freq[p[0]])\n",
    "    #print \"%s\\t%s\\t%s\" % (p[0], symb2freq[p[0]], p[1])"
   ]
  },
  {
   "cell_type": "code",
   "execution_count": 58,
   "metadata": {
    "collapsed": false
   },
   "outputs": [
    {
     "name": "stdout",
     "output_type": "stream",
     "text": [
      "1482\n"
     ]
    }
   ],
   "source": [
    "lenhuff = []\n",
    "for i in range(len(huffsymbol)):\n",
    "    yo = huffsymbol[i]\n",
    "    x = str(yo)\n",
    "    ya = x.lstrip('0')\n",
    "    lenhuff.append(len(ya)*hufffreq[i])\n",
    "print sum(lenhuff)"
   ]
  },
  {
   "cell_type": "code",
   "execution_count": 59,
   "metadata": {
    "collapsed": false
   },
   "outputs": [
    {
     "name": "stdout",
     "output_type": "stream",
     "text": [
      "241.835357625\n"
     ]
    }
   ],
   "source": [
    "cr = float(len(finlist)*16)/sum(lenhuff)\n",
    "print cr"
   ]
  },
  {
   "cell_type": "code",
   "execution_count": 60,
   "metadata": {
    "collapsed": false
   },
   "outputs": [
    {
     "name": "stdout",
     "output_type": "stream",
     "text": [
      "0.0661607142857\n"
     ]
    }
   ],
   "source": [
    "#BPP\n",
    "bpp = sum(lenhuff)/22400.00\n",
    "print bpp"
   ]
  },
  {
   "cell_type": "code",
   "execution_count": 61,
   "metadata": {
    "collapsed": false
   },
   "outputs": [
    {
     "data": {
      "text/plain": [
       "560"
      ]
     },
     "execution_count": 61,
     "metadata": {},
     "output_type": "execute_result"
    }
   ],
   "source": [
    "len(errordecode)"
   ]
  },
  {
   "cell_type": "code",
   "execution_count": 62,
   "metadata": {
    "collapsed": false
   },
   "outputs": [],
   "source": [
    "errorfinfin = np.array(errorminus2) + np.array(errordecode2) + np.array(errordecode1)"
   ]
  },
  {
   "cell_type": "code",
   "execution_count": 63,
   "metadata": {
    "collapsed": true
   },
   "outputs": [],
   "source": [
    "del(errordecode)"
   ]
  },
  {
   "cell_type": "code",
   "execution_count": 64,
   "metadata": {
    "collapsed": true
   },
   "outputs": [],
   "source": [
    "errordecode = errorfinfin[:]"
   ]
  },
  {
   "cell_type": "code",
   "execution_count": 65,
   "metadata": {
    "collapsed": false
   },
   "outputs": [
    {
     "name": "stdout",
     "output_type": "stream",
     "text": [
      "[1, -0.5004626323525447, -0.2266060057524495, -0.1981375956210405]\n",
      "---\n",
      "3.457482172\n",
      "---\n",
      "1 - 0.500463 * z^-1 - 0.226606 * z^-2 - 0.198138 * z^-3\n",
      "---\n",
      "[0.75, 0.25, 0.5000019073486328, 0.75, 0.75, 1.0, 0.25, 0.5000019073486328, 0.5000019073486328, 0.5000019073486328, 0.5000019073486328, 0.5000019073486328, 0.5000019073486328, 0.75, 0.5000019073486328, 0.25, 0.5000019073486328, 0.5000019073486328, 0.5000019073486328, 0.5000019073486328, 0.25, 1.0, 0.75, 0.5000019073486328, 0.5000019073486328, 0.75, 0.75, 0.25, 0.5000019073486328, 0.25, 0.5000019073486328, 0.75, 0.75, 0.5000019073486328, 0.75, 0.75, 0.75, 0.75, 0.75, 1.0]\n",
      "---\n",
      "[0.75, -0.12534697426475006, 0.20493174494638283, 0.29451303111303234, 0.21181519173734467, 0.3556293456932778, -0.56902033338275, -0.00032295320736716593, -0.005019460443584811, 0.08693180261750993, 0.037397025794787805, 0.037397025794787805, 0.037397025794787805, 0.28739511844615495, -0.08771767773674462, -0.26925595077518977, 0.11297961745197754, 0.09404895944944307, 0.08693180261750993, 0.037397025794787805, -0.212604881553845, 0.6625117310911226, 0.09381669048102785, -0.15148547157336723, -0.11832246331958482, 0.23786109745837708, 0.16228041491462253, -0.3943706543067222, 0.056328548230632824, -0.20548696888696763, 0.21204841526247756, 0.3440470521008102, 0.21181519173734467, -0.14436874695808938, 0.18121002823703236, 0.11274639392684466, 0.10562934569327782, 0.05609532470549994, 0.05609532470549994, 0.30609532470549994]\n",
      "---\n",
      "[ 0.          0.37534697  0.29507016  0.45548697  0.53818481  0.64437065\n",
      "  0.81902033  0.50032486  0.50502137  0.4130701   0.46260488  0.46260488\n",
      "  0.46260488  0.46260488  0.58771959  0.51925595  0.38702229  0.40595295\n",
      "  0.4130701   0.46260488  0.46260488  0.33748827  0.65618331  0.65148738\n",
      "  0.61832437  0.5121389   0.58771959  0.64437065  0.44367336  0.45548697\n",
      "  0.28795349  0.40595295  0.53818481  0.64437065  0.56878997  0.63725361\n",
      "  0.64437065  0.69390468  0.69390468  0.69390468]\n"
     ]
    }
   ],
   "source": [
    "print coefficient[0]\n",
    "print \"---\"\n",
    "print lpcerror[0]\n",
    "print \"---\"\n",
    "print lpcfunction[0] #h\n",
    "print \"---\"\n",
    "print finli[0] #x\n",
    "print \"---\"\n",
    "print reslpcfin[0] #y\n",
    "print \"---\"\n",
    "print errordecode[0] #e"
   ]
  },
  {
   "cell_type": "code",
   "execution_count": 66,
   "metadata": {
    "collapsed": true
   },
   "outputs": [],
   "source": [
    "from scipy.signal import lfilter"
   ]
  },
  {
   "cell_type": "code",
   "execution_count": 67,
   "metadata": {
    "collapsed": true
   },
   "outputs": [],
   "source": [
    "estx = []"
   ]
  },
  {
   "cell_type": "code",
   "execution_count": 68,
   "metadata": {
    "collapsed": true
   },
   "outputs": [],
   "source": [
    "estx.append(reslpcfin[0][0]+errordecode[0][0])"
   ]
  },
  {
   "cell_type": "code",
   "execution_count": 69,
   "metadata": {
    "collapsed": false
   },
   "outputs": [
    {
     "data": {
      "text/plain": [
       "[0.75]"
      ]
     },
     "execution_count": 69,
     "metadata": {},
     "output_type": "execute_result"
    }
   ],
   "source": [
    "estx"
   ]
  },
  {
   "cell_type": "code",
   "execution_count": 70,
   "metadata": {
    "collapsed": true
   },
   "outputs": [],
   "source": [
    "esty = list(lpcfunction[0](estx))"
   ]
  },
  {
   "cell_type": "code",
   "execution_count": 71,
   "metadata": {
    "collapsed": false
   },
   "outputs": [
    {
     "data": {
      "text/plain": [
       "[0.75]"
      ]
     },
     "execution_count": 71,
     "metadata": {},
     "output_type": "execute_result"
    }
   ],
   "source": [
    "esty"
   ]
  },
  {
   "cell_type": "code",
   "execution_count": 72,
   "metadata": {
    "collapsed": false
   },
   "outputs": [
    {
     "data": {
      "text/plain": [
       "560"
      ]
     },
     "execution_count": 72,
     "metadata": {},
     "output_type": "execute_result"
    }
   ],
   "source": [
    "len(lpcfunction)"
   ]
  },
  {
   "cell_type": "code",
   "execution_count": 73,
   "metadata": {
    "collapsed": false
   },
   "outputs": [],
   "source": [
    "estx = []\n",
    "esty = []\n",
    "for iq in range(len(errordecode)):\n",
    "    estx1 = []\n",
    "    esty1 = []\n",
    "    for iw in range(len(errordecode[iq])):\n",
    "        estx1.append(reslpcfin[iq][iw]+errordecode[iq][iw])\n",
    "        esty1 = list(lpcfunction[iq](estx1))\n",
    "    esty.append(esty1)\n",
    "    estx.append(estx1)"
   ]
  },
  {
   "cell_type": "code",
   "execution_count": 74,
   "metadata": {
    "collapsed": false
   },
   "outputs": [
    {
     "name": "stdout",
     "output_type": "stream",
     "text": [
      "[0.75, 0.25, 0.50000190734863281, 0.75, 0.75, 1.0, 0.25, 0.50000190734863281, 0.50000190734863281, 0.50000190734863281, 0.50000190734863281, 0.50000190734863281, 0.50000190734863281, 0.75, 0.50000190734863281, 0.24999999999999994, 0.50000190734863281, 0.50000190734863281, 0.50000190734863281, 0.50000190734863281, 0.25, 1.0, 0.75, 0.50000190734863281, 0.50000190734863281, 0.75, 0.75, 0.25000000000000006, 0.50000190734863281, 0.24999999999999997, 0.50000190734863281, 0.75, 0.75, 0.50000190734863281, 0.75, 0.75, 0.75, 0.75, 0.75, 1.0]\n",
      "[0.75, 0.25, 0.5000019073486328, 0.75, 0.75, 1.0, 0.25, 0.5000019073486328, 0.5000019073486328, 0.5000019073486328, 0.5000019073486328, 0.5000019073486328, 0.5000019073486328, 0.75, 0.5000019073486328, 0.25, 0.5000019073486328, 0.5000019073486328, 0.5000019073486328, 0.5000019073486328, 0.25, 1.0, 0.75, 0.5000019073486328, 0.5000019073486328, 0.75, 0.75, 0.25, 0.5000019073486328, 0.25, 0.5000019073486328, 0.75, 0.75, 0.5000019073486328, 0.75, 0.75, 0.75, 0.75, 0.75, 1.0]\n"
     ]
    }
   ],
   "source": [
    "print estx[0]\n",
    "print finli[0]"
   ]
  },
  {
   "cell_type": "code",
   "execution_count": 75,
   "metadata": {
    "collapsed": false
   },
   "outputs": [
    {
     "name": "stdout",
     "output_type": "stream",
     "text": [
      "[0.75, -0.12534697426475006, 0.20493174494638283, 0.29451303111303234, 0.21181519173734467, 0.35562934569327781, -0.56902033338275004, -0.00032295320736716593, -0.0050194604435848111, 0.086931802617509935, 0.037397025794787805, 0.037397025794787805, 0.037397025794787805, 0.28739511844615495, -0.087717677736744618, -0.26925595077518982, 0.11297961745197754, 0.094048959449443068, 0.086931802617509935, 0.037397025794787805, -0.21260488155384499, 0.6625117310911226, 0.093816690481027851, -0.15148547157336723, -0.11832246331958482, 0.23786109745837708, 0.16228041491462253, -0.39437065430672213, 0.056328548230632769, -0.20548696888696769, 0.21204841526247753, 0.34404705210081021, 0.21181519173734467, -0.14436874695808938, 0.18121002823703236, 0.11274639392684466, 0.10562934569327782, 0.056095324705499938, 0.056095324705499938, 0.30609532470549994]\n",
      "[0.75, -0.12534697426475006, 0.20493174494638283, 0.29451303111303234, 0.21181519173734467, 0.3556293456932778, -0.56902033338275, -0.00032295320736716593, -0.005019460443584811, 0.08693180261750993, 0.037397025794787805, 0.037397025794787805, 0.037397025794787805, 0.28739511844615495, -0.08771767773674462, -0.26925595077518977, 0.11297961745197754, 0.09404895944944307, 0.08693180261750993, 0.037397025794787805, -0.212604881553845, 0.6625117310911226, 0.09381669048102785, -0.15148547157336723, -0.11832246331958482, 0.23786109745837708, 0.16228041491462253, -0.3943706543067222, 0.056328548230632824, -0.20548696888696763, 0.21204841526247756, 0.3440470521008102, 0.21181519173734467, -0.14436874695808938, 0.18121002823703236, 0.11274639392684466, 0.10562934569327782, 0.05609532470549994, 0.05609532470549994, 0.30609532470549994]\n"
     ]
    }
   ],
   "source": [
    "print esty[0]\n",
    "print reslpcfin[0]"
   ]
  },
  {
   "cell_type": "code",
   "execution_count": 76,
   "metadata": {
    "collapsed": true
   },
   "outputs": [],
   "source": [
    "estxfin = []\n",
    "for yi in estx:\n",
    "    for yu in yi:\n",
    "        estxfin.append(yu)"
   ]
  },
  {
   "cell_type": "code",
   "execution_count": 77,
   "metadata": {
    "collapsed": false
   },
   "outputs": [],
   "source": [
    "y = 100\n",
    "estxfin1 = map (lambda x: estxfin[y*x:(x+1)*y], range (len(finlist)/y)) "
   ]
  },
  {
   "cell_type": "code",
   "execution_count": 78,
   "metadata": {
    "collapsed": false
   },
   "outputs": [],
   "source": [
    "blockfin = []\n",
    "for iji in estxfin1:\n",
    "    bloc = np.reshape(iji,[10, 10])\n",
    "    blockfin.append(bloc)"
   ]
  },
  {
   "cell_type": "code",
   "execution_count": 79,
   "metadata": {
    "collapsed": false
   },
   "outputs": [
    {
     "data": {
      "text/plain": [
       "224"
      ]
     },
     "execution_count": 79,
     "metadata": {},
     "output_type": "execute_result"
    }
   ],
   "source": [
    "len(maxblock)"
   ]
  },
  {
   "cell_type": "code",
   "execution_count": 80,
   "metadata": {
    "collapsed": false
   },
   "outputs": [
    {
     "name": "stdout",
     "output_type": "stream",
     "text": [
      "Process Complete\n"
     ]
    }
   ],
   "source": [
    "finblockfin = []\n",
    "for i in range(len(blockfin)):\n",
    "    eega = blockfin[i]\n",
    "    eegamax = np.max(eega)\n",
    "    eegamin = np.min(eega)\n",
    "    oldmax = maxblock[i]\n",
    "    oldmin = minblock[i]\n",
    "    eegvalue = []\n",
    "    for j in range(len(eega)):\n",
    "        for k in range(len(eega)):\n",
    "            ee = ((eega[j][k] - eegamin)*(oldmax - oldmin))/(eegamax - eegamin)\n",
    "            eee = ee  + oldmin\n",
    "            eegvalue.append(eee)\n",
    "    fblock = np.reshape(eegvalue, [10,10])\n",
    "    finblockfin.append(fblock)\n",
    "print \"Process Complete\""
   ]
  },
  {
   "cell_type": "code",
   "execution_count": 81,
   "metadata": {
    "collapsed": false
   },
   "outputs": [
    {
     "data": {
      "text/plain": [
       "array([[ 86.        ,  84.        ,  85.00000763,  86.        ,\n",
       "         86.        ,  87.        ,  84.        ,  85.00000763,\n",
       "         85.00000763,  85.00000763],\n",
       "       [ 85.00000763,  85.00000763,  85.00000763,  86.        ,\n",
       "         85.00000763,  84.        ,  85.00000763,  85.00000763,\n",
       "         85.00000763,  85.00000763],\n",
       "       [ 84.        ,  87.        ,  86.        ,  85.00000763,\n",
       "         85.00000763,  86.        ,  86.        ,  84.        ,\n",
       "         85.00000763,  84.        ],\n",
       "       [ 85.00000763,  86.        ,  86.        ,  85.00000763,\n",
       "         86.        ,  86.        ,  86.        ,  86.        ,\n",
       "         86.        ,  87.        ],\n",
       "       [ 85.00000763,  84.        ,  85.00000763,  85.00000763,\n",
       "         85.00000763,  85.00000763,  85.00000763,  84.        ,\n",
       "         85.00000763,  85.00000763],\n",
       "       [ 85.00000763,  85.00000763,  85.00000763,  85.00000763,\n",
       "         86.        ,  85.00000763,  85.00000763,  85.00000763,\n",
       "         85.00000763,  85.00000763],\n",
       "       [ 85.00000763,  85.00000763,  85.00000763,  84.        ,\n",
       "         85.00000763,  85.00000763,  85.00000763,  86.        ,\n",
       "         86.        ,  86.        ],\n",
       "       [ 85.00000763,  84.        ,  85.00000763,  86.        ,\n",
       "         85.00000763,  85.00000763,  85.00000763,  85.00000763,\n",
       "         85.00000763,  85.00000763],\n",
       "       [ 85.00000763,  85.00000763,  83.        ,  85.00000763,\n",
       "         85.00000763,  85.00000763,  85.00000763,  86.        ,\n",
       "         85.00000763,  86.        ],\n",
       "       [ 85.00000763,  85.00000763,  84.        ,  86.        ,\n",
       "         85.00000763,  84.        ,  85.00000763,  85.00000763,\n",
       "         85.00000763,  85.00000763]])"
      ]
     },
     "execution_count": 81,
     "metadata": {},
     "output_type": "execute_result"
    }
   ],
   "source": [
    "finblockfin[0]"
   ]
  },
  {
   "cell_type": "code",
   "execution_count": 82,
   "metadata": {
    "collapsed": false
   },
   "outputs": [],
   "source": [
    "rblock5 = []\n",
    "for i in range(len(rblock)):\n",
    "    a = rblock[i]\n",
    "    ab = a[:10,:10]\n",
    "    rblock5.append(ab)"
   ]
  },
  {
   "cell_type": "code",
   "execution_count": 83,
   "metadata": {
    "collapsed": false
   },
   "outputs": [],
   "source": [
    "aaa = []\n",
    "for i in range(10):\n",
    "    for j in range(10):\n",
    "        aa = rblock[0][i][j][0]\n",
    "        aaa.append(aa)"
   ]
  },
  {
   "cell_type": "code",
   "execution_count": 84,
   "metadata": {
    "collapsed": false
   },
   "outputs": [
    {
     "name": "stdout",
     "output_type": "stream",
     "text": [
      "process complete\n"
     ]
    },
    {
     "name": "stderr",
     "output_type": "stream",
     "text": [
      "/Library/Python/2.7/site-packages/ipykernel/__main__.py:18: RuntimeWarning: divide by zero encountered in double_scalars\n",
      "/Library/Python/2.7/site-packages/ipykernel/__main__.py:20: RuntimeWarning: divide by zero encountered in double_scalars\n",
      "/Library/Python/2.7/site-packages/ipykernel/__main__.py:21: RuntimeWarning: divide by zero encountered in double_scalars\n"
     ]
    }
   ],
   "source": [
    "psnr = []\n",
    "mse = []\n",
    "snr = []\n",
    "snrr = []\n",
    "for i in range(224):\n",
    "    aq = rblock5[i]\n",
    "    aw = finblockfin[i]\n",
    "    subtr = []\n",
    "    squ = []\n",
    "    for j in range(10):\n",
    "        for k in range(10):\n",
    "            sub = (aq[j][k] - aw[j][k])**2\n",
    "            subtr.append(sub)\n",
    "            squ1 = aq[j][k]**2\n",
    "            squ.append(squ1)\n",
    "    mse1 = np.sum(subtr)/100.0\n",
    "    mse.append(mse1)\n",
    "    psnr1 = 10*np.log10(65536**2/mse1)\n",
    "    p = 0.01*sum(squ)\n",
    "    snr1 = 10*log10(p/mse1)\n",
    "    snrr.append(20*np.log10(100.0/(mse1**0.5)))\n",
    "    snr.append(snr1)\n",
    "    psnr.append(psnr1)\n",
    "print \"process complete\""
   ]
  },
  {
   "cell_type": "code",
   "execution_count": 85,
   "metadata": {
    "collapsed": false
   },
   "outputs": [
    {
     "ename": "ValueError",
     "evalue": "inf is not in list",
     "output_type": "error",
     "traceback": [
      "\u001b[0;31m---------------------------------------------------------------------------\u001b[0m",
      "\u001b[0;31mValueError\u001b[0m                                Traceback (most recent call last)",
      "\u001b[0;32m<ipython-input-85-8eb17a165e48>\u001b[0m in \u001b[0;36m<module>\u001b[0;34m()\u001b[0m\n\u001b[1;32m      1\u001b[0m \u001b[0;32mfor\u001b[0m \u001b[0mi\u001b[0m \u001b[0;32min\u001b[0m \u001b[0mrange\u001b[0m\u001b[0;34m(\u001b[0m\u001b[0;36m20\u001b[0m\u001b[0;34m)\u001b[0m\u001b[0;34m:\u001b[0m\u001b[0;34m\u001b[0m\u001b[0m\n\u001b[0;32m----> 2\u001b[0;31m     \u001b[0ma\u001b[0m \u001b[0;34m=\u001b[0m \u001b[0mpsnr\u001b[0m\u001b[0;34m.\u001b[0m\u001b[0mindex\u001b[0m\u001b[0;34m(\u001b[0m\u001b[0minf\u001b[0m\u001b[0;34m)\u001b[0m\u001b[0;34m\u001b[0m\u001b[0m\n\u001b[0m\u001b[1;32m      3\u001b[0m     \u001b[0mpsnr\u001b[0m\u001b[0;34m[\u001b[0m\u001b[0ma\u001b[0m\u001b[0;34m]\u001b[0m \u001b[0;34m=\u001b[0m \u001b[0;36m104\u001b[0m\u001b[0;34m\u001b[0m\u001b[0m\n",
      "\u001b[0;31mValueError\u001b[0m: inf is not in list"
     ]
    }
   ],
   "source": [
    "for i in range(20):\n",
    "    a = psnr.index(inf)\n",
    "    psnr[a] = 104"
   ]
  },
  {
   "cell_type": "code",
   "execution_count": 86,
   "metadata": {
    "collapsed": true
   },
   "outputs": [],
   "source": [
    "psnr1 = np.average(psnr)"
   ]
  },
  {
   "cell_type": "code",
   "execution_count": 87,
   "metadata": {
    "collapsed": false
   },
   "outputs": [],
   "source": [
    "sdr = 10*np.log10(variance**2/dist)"
   ]
  },
  {
   "cell_type": "code",
   "execution_count": 88,
   "metadata": {
    "collapsed": false
   },
   "outputs": [
    {
     "data": {
      "image/png": "[encoded data removed]",
      "text/plain": [
       "<matplotlib.figure.Figure at 0x1195c5750>"
      ]
     },
     "metadata": {},
     "output_type": "display_data"
    }
   ],
   "source": [
    "plt.figure(80)\n",
    "plt.plot(range(224),psnr, 'k')\n",
    "plt.xlabel('Band Number')\n",
    "plt.ylabel('PSNR (dB)')\n",
    "plt.title('PSNR vs Band Number')\n",
    "plt.show()"
   ]
  },
  {
   "cell_type": "code",
   "execution_count": 89,
   "metadata": {
    "collapsed": false
   },
   "outputs": [
    {
     "name": "stdout",
     "output_type": "stream",
     "text": [
      "cr =  241.835357625\n",
      "bpp=  0.0661607142857\n",
      "sdr=  50.7365744761\n",
      "psnr=  82.5534684437\n",
      "dist=  2.56954514904\n"
     ]
    }
   ],
   "source": [
    "print 'cr = ', cr\n",
    "print 'bpp= ', bpp\n",
    "print 'sdr= ', sdr\n",
    "print 'psnr= ', psnr1\n",
    "print 'dist= ',dist"
   ]
  },
  {
   "cell_type": "code",
   "execution_count": null,
   "metadata": {
    "collapsed": true
   },
   "outputs": [],
   "source": []
  },
  {
   "cell_type": "code",
   "execution_count": null,
   "metadata": {
    "collapsed": true
   },
   "outputs": [],
   "source": []
  }
 ],
 "metadata": {
  "kernelspec": {
   "display_name": "Python 2",
   "language": "python",
   "name": "python2"
  },
  "language_info": {
   "codemirror_mode": {
    "name": "ipython",
    "version": 2
   },
   "file_extension": ".py",
   "mimetype": "text/x-python",
   "name": "python",
   "nbconvert_exporter": "python",
   "pygments_lexer": "ipython2",
   "version": "2.7.10"
  }
 },
 "nbformat": 4,
 "nbformat_minor": 0
}

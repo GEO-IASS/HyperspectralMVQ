{
 "cells": [
  {
   "cell_type": "code",
   "execution_count": 1,
   "metadata": {
    "collapsed": false
   },
   "outputs": [
    {
     "name": "stdout",
     "output_type": "stream",
     "text": [
      "Populating the interactive namespace from numpy and matplotlib\n"
     ]
    }
   ],
   "source": [
    "%pylab inline"
   ]
  },
  {
   "cell_type": "code",
   "execution_count": 2,
   "metadata": {
    "collapsed": true
   },
   "outputs": [],
   "source": [
    "#Added all Libraries\n",
    "from spectral import *\n",
    "import numpy as np\n",
    "import PIL\n",
    "import matplotlib\n",
    "import matplotlib.pyplot as plt\n",
    "import mpmath as mp"
   ]
  },
  {
   "cell_type": "code",
   "execution_count": 3,
   "metadata": {
    "collapsed": false,
    "scrolled": true
   },
   "outputs": [
    {
     "name": "stdout",
     "output_type": "stream",
     "text": [
      "\tData Source:   '././f090819t01p00r06rdn_b_sc01_ort_img'\n",
      "\t# Rows:           6955\n",
      "\t# Samples:         781\n",
      "\t# Bands:           224\n",
      "\tInterleave:        BIP\n",
      "\tQuantization:  16 bits\n",
      "\tData format:     int16\n",
      "process complete\n",
      "process complete\n"
     ]
    }
   ],
   "source": [
    "#image stored in arr\n",
    "img = open_image('f090819t01p00r06rdn_b_sc01_ort_img.hdr')\n",
    "print img\n",
    "arr = img.load()\n",
    "block = []\n",
    "for i in range(224):\n",
    "    data = arr[2500:2510,450:460,i].astype(np.float32)\n",
    "    block.append(data)\n",
    "print \"process complete\"\n",
    "varblock = []\n",
    "for hg in range(224):\n",
    "    yog = np.var(block[hg])\n",
    "    varblock.append(yog)\n",
    "variance = np.average(varblock)\n",
    "##### considering 40x40 matrix\n",
    "block = []\n",
    "for i in range(224):\n",
    "    data = arr[2500:2540,450:490,i].astype(np.float32)\n",
    "    block.append(data)\n",
    "print \"process complete\""
   ]
  },
  {
   "cell_type": "code",
   "execution_count": 4,
   "metadata": {
    "collapsed": false
   },
   "outputs": [
    {
     "name": "stdout",
     "output_type": "stream",
     "text": [
      "process complete\n"
     ]
    }
   ],
   "source": [
    "#correlation\n",
    "corr = []\n",
    "for i in range(223):\n",
    "    cor = np.corrcoef(block[i].reshape(-1), block[i+1].reshape(-1))[0][1]\n",
    "    corr.append(cor)\n",
    "print \"process complete\""
   ]
  },
  {
   "cell_type": "code",
   "execution_count": 5,
   "metadata": {
    "collapsed": false
   },
   "outputs": [
    {
     "name": "stdout",
     "output_type": "stream",
     "text": [
      "157\n"
     ]
    }
   ],
   "source": [
    "#Pre-Processing of the hyperspectral image, Hawaii. Using GOA technique\n",
    "haha = corr.index(min(corr))\n",
    "print haha"
   ]
  },
  {
   "cell_type": "code",
   "execution_count": 6,
   "metadata": {
    "collapsed": false
   },
   "outputs": [
    {
     "name": "stdout",
     "output_type": "stream",
     "text": [
      "Process Complete\n"
     ]
    }
   ],
   "source": [
    "#greedy ordering algorithm\n",
    "rblock = [] #reference block\n",
    "block1 = [] #all blocks\n",
    "block1 = block\n",
    "rindex = [] #contains all index\n",
    "ifin = []\n",
    "ifin1 = []\n",
    "\n",
    "\n",
    "rindex.append(haha)\n",
    "rblock.append(block1[haha])\n",
    "\n",
    "for gh in range(len(block)):\n",
    "        ifin.append(gh) #ifin will conatin the number od indices\n",
    "        \n",
    "for jk in range(224): \n",
    "    corgoa = [] #conatins correlation of greedy ordering algorithm\n",
    "    Ref = rindex[jk] #Ref will contain the last rindex    \n",
    "    block1.pop(Ref) #Removes that index from the block\n",
    "    yoyo = ifin.pop(Ref) # saves it to a temp variable yoyo\n",
    "    ifin1.append(yoyo) #ifin1 will conatin the final rearranged indexes\n",
    "    for ijk in range(len(block1)):\n",
    "        corr2 = np.corrcoef(rblock[jk].reshape(-1), block1[ijk].reshape(-1))[0][1] #calculate correlation coefficient with respect to the reference block\n",
    "        corgoa.append(corr2)\n",
    "    if len(corgoa) !=0:\n",
    "        indexi = corgoa.index(max(corgoa)) #indexi will contain the index of maximum correlation w.r.t to the rblock\n",
    "        rblock.append(block1[indexi]) #add the corresponding block to the rblock\n",
    "        rindex.append(indexi) \n",
    "    del(corgoa)\n",
    "    del(Ref)\n",
    "print \"Process Complete\""
   ]
  },
  {
   "cell_type": "code",
   "execution_count": 7,
   "metadata": {
    "collapsed": false
   },
   "outputs": [
    {
     "name": "stdout",
     "output_type": "stream",
     "text": [
      "process complete\n"
     ]
    }
   ],
   "source": [
    "corrfin = []\n",
    "for i in range(223):\n",
    "    corfin = np.corrcoef(rblock[i].reshape(-1), rblock[i+1].reshape(-1))[0][1]\n",
    "    corrfin.append(corfin)\n",
    "print \"process complete\""
   ]
  },
  {
   "cell_type": "code",
   "execution_count": 8,
   "metadata": {
    "collapsed": false
   },
   "outputs": [
    {
     "data": {
      "image/png": "[encoded data removed]",
      "text/plain": [
       "<matplotlib.figure.Figure at 0x10d6e1d90>"
      ]
     },
     "metadata": {},
     "output_type": "display_data"
    }
   ],
   "source": [
    "plt.figure(12)\n",
    "plt.plot(range(0,223),corrfin, 'k')\n",
    "plt.xlabel('Band Number')\n",
    "plt.ylabel('Correlation Coefficient')\n",
    "plt.title('Correlation Coefficient vs Band Number after GOA')\n",
    "plt.show()"
   ]
  },
  {
   "cell_type": "code",
   "execution_count": 9,
   "metadata": {
    "collapsed": true
   },
   "outputs": [],
   "source": [
    "from sklearn.preprocessing import normalize"
   ]
  },
  {
   "cell_type": "markdown",
   "metadata": {},
   "source": [
    "def normalize(lst):\n",
    "    s = sum(lst)\n",
    "    return map(lambda x: float(x)/s, lst)\n",
    "def norm(array):\n",
    "    p1 = array.reshape(-1)\n",
    "    x1 = normalize(p1)\n",
    "    y1 = np.array(x1).reshape(-1,10)\n",
    "    return y1"
   ]
  },
  {
   "cell_type": "code",
   "execution_count": 10,
   "metadata": {
    "collapsed": false
   },
   "outputs": [
    {
     "name": "stdout",
     "output_type": "stream",
     "text": [
      "Process Complete\n"
     ]
    }
   ],
   "source": [
    "#normalizing each block\n",
    "rblockn = []\n",
    "maxblock = []\n",
    "minblock = []\n",
    "for q in range(len(rblock)):\n",
    "    xc = rblock[q]\n",
    "    maxxc = np.max(xc)\n",
    "    maxblock.append(maxxc)\n",
    "    minxc = np.min(xc)\n",
    "    minblock.append(minxc)\n",
    "    xcfin = []\n",
    "    for xci in range(len(xc)):\n",
    "        for xcj in range(len(xc)):\n",
    "            xcres = (xc[xci][xcj] - minxc)/(maxxc - minxc) \n",
    "            xcfin.append(xcres)\n",
    "    xcfin1 = np.reshape(xcfin,(40,-1))\n",
    "    rblockn.append(xcfin1)\n",
    "print 'Process Complete'"
   ]
  },
  {
   "cell_type": "code",
   "execution_count": 11,
   "metadata": {
    "collapsed": true
   },
   "outputs": [],
   "source": [
    "def raster(arr):\n",
    "    a = arr\n",
    "    xx = []\n",
    "    for i in range(10):\n",
    "        zz = []\n",
    "        for j in range(10):\n",
    "            x = float(a[i][j])\n",
    "            zz.append(x)\n",
    "        xx.extend(zz)\n",
    "        del zz\n",
    "    return xx"
   ]
  },
  {
   "cell_type": "code",
   "execution_count": 12,
   "metadata": {
    "collapsed": true
   },
   "outputs": [],
   "source": [
    "#imagescanning\n",
    "finlist = []\n",
    "for i in range(224):\n",
    "    rblockyo = rblockn[i]\n",
    "    xx = rblockyo[:10,:10]\n",
    "    yy = raster(xx)\n",
    "    finlist = finlist + yy"
   ]
  },
  {
   "cell_type": "code",
   "execution_count": 13,
   "metadata": {
    "collapsed": false
   },
   "outputs": [
    {
     "data": {
      "text/plain": [
       "22400"
      ]
     },
     "execution_count": 13,
     "metadata": {},
     "output_type": "execute_result"
    }
   ],
   "source": [
    "len(finlist)"
   ]
  },
  {
   "cell_type": "code",
   "execution_count": 14,
   "metadata": {
    "collapsed": false
   },
   "outputs": [],
   "source": [
    "finlist = list(finlist)"
   ]
  },
  {
   "cell_type": "code",
   "execution_count": 15,
   "metadata": {
    "collapsed": false
   },
   "outputs": [
    {
     "data": {
      "text/plain": [
       "0.5555555820465088"
      ]
     },
     "execution_count": 15,
     "metadata": {},
     "output_type": "execute_result"
    }
   ],
   "source": [
    "float(finlist[0])"
   ]
  },
  {
   "cell_type": "code",
   "execution_count": 16,
   "metadata": {
    "collapsed": false
   },
   "outputs": [
    {
     "data": {
      "image/png": "[encoded data removed]",
      "text/plain": [
       "<matplotlib.figure.Figure at 0x19f928e10>"
      ]
     },
     "metadata": {},
     "output_type": "display_data"
    }
   ],
   "source": [
    "plt.figure(29)\n",
    "plt.plot(range(500,1000),finlist[500:1000], 'k')\n",
    "plt.xlabel('Band')\n",
    "plt.ylabel('Correlation')\n",
    "plt.title('Correlation vs band')\n",
    "plt.show()"
   ]
  },
  {
   "cell_type": "code",
   "execution_count": 17,
   "metadata": {
    "collapsed": true
   },
   "outputs": [],
   "source": [
    "from audiolazy import lpc"
   ]
  },
  {
   "cell_type": "code",
   "execution_count": 18,
   "metadata": {
    "collapsed": true
   },
   "outputs": [],
   "source": [
    "y = 40 #frame size"
   ]
  },
  {
   "cell_type": "code",
   "execution_count": 19,
   "metadata": {
    "collapsed": false
   },
   "outputs": [],
   "source": [
    "finli = map (lambda x: finlist[y*x:(x+1)*y], range (len(finlist)/y)) "
   ]
  },
  {
   "cell_type": "code",
   "execution_count": 20,
   "metadata": {
    "collapsed": false
   },
   "outputs": [
    {
     "name": "stdout",
     "output_type": "stream",
     "text": [
      "process complete\n"
     ]
    }
   ],
   "source": [
    "reslpcfin = []\n",
    "errorframe = []\n",
    "coefficient = []\n",
    "lpcfunction = []\n",
    "lpcerror = []\n",
    "errorfull = []\n",
    "for ijk in range(len(finlist)/y):\n",
    "    lpcframe = lpc(finli[ijk],order=3)\n",
    "    lpcfunction.append(lpcframe)\n",
    "    lpcerror.append(lpcframe.error)\n",
    "    reslpc = list(lpcframe(finli[ijk]))\n",
    "    reslpcfin.append(reslpc)\n",
    "    coefficient.append(lpcframe.numerator)\n",
    "    errorfr = []\n",
    "    for ijkl in range(len(reslpc)):\n",
    "        err = finli[ijk][ijkl] - reslpc[ijkl]\n",
    "        errorfr.append(err)\n",
    "        errorfull.append(err)\n",
    "    errorframe.append(errorfr)\n",
    "    del(errorfr)\n",
    "    del(reslpc)\n",
    "    del(lpcframe)\n",
    "print \"process complete\""
   ]
  },
  {
   "cell_type": "code",
   "execution_count": 21,
   "metadata": {
    "collapsed": false
   },
   "outputs": [],
   "source": [
    "from __future__ import with_statement\n",
    "from __future__ import unicode_literals\n",
    "\n",
    "import numpy as np\n",
    "import scipy.cluster\n",
    "from pylab import *\n",
    "\n",
    "class codebook(object):\n",
    "\n",
    "    def __init__(self, input):\n",
    "        self.__vector = []\n",
    "        for i in input:\n",
    "            self.vector.append(np.array(i))\n",
    "        self.__centroid = 0.0\n",
    "\n",
    "    def __str__(self):\n",
    "        return \"centroid:\" + str(self.__centroid) + \" vector_count:\" + str(len(self.__vector))\n",
    "\n",
    "    #The center of the calculation\n",
    "    @property\n",
    "    def centroid(self):\n",
    "        return self.__centroid\n",
    "\n",
    "    def _get_vector(self):\n",
    "        return self.__vector\n",
    "\n",
    "    def _set_vector(self, value):\n",
    "        self.__vector.append(value)\n",
    "\n",
    "    def _del_vector(self):\n",
    "        self.__vector = []\n",
    "\n",
    "    vector = property(_get_vector, _set_vector, _del_vector)\n",
    "\n",
    "    def calc_centroid(self, eps = 0.0):\n",
    "        if len(self.__vector) < 1:\n",
    "            return False\n",
    "\n",
    "        c = np.zeros([len(self.__vector[0])])\n",
    "        for i in self.__vector:\n",
    "            c += i\n",
    "        self.__centroid = (c / len(self.__vector))* (1.0 + eps)\n",
    "\n",
    "        return True\n",
    "\n",
    "\n",
    "\n",
    "class LBG_splitting(object):\n",
    "    \"\"\"LBG+Splitting Algorithm\"\"\"\n",
    "\n",
    "    #Calculation of distortion ( metrics / convergence determination)\n",
    "    def calc_D(self):\n",
    "        result = 0.0\n",
    "        a = []\n",
    "        for code in self.__codebook:\n",
    "            center = code.centroid\n",
    "            for child in code.vector:\n",
    "                result += np.linalg.norm(center - child)\n",
    "                a.append(np.linalg.norm(center - child))\n",
    "        return result , a\n",
    "\n",
    "    def start(self, N, input1, eps = np.float64(0.00001)):\n",
    "        delta = np.float64(0.01)\n",
    "        eps = np.float64(eps)\n",
    "        #Creating the initial code book / initialization\n",
    "        self.__codebook = []\n",
    "        N /= 2\n",
    "        d = int(len(input1)/N)\n",
    "        for i in range(N):\n",
    "            tmp = input1[i*d:(i+1)*d]\n",
    "\n",
    "\n",
    "            #You want to create a minute of the code book of + delta and -delta\n",
    "            code = codebook(tmp)\n",
    "            code.calc_centroid(delta)\n",
    "            self.__codebook.append(code)\n",
    "\n",
    "            code = codebook(tmp)\n",
    "            code.calc_centroid(-1*delta)\n",
    "            self.__codebook.append(code)\n",
    "\n",
    "            \n",
    "        #Strain calculation\n",
    "        global D\n",
    "        distort = self.calc_D()\n",
    "        D = distort[0]\n",
    "        global distortion\n",
    "        distortion = []\n",
    "        distortion.append(distort[1])\n",
    "        cnt = 0\n",
    "        \n",
    "        print \"distortion = \", D\n",
    "        \n",
    "        #Clustering\n",
    "        while True:\n",
    "            #For now , delete the previous results\n",
    "            for i in self.__codebook:\n",
    "                del(i.vector)\n",
    "\n",
    "            #Clustering part\n",
    "            global position\n",
    "            position = []\n",
    "            for vector in input1:\n",
    "                d = np.finfo(np.float64).max\n",
    "                pos = -1\n",
    "                for i in range(len(self.__codebook)):\n",
    "                    code = self.__codebook[i]\n",
    "                    tmp = np.linalg.norm(vector - code.centroid)\n",
    "                    if d >= tmp:\n",
    "                        d = tmp\n",
    "                        pos = i\n",
    "                position.append(pos)\n",
    "                self.__codebook[pos].vector = vector\n",
    "\n",
    "            #Recalculation of the median\n",
    "            temp_codebook = []\n",
    "            for i in self.__codebook:\n",
    "                if i.calc_centroid():\n",
    "                    temp_codebook.append(i)\n",
    "\n",
    "            self.__codebook = temp_codebook\n",
    "\n",
    "\n",
    "            #Calculation of metrics\n",
    "            distort = self.calc_D()\n",
    "            tmp_D = distort[0]\n",
    "            distortion.append(distort[1])\n",
    "            \n",
    "            if (D - tmp_D) / D <= eps:\n",
    "                break\n",
    "\n",
    "            D = tmp_D\n",
    "            print \"distortion = \", D\n",
    "\n",
    "    @property\n",
    "    def codebook(self):\n",
    "        return self.__codebook"
   ]
  },
  {
   "cell_type": "code",
   "execution_count": 22,
   "metadata": {
    "collapsed": false
   },
   "outputs": [
    {
     "name": "stdout",
     "output_type": "stream",
     "text": [
      "distortion =  256.075439539\n",
      "distortion =  51.243468174\n",
      "distortion =  36.8138620474\n",
      "distortion =  33.9689505048\n",
      "distortion =  33.2050846128\n",
      "distortion =  32.6776144755\n",
      "distortion =  32.2351553722\n",
      "distortion =  32.1864887808\n"
     ]
    }
   ],
   "source": [
    "N = 512     #The number of Clusters\n",
    "data = np.array(errorframe)       #Input Data\n",
    "\n",
    "clustering = LBG_splitting()\n",
    "\n",
    "clustering.start(N, data)"
   ]
  },
  {
   "cell_type": "code",
   "execution_count": 23,
   "metadata": {
    "collapsed": false
   },
   "outputs": [],
   "source": [
    "np.sum(distortion[0])\n",
    "dist = D"
   ]
  },
  {
   "cell_type": "raw",
   "metadata": {
    "collapsed": false
   },
   "source": [
    "#plot of distortion\n",
    "\n",
    "for i in range(1,len(distortion)-1):\n",
    "    plt.figure(12+i)\n",
    "    plt.plot(range(len(finlist)/y),distortion[i], 'k')\n",
    "    plt.xlabel('Frame Number')\n",
    "    plt.ylabel('Distortion')\n",
    "    plt.title('Stage 1: Framewise Distortion')\n",
    "    plt.show()"
   ]
  },
  {
   "cell_type": "raw",
   "metadata": {
    "collapsed": false
   },
   "source": [
    "for i in range(len(clustering.codebook)):\n",
    "    codebook = clustering.codebook[i]\n",
    "    print \"Cluster%d\" % (i)\n",
    "    print \"\\tcentroid:%s\" % (codebook.centroid)\n",
    "    print \"\\tvectors:\"\n",
    "    for j in codebook.vector:\n",
    "        print \"\\t\\t%s\" % (j)"
   ]
  },
  {
   "cell_type": "code",
   "execution_count": 24,
   "metadata": {
    "collapsed": false
   },
   "outputs": [
    {
     "name": "stdout",
     "output_type": "stream",
     "text": [
      "560\n"
     ]
    }
   ],
   "source": [
    "a = 0\n",
    "for i in range(len(clustering.codebook)):\n",
    "    a = len(clustering.codebook[i].vector) + a\n",
    "print a"
   ]
  },
  {
   "cell_type": "code",
   "execution_count": 25,
   "metadata": {
    "collapsed": false
   },
   "outputs": [
    {
     "data": {
      "text/plain": [
       "560"
      ]
     },
     "execution_count": 25,
     "metadata": {},
     "output_type": "execute_result"
    }
   ],
   "source": [
    "len(position)"
   ]
  },
  {
   "cell_type": "code",
   "execution_count": 26,
   "metadata": {
    "collapsed": false
   },
   "outputs": [
    {
     "data": {
      "text/plain": [
       "array([ 0.        ,  0.43569377,  0.55667962,  0.68025936,  0.67040832,\n",
       "        0.64167989,  0.56729503,  0.46241248,  0.50099197,  0.45887401,\n",
       "        0.57360759,  0.63637218,  0.49467939,  0.5027612 ,  0.53148965,\n",
       "        0.46064324,  0.57360759,  0.49114092,  0.57537683,  0.63637218,\n",
       "        0.56729503,  0.66210545,  0.82572675,  0.82276154,  0.85567694,\n",
       "        0.6062416 ,  0.59549106,  0.6372568 ,  0.5309872 ,  0.53704853,\n",
       "        0.6130566 ,  0.69304543,  0.66411083,  0.58677583,  0.61571046,\n",
       "        0.58412198,  0.34340185,  0.40865935,  0.63933735,  0.4980718 ])"
      ]
     },
     "execution_count": 26,
     "metadata": {},
     "output_type": "execute_result"
    }
   ],
   "source": [
    "clustering.codebook[position[2]].centroid"
   ]
  },
  {
   "cell_type": "code",
   "execution_count": 27,
   "metadata": {
    "collapsed": false
   },
   "outputs": [],
   "source": [
    "position1 = position[:]"
   ]
  },
  {
   "cell_type": "code",
   "execution_count": 28,
   "metadata": {
    "collapsed": true
   },
   "outputs": [],
   "source": [
    "errordecode = []\n",
    "for ik in position:\n",
    "    abcde = list(clustering.codebook[ik].centroid)\n",
    "    errordecode.append(abcde)"
   ]
  },
  {
   "cell_type": "code",
   "execution_count": 29,
   "metadata": {
    "collapsed": false
   },
   "outputs": [],
   "source": [
    "errordecode1 = errordecode[:]"
   ]
  },
  {
   "cell_type": "code",
   "execution_count": 30,
   "metadata": {
    "collapsed": true
   },
   "outputs": [],
   "source": [
    "errorminus = []\n",
    "for i in range(len(errordecode)):\n",
    "    ret = np.array(errorframe[i]) - np.array(errordecode[i])\n",
    "    errorminus.append(list(ret))\n",
    "    "
   ]
  },
  {
   "cell_type": "code",
   "execution_count": 31,
   "metadata": {
    "collapsed": true
   },
   "outputs": [],
   "source": [
    "errorminus1 = errorminus[:]"
   ]
  },
  {
   "cell_type": "code",
   "execution_count": 32,
   "metadata": {
    "collapsed": false
   },
   "outputs": [],
   "source": [
    "del(distortion)"
   ]
  },
  {
   "cell_type": "code",
   "execution_count": null,
   "metadata": {
    "collapsed": true
   },
   "outputs": [],
   "source": [
    "from __future__ import with_statement\n",
    "from __future__ import unicode_literals\n",
    "\n",
    "import numpy as np\n",
    "import scipy.cluster\n",
    "from pylab import *\n",
    "\n",
    "class codebook(object):\n",
    "\n",
    "    def __init__(self, input):\n",
    "        self.__vector = []\n",
    "        for i in input:\n",
    "            self.vector.append(np.array(i))\n",
    "        self.__centroid = 0.0\n",
    "\n",
    "    def __str__(self):\n",
    "        return \"centroid:\" + str(self.__centroid) + \" vector_count:\" + str(len(self.__vector))\n",
    "\n",
    "    #The center of the calculation\n",
    "    @property\n",
    "    def centroid(self):\n",
    "        return self.__centroid\n",
    "\n",
    "    def _get_vector(self):\n",
    "        return self.__vector\n",
    "\n",
    "    def _set_vector(self, value):\n",
    "        self.__vector.append(value)\n",
    "\n",
    "    def _del_vector(self):\n",
    "        self.__vector = []\n",
    "\n",
    "    vector = property(_get_vector, _set_vector, _del_vector)\n",
    "\n",
    "    def calc_centroid(self, eps = 0.0):\n",
    "        if len(self.__vector) < 1:\n",
    "            return False\n",
    "\n",
    "        c = np.zeros([len(self.__vector[0])])\n",
    "        for i in self.__vector:\n",
    "            c += i\n",
    "        self.__centroid = (c / len(self.__vector))* (1.0 + eps)\n",
    "\n",
    "        return True\n",
    "\n",
    "\n",
    "\n",
    "class LBG_splitting(object):\n",
    "    \"\"\"LBG+Splitting Algorithm\"\"\"\n",
    "\n",
    "    #Calculation of distortion ( metrics / convergence determination)\n",
    "    def calc_D(self):\n",
    "        result = 0.0\n",
    "        a = []\n",
    "        for code in self.__codebook:\n",
    "            center = code.centroid\n",
    "            for child in code.vector:\n",
    "                result += np.linalg.norm(center - child)\n",
    "                a.append(np.linalg.norm(center - child))\n",
    "        return result , a\n",
    "\n",
    "    def start(self, N, input1, eps = np.float64(0.00001)):\n",
    "        delta = np.float64(0.01)\n",
    "        eps = np.float64(eps)\n",
    "        #Creating the initial code book / initialization\n",
    "        self.__codebook = []\n",
    "        N /= 2\n",
    "        d = int(len(input1)/N)\n",
    "        for i in range(N):\n",
    "            tmp = input1[i*d:(i+1)*d]\n",
    "\n",
    "\n",
    "            #You want to create a minute of the code book of + delta and -delta\n",
    "            code = codebook(tmp)\n",
    "            code.calc_centroid(delta)\n",
    "            self.__codebook.append(code)\n",
    "\n",
    "            code = codebook(tmp)\n",
    "            code.calc_centroid(-1*delta)\n",
    "            self.__codebook.append(code)\n",
    "\n",
    "            \n",
    "        #Strain calculation\n",
    "        global D\n",
    "        distort = self.calc_D()\n",
    "        D = distort[0]\n",
    "        global distortion\n",
    "        distortion = []\n",
    "        distortion.append(distort[1])\n",
    "        cnt = 0\n",
    "        \n",
    "        print \"distortion = \", D\n",
    "        \n",
    "        #Clustering\n",
    "        while True:\n",
    "            #For now , delete the previous results\n",
    "            for i in self.__codebook:\n",
    "                del(i.vector)\n",
    "\n",
    "            #Clustering part\n",
    "            global position\n",
    "            position = []\n",
    "            for vector in input1:\n",
    "                d = np.finfo(np.float64).max\n",
    "                pos = -1\n",
    "                for i in range(len(self.__codebook)):\n",
    "                    code = self.__codebook[i]\n",
    "                    tmp = np.linalg.norm(vector - code.centroid)\n",
    "                    if d >= tmp:\n",
    "                        d = tmp\n",
    "                        pos = i\n",
    "                position.append(pos)\n",
    "                self.__codebook[pos].vector = vector\n",
    "\n",
    "            #Recalculation of the median\n",
    "            temp_codebook = []\n",
    "            for i in self.__codebook:\n",
    "                if i.calc_centroid():\n",
    "                    temp_codebook.append(i)\n",
    "\n",
    "            self.__codebook = temp_codebook\n",
    "\n",
    "\n",
    "            #Calculation of metrics\n",
    "            distort = self.calc_D()\n",
    "            tmp_D = distort[0]\n",
    "            distortion.append(distort[1])\n",
    "            \n",
    "            if (D - tmp_D) / D <= eps:\n",
    "                break\n",
    "\n",
    "            D = tmp_D\n",
    "            print \"distortion = \", D\n",
    "\n",
    "    @property\n",
    "    def codebook(self):\n",
    "        return self.__codebook"
   ]
  },
  {
   "cell_type": "code",
   "execution_count": null,
   "metadata": {
    "collapsed": false
   },
   "outputs": [
    {
     "name": "stdout",
     "output_type": "stream",
     "text": [
      "distortion =  35.8797480665\n",
      "distortion =  8.75719340105\n",
      "distortion =  5.59416651694\n",
      "distortion =  5.22659714101\n",
      "distortion = "
     ]
    }
   ],
   "source": [
    "N = 512     #The number of Clusters\n",
    "data = np.array(errorminus)       #Input Data\n",
    "\n",
    "clustering = LBG_splitting()\n",
    "\n",
    "clustering.start(N, data)"
   ]
  },
  {
   "cell_type": "code",
   "execution_count": null,
   "metadata": {
    "collapsed": true
   },
   "outputs": [],
   "source": [
    "dist = D"
   ]
  },
  {
   "cell_type": "code",
   "execution_count": null,
   "metadata": {
    "collapsed": false
   },
   "outputs": [],
   "source": [
    "dist"
   ]
  },
  {
   "cell_type": "raw",
   "metadata": {
    "collapsed": false
   },
   "source": [
    "for i in range(1,len(distortion)-1):\n",
    "    plt.figure(112+i)\n",
    "    plt.plot(range(len(finlist)/y),distortion[i], 'k')\n",
    "    plt.xlabel('Frame Number')\n",
    "    plt.ylabel('Distortion')\n",
    "    plt.title('Stage 2: Framewise Distortion')\n",
    "    plt.show()"
   ]
  },
  {
   "cell_type": "code",
   "execution_count": null,
   "metadata": {
    "collapsed": true
   },
   "outputs": [],
   "source": [
    "errordecode = []\n",
    "for ik in position:\n",
    "    abcde = list(clustering.codebook[ik].centroid)\n",
    "    errordecode.append(abcde)"
   ]
  },
  {
   "cell_type": "code",
   "execution_count": null,
   "metadata": {
    "collapsed": true
   },
   "outputs": [],
   "source": [
    "errordecode2 = errordecode[:]"
   ]
  },
  {
   "cell_type": "code",
   "execution_count": null,
   "metadata": {
    "collapsed": true
   },
   "outputs": [],
   "source": [
    "errorminus = []\n",
    "for i in range(len(errordecode)):\n",
    "    ret = np.array(errorminus1[i]) - np.array(errordecode[i])\n",
    "    errorminus.append(list(ret))"
   ]
  },
  {
   "cell_type": "code",
   "execution_count": null,
   "metadata": {
    "collapsed": true
   },
   "outputs": [],
   "source": [
    "errorminus2 = errorminus[:]"
   ]
  },
  {
   "cell_type": "code",
   "execution_count": null,
   "metadata": {
    "collapsed": true
   },
   "outputs": [],
   "source": [
    "position2 = position[:]"
   ]
  },
  {
   "cell_type": "code",
   "execution_count": null,
   "metadata": {
    "collapsed": true
   },
   "outputs": [],
   "source": [
    "del(distortion)"
   ]
  },
  {
   "cell_type": "code",
   "execution_count": null,
   "metadata": {
    "collapsed": true
   },
   "outputs": [],
   "source": [
    "from __future__ import with_statement\n",
    "from __future__ import unicode_literals\n",
    "\n",
    "import numpy as np\n",
    "import scipy.cluster\n",
    "from pylab import *\n",
    "\n",
    "class codebook(object):\n",
    "\n",
    "    def __init__(self, input):\n",
    "        self.__vector = []\n",
    "        for i in input:\n",
    "            self.vector.append(np.array(i))\n",
    "        self.__centroid = 0.0\n",
    "\n",
    "    def __str__(self):\n",
    "        return \"centroid:\" + str(self.__centroid) + \" vector_count:\" + str(len(self.__vector))\n",
    "\n",
    "    #The center of the calculation\n",
    "    @property\n",
    "    def centroid(self):\n",
    "        return self.__centroid\n",
    "\n",
    "    def _get_vector(self):\n",
    "        return self.__vector\n",
    "\n",
    "    def _set_vector(self, value):\n",
    "        self.__vector.append(value)\n",
    "\n",
    "    def _del_vector(self):\n",
    "        self.__vector = []\n",
    "\n",
    "    vector = property(_get_vector, _set_vector, _del_vector)\n",
    "\n",
    "    def calc_centroid(self, eps = 0.0):\n",
    "        if len(self.__vector) < 1:\n",
    "            return False\n",
    "\n",
    "        c = np.zeros([len(self.__vector[0])])\n",
    "        for i in self.__vector:\n",
    "            c += i\n",
    "        self.__centroid = (c / len(self.__vector))* (1.0 + eps)\n",
    "\n",
    "        return True\n",
    "\n",
    "\n",
    "\n",
    "class LBG_splitting(object):\n",
    "    \"\"\"LBG+Splitting Algorithm\"\"\"\n",
    "\n",
    "    #Calculation of distortion ( metrics / convergence determination)\n",
    "    def calc_D(self):\n",
    "        result = 0.0\n",
    "        a = []\n",
    "        for code in self.__codebook:\n",
    "            center = code.centroid\n",
    "            for child in code.vector:\n",
    "                result += np.linalg.norm(center - child)\n",
    "                a.append(np.linalg.norm(center - child))\n",
    "        return result , a\n",
    "\n",
    "    def start(self, N, input1, eps = np.float64(0.00001)):\n",
    "        delta = np.float64(0.01)\n",
    "        eps = np.float64(eps)\n",
    "        #Creating the initial code book / initialization\n",
    "        self.__codebook = []\n",
    "        N /= 2\n",
    "        d = int(len(input1)/N)\n",
    "        for i in range(N):\n",
    "            tmp = input1[i*d:(i+1)*d]\n",
    "\n",
    "\n",
    "            #You want to create a minute of the code book of + delta and -delta\n",
    "            code = codebook(tmp)\n",
    "            code.calc_centroid(delta)\n",
    "            self.__codebook.append(code)\n",
    "\n",
    "            code = codebook(tmp)\n",
    "            code.calc_centroid(-1*delta)\n",
    "            self.__codebook.append(code)\n",
    "\n",
    "            \n",
    "        #Strain calculation\n",
    "        global D\n",
    "        distort = self.calc_D()\n",
    "        D = distort[0]\n",
    "        global distortion\n",
    "        distortion = []\n",
    "        distortion.append(distort[1])\n",
    "        cnt = 0\n",
    "        \n",
    "        print \"distortion = \", D\n",
    "        \n",
    "        #Clustering\n",
    "        while True:\n",
    "            #For now , delete the previous results\n",
    "            for i in self.__codebook:\n",
    "                del(i.vector)\n",
    "\n",
    "            #Clustering part\n",
    "            global position\n",
    "            position = []\n",
    "            for vector in input1:\n",
    "                d = np.finfo(np.float64).max\n",
    "                pos = -1\n",
    "                for i in range(len(self.__codebook)):\n",
    "                    code = self.__codebook[i]\n",
    "                    tmp = np.linalg.norm(vector - code.centroid)\n",
    "                    if d >= tmp:\n",
    "                        d = tmp\n",
    "                        pos = i\n",
    "                position.append(pos)\n",
    "                self.__codebook[pos].vector = vector\n",
    "\n",
    "            #Recalculation of the median\n",
    "            temp_codebook = []\n",
    "            for i in self.__codebook:\n",
    "                if i.calc_centroid():\n",
    "                    temp_codebook.append(i)\n",
    "\n",
    "            self.__codebook = temp_codebook\n",
    "\n",
    "\n",
    "            #Calculation of metrics\n",
    "            distort = self.calc_D()\n",
    "            tmp_D = distort[0]\n",
    "            distortion.append(distort[1])\n",
    "            \n",
    "            if (D - tmp_D) / D <= eps:\n",
    "                break\n",
    "\n",
    "            D = tmp_D\n",
    "            print \"distortion = \", D\n",
    "\n",
    "    @property\n",
    "    def codebook(self):\n",
    "        return self.__codebook"
   ]
  },
  {
   "cell_type": "code",
   "execution_count": null,
   "metadata": {
    "collapsed": false
   },
   "outputs": [],
   "source": [
    "N = 512     #The number of Clusters\n",
    "data = np.array(errorminus)       #Input Data\n",
    "\n",
    "clustering = LBG_splitting()\n",
    "\n",
    "clustering.start(N, data)"
   ]
  },
  {
   "cell_type": "code",
   "execution_count": null,
   "metadata": {
    "collapsed": false
   },
   "outputs": [],
   "source": [
    "dist = D\n",
    "dist"
   ]
  },
  {
   "cell_type": "raw",
   "metadata": {
    "collapsed": false
   },
   "source": [
    "for i in range(len(clustering.codebook)):\n",
    "    codebook = clustering.codebook[i]\n",
    "    print \"Cluster%d\" % (i)\n",
    "    print \"\\tcentroid:%s\" % (codebook.centroid)\n",
    "    print \"\\tvectors:\"\n",
    "    for j in codebook.vector:\n",
    "        print \"\\t\\t%s\" % (j)"
   ]
  },
  {
   "cell_type": "raw",
   "metadata": {
    "collapsed": false
   },
   "source": [
    "for i in range(1,len(distortion)-1):\n",
    "    plt.figure(212+i)\n",
    "    plt.plot(range(len(finlist)/y),distortion[i], 'k')\n",
    "    plt.xlabel('Frame Number')\n",
    "    plt.ylabel('Distortion')\n",
    "    plt.title('Stage 3: Framewise Distortion')\n",
    "    plt.show()"
   ]
  },
  {
   "cell_type": "code",
   "execution_count": null,
   "metadata": {
    "collapsed": true
   },
   "outputs": [],
   "source": [
    "errordecode = []\n",
    "for ik in position:\n",
    "    abcde = list(clustering.codebook[ik].centroid)\n",
    "    errordecode.append(abcde)"
   ]
  },
  {
   "cell_type": "code",
   "execution_count": null,
   "metadata": {
    "collapsed": true
   },
   "outputs": [],
   "source": [
    "errordecode[:] = errordecode[:]"
   ]
  },
  {
   "cell_type": "code",
   "execution_count": null,
   "metadata": {
    "collapsed": true
   },
   "outputs": [],
   "source": [
    "errorminus = []\n",
    "for i in range(len(errordecode)):\n",
    "    ret = np.array(errorminus2[i]) - np.array(errordecode[i])\n",
    "    errorminus.append(list(ret))"
   ]
  },
  {
   "cell_type": "code",
   "execution_count": null,
   "metadata": {
    "collapsed": true
   },
   "outputs": [],
   "source": [
    "errorminus3 = errorminus[:]"
   ]
  },
  {
   "cell_type": "code",
   "execution_count": null,
   "metadata": {
    "collapsed": true
   },
   "outputs": [],
   "source": [
    "position3 = position[:]"
   ]
  },
  {
   "cell_type": "code",
   "execution_count": null,
   "metadata": {
    "collapsed": false
   },
   "outputs": [],
   "source": [
    "huffcodebook = position"
   ]
  },
  {
   "cell_type": "code",
   "execution_count": null,
   "metadata": {
    "collapsed": false
   },
   "outputs": [],
   "source": [
    "len(position)"
   ]
  },
  {
   "cell_type": "code",
   "execution_count": null,
   "metadata": {
    "collapsed": false
   },
   "outputs": [],
   "source": [
    "from heapq import heappush, heappop, heapify\n",
    "from collections import defaultdict\n",
    " \n",
    "def encode(symb2freq):\n",
    "    \"\"\"Huffman encode the given dict mapping symbols to weights\"\"\"\n",
    "    heap = [[wt, [sym, \"\"]] for sym, wt in symb2freq.items()]\n",
    "    heapify(heap)\n",
    "    while len(heap) > 1:\n",
    "        lo = heappop(heap)\n",
    "        hi = heappop(heap)\n",
    "        for pair in lo[1:]:\n",
    "            pair[1] = '0' + pair[1]\n",
    "        for pair in hi[1:]:\n",
    "            pair[1] = '1' + pair[1]\n",
    "        heappush(heap, [lo[0] + hi[0]] + lo[1:] + hi[1:])\n",
    "    return sorted(heappop(heap)[1:], key=lambda p: (len(p[-1]), p))\n",
    " \n",
    "txt = \"this is an example for huffman encoding\"\n",
    "symb2freq = defaultdict(int)\n",
    "for ch in huffcodebook:\n",
    "    symb2freq[ch] += 1\n",
    "# in Python 3.1+:\n",
    "# symb2freq = collections.Counter(txt)\n",
    "huff = encode(symb2freq)\n",
    "print \"Symbol\\tWeight\\tHuffman Code\"\n",
    "huffsymbol = []\n",
    "hufffreq = []\n",
    "for p in huff:\n",
    "    huffsymbol.append(p[1])\n",
    "    hufffreq.append(symb2freq[p[0]])\n",
    "    #print \"%s\\t%s\\t%s\" % (p[0], symb2freq[p[0]], p[1])"
   ]
  },
  {
   "cell_type": "code",
   "execution_count": null,
   "metadata": {
    "collapsed": false
   },
   "outputs": [],
   "source": [
    "lenhuff = []\n",
    "for i in range(len(huffsymbol)):\n",
    "    yo = huffsymbol[i]\n",
    "    x = str(yo)\n",
    "    ya = x.lstrip('0')\n",
    "    lenhuff.append(len(ya)*hufffreq[i])\n",
    "print sum(lenhuff)"
   ]
  },
  {
   "cell_type": "code",
   "execution_count": null,
   "metadata": {
    "collapsed": false
   },
   "outputs": [],
   "source": [
    "cr = float(len(finlist)*16)/sum(lenhuff)\n",
    "print cr"
   ]
  },
  {
   "cell_type": "code",
   "execution_count": null,
   "metadata": {
    "collapsed": false
   },
   "outputs": [],
   "source": [
    "#BPP\n",
    "bpp = sum(lenhuff)/22400.00\n",
    "print bpp"
   ]
  },
  {
   "cell_type": "code",
   "execution_count": null,
   "metadata": {
    "collapsed": false
   },
   "outputs": [],
   "source": [
    "len(errordecode)"
   ]
  },
  {
   "cell_type": "code",
   "execution_count": null,
   "metadata": {
    "collapsed": false
   },
   "outputs": [],
   "source": [
    "errorfinfin = np.array(errorminus2) + np.array(errordecode2) + np.array(errordecode1)"
   ]
  },
  {
   "cell_type": "code",
   "execution_count": null,
   "metadata": {
    "collapsed": true
   },
   "outputs": [],
   "source": [
    "del(errordecode)"
   ]
  },
  {
   "cell_type": "code",
   "execution_count": null,
   "metadata": {
    "collapsed": true
   },
   "outputs": [],
   "source": [
    "errordecode = errorfinfin[:]"
   ]
  },
  {
   "cell_type": "code",
   "execution_count": null,
   "metadata": {
    "collapsed": false
   },
   "outputs": [],
   "source": [
    "print coefficient[0]\n",
    "print \"---\"\n",
    "print lpcerror[0]\n",
    "print \"---\"\n",
    "print lpcfunction[0] #h\n",
    "print \"---\"\n",
    "print finli[0] #x\n",
    "print \"---\"\n",
    "print reslpcfin[0] #y\n",
    "print \"---\"\n",
    "print errordecode[0] #e"
   ]
  },
  {
   "cell_type": "code",
   "execution_count": null,
   "metadata": {
    "collapsed": true
   },
   "outputs": [],
   "source": [
    "from scipy.signal import lfilter"
   ]
  },
  {
   "cell_type": "code",
   "execution_count": null,
   "metadata": {
    "collapsed": true
   },
   "outputs": [],
   "source": [
    "estx = []"
   ]
  },
  {
   "cell_type": "code",
   "execution_count": null,
   "metadata": {
    "collapsed": true
   },
   "outputs": [],
   "source": [
    "estx.append(reslpcfin[0][0]+errordecode[0][0])"
   ]
  },
  {
   "cell_type": "code",
   "execution_count": null,
   "metadata": {
    "collapsed": false
   },
   "outputs": [],
   "source": [
    "estx"
   ]
  },
  {
   "cell_type": "code",
   "execution_count": null,
   "metadata": {
    "collapsed": true
   },
   "outputs": [],
   "source": [
    "esty = list(lpcfunction[0](estx))"
   ]
  },
  {
   "cell_type": "code",
   "execution_count": null,
   "metadata": {
    "collapsed": false
   },
   "outputs": [],
   "source": [
    "esty"
   ]
  },
  {
   "cell_type": "code",
   "execution_count": null,
   "metadata": {
    "collapsed": false
   },
   "outputs": [],
   "source": [
    "len(lpcfunction)"
   ]
  },
  {
   "cell_type": "code",
   "execution_count": null,
   "metadata": {
    "collapsed": false
   },
   "outputs": [],
   "source": [
    "estx = []\n",
    "esty = []\n",
    "for iq in range(len(errordecode)):\n",
    "    estx1 = []\n",
    "    esty1 = []\n",
    "    for iw in range(len(errordecode[iq])):\n",
    "        estx1.append(reslpcfin[iq][iw]+errordecode[iq][iw])\n",
    "        esty1 = list(lpcfunction[iq](estx1))\n",
    "    esty.append(esty1)\n",
    "    estx.append(estx1)"
   ]
  },
  {
   "cell_type": "code",
   "execution_count": null,
   "metadata": {
    "collapsed": false
   },
   "outputs": [],
   "source": [
    "print estx[0]\n",
    "print finli[0]"
   ]
  },
  {
   "cell_type": "code",
   "execution_count": null,
   "metadata": {
    "collapsed": false
   },
   "outputs": [],
   "source": [
    "print esty[0]\n",
    "print reslpcfin[0]"
   ]
  },
  {
   "cell_type": "code",
   "execution_count": null,
   "metadata": {
    "collapsed": true
   },
   "outputs": [],
   "source": [
    "estxfin = []\n",
    "for yi in estx:\n",
    "    for yu in yi:\n",
    "        estxfin.append(yu)"
   ]
  },
  {
   "cell_type": "code",
   "execution_count": null,
   "metadata": {
    "collapsed": false
   },
   "outputs": [],
   "source": [
    "y = 100\n",
    "estxfin1 = map (lambda x: estxfin[y*x:(x+1)*y], range (len(finlist)/y)) "
   ]
  },
  {
   "cell_type": "code",
   "execution_count": null,
   "metadata": {
    "collapsed": false
   },
   "outputs": [],
   "source": [
    "blockfin = []\n",
    "for iji in estxfin1:\n",
    "    bloc = np.reshape(iji,[10, 10])\n",
    "    blockfin.append(bloc)"
   ]
  },
  {
   "cell_type": "code",
   "execution_count": null,
   "metadata": {
    "collapsed": false
   },
   "outputs": [],
   "source": [
    "len(maxblock)"
   ]
  },
  {
   "cell_type": "code",
   "execution_count": null,
   "metadata": {
    "collapsed": false
   },
   "outputs": [],
   "source": [
    "finblockfin = []\n",
    "for i in range(len(blockfin)):\n",
    "    eega = blockfin[i]\n",
    "    eegamax = np.max(eega)\n",
    "    eegamin = np.min(eega)\n",
    "    oldmax = maxblock[i]\n",
    "    oldmin = minblock[i]\n",
    "    eegvalue = []\n",
    "    for j in range(len(eega)):\n",
    "        for k in range(len(eega)):\n",
    "            ee = ((eega[j][k] - eegamin)*(oldmax - oldmin))/(eegamax - eegamin)\n",
    "            eee = ee  + oldmin\n",
    "            eegvalue.append(eee)\n",
    "    fblock = np.reshape(eegvalue, [10,10])\n",
    "    finblockfin.append(fblock)\n",
    "print \"Process Complete\""
   ]
  },
  {
   "cell_type": "code",
   "execution_count": null,
   "metadata": {
    "collapsed": false
   },
   "outputs": [],
   "source": [
    "finblockfin[0]"
   ]
  },
  {
   "cell_type": "code",
   "execution_count": null,
   "metadata": {
    "collapsed": false
   },
   "outputs": [],
   "source": [
    "rblock5 = []\n",
    "for i in range(len(rblock)):\n",
    "    a = rblock[i]\n",
    "    ab = a[:10,:10]\n",
    "    rblock5.append(ab)"
   ]
  },
  {
   "cell_type": "code",
   "execution_count": null,
   "metadata": {
    "collapsed": false
   },
   "outputs": [],
   "source": [
    "aaa = []\n",
    "for i in range(10):\n",
    "    for j in range(10):\n",
    "        aa = rblock[0][i][j][0]\n",
    "        aaa.append(aa)"
   ]
  },
  {
   "cell_type": "code",
   "execution_count": null,
   "metadata": {
    "collapsed": false
   },
   "outputs": [],
   "source": [
    "psnr = []\n",
    "mse = []\n",
    "snr = []\n",
    "snrr = []\n",
    "for i in range(224):\n",
    "    aq = rblock5[i]\n",
    "    aw = finblockfin[i]\n",
    "    subtr = []\n",
    "    squ = []\n",
    "    for j in range(10):\n",
    "        for k in range(10):\n",
    "            sub = (aq[j][k] - aw[j][k])**2\n",
    "            subtr.append(sub)\n",
    "            squ1 = aq[j][k]**2\n",
    "            squ.append(squ1)\n",
    "    mse1 = np.sum(subtr)/100.0\n",
    "    mse.append(mse1)\n",
    "    psnr1 = 10*np.log10(65536**2/mse1)\n",
    "    p = 0.01*sum(squ)\n",
    "    snr1 = 10*log10(p/mse1)\n",
    "    snrr.append(20*np.log10(100.0/(mse1**0.5)))\n",
    "    snr.append(snr1)\n",
    "    psnr.append(psnr1)\n",
    "print \"process complete\""
   ]
  },
  {
   "cell_type": "code",
   "execution_count": null,
   "metadata": {
    "collapsed": false
   },
   "outputs": [],
   "source": [
    "for i in range(20):\n",
    "    a = psnr.index(inf)\n",
    "    psnr[a] = 104"
   ]
  },
  {
   "cell_type": "code",
   "execution_count": null,
   "metadata": {
    "collapsed": true
   },
   "outputs": [],
   "source": [
    "psnr1 = np.average(psnr)"
   ]
  },
  {
   "cell_type": "code",
   "execution_count": null,
   "metadata": {
    "collapsed": false
   },
   "outputs": [],
   "source": [
    "sdr = 10*np.log10(variance**2/dist)"
   ]
  },
  {
   "cell_type": "code",
   "execution_count": null,
   "metadata": {
    "collapsed": false
   },
   "outputs": [],
   "source": [
    "plt.figure(80)\n",
    "plt.plot(range(224),psnr, 'k')\n",
    "plt.xlabel('Band Number')\n",
    "plt.ylabel('PSNR (dB)')\n",
    "plt.title('PSNR vs Band Number')\n",
    "plt.show()"
   ]
  },
  {
   "cell_type": "code",
   "execution_count": null,
   "metadata": {
    "collapsed": false
   },
   "outputs": [],
   "source": [
    "print 'cr = ', cr\n",
    "print 'bpp= ', bpp\n",
    "print 'sdr= ', sdr\n",
    "print 'psnr= ', psnr1\n",
    "print 'dist= ',dist"
   ]
  },
  {
   "cell_type": "code",
   "execution_count": null,
   "metadata": {
    "collapsed": true
   },
   "outputs": [],
   "source": []
  },
  {
   "cell_type": "code",
   "execution_count": null,
   "metadata": {
    "collapsed": true
   },
   "outputs": [],
   "source": []
  }
 ],
 "metadata": {
  "kernelspec": {
   "display_name": "Python 2",
   "language": "python",
   "name": "python2"
  },
  "language_info": {
   "codemirror_mode": {
    "name": "ipython",
    "version": 2
   },
   "file_extension": ".py",
   "mimetype": "text/x-python",
   "name": "python",
   "nbconvert_exporter": "python",
   "pygments_lexer": "ipython2",
   "version": "2.7.10"
  }
 },
 "nbformat": 4,
 "nbformat_minor": 0
}

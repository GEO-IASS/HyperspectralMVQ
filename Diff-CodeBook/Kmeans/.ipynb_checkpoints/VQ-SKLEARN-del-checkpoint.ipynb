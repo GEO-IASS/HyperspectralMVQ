{
 "cells": [
  {
   "cell_type": "code",
   "execution_count": 41,
   "metadata": {
    "collapsed": false
   },
   "outputs": [
    {
     "name": "stdout",
     "output_type": "stream",
     "text": [
      "Using matplotlib backend: MacOSX\n",
      "Populating the interactive namespace from numpy and matplotlib\n"
     ]
    }
   ],
   "source": [
    "%pylab"
   ]
  },
  {
   "cell_type": "code",
   "execution_count": 42,
   "metadata": {
    "collapsed": true
   },
   "outputs": [],
   "source": [
    "#Added all Libraries\n",
    "from spectral import *\n",
    "import numpy as np\n",
    "import PIL\n",
    "import matplotlib\n",
    "import matplotlib.pyplot as plt\n",
    "import mpmath as mp"
   ]
  },
  {
   "cell_type": "code",
   "execution_count": 47,
   "metadata": {
    "collapsed": false
   },
   "outputs": [
    {
     "name": "stdout",
     "output_type": "stream",
     "text": [
      "\tData Source:   '././f090819t01p00r06rdn_b_sc01_ort_img'\n",
      "\t# Rows:           6955\n",
      "\t# Samples:         781\n",
      "\t# Bands:           224\n",
      "\tInterleave:        BIP\n",
      "\tQuantization:  16 bits\n",
      "\tData format:     int16\n"
     ]
    }
   ],
   "source": [
    "#image stored in arr\n",
    "img = open_image('f090819t01p00r06rdn_b_sc01_ort_img.hdr')\n",
    "print img\n",
    "arr = img.load()"
   ]
  },
  {
   "cell_type": "code",
   "execution_count": 48,
   "metadata": {
    "collapsed": false
   },
   "outputs": [
    {
     "data": {
      "text/plain": [
       "ImageView object:\n",
       "  Display bands       :  (50, 20, 10)\n",
       "  Interpolation       :  <default>\n",
       "  RGB data limits     :\n",
       "    R: [-50.0, 5792.0]\n",
       "    G: [-50.0, 8880.0]\n",
       "    B: [-50.0, 9613.0]"
      ]
     },
     "execution_count": 48,
     "metadata": {},
     "output_type": "execute_result"
    }
   ],
   "source": [
    "imshow(img, (50,20,10))"
   ]
  },
  {
   "cell_type": "code",
   "execution_count": 7,
   "metadata": {
    "collapsed": false
   },
   "outputs": [
    {
     "name": "stdout",
     "output_type": "stream",
     "text": [
      "process complete\n",
      "476510.0\n"
     ]
    }
   ],
   "source": [
    "block = []\n",
    "for i in range(48,53):\n",
    "    data = arr[:,:,i].astype(np.float32)\n",
    "    block.append(data)\n",
    "print \"process complete\"\n",
    "varblock = []\n",
    "for hg in range(len(block)):\n",
    "    yog = np.var(block[hg])\n",
    "    varblock.append(yog)\n",
    "variance = np.average(varblock)\n",
    "print variance"
   ]
  },
  {
   "cell_type": "code",
   "execution_count": 8,
   "metadata": {
    "collapsed": false
   },
   "outputs": [
    {
     "data": {
      "text/plain": [
       "5"
      ]
     },
     "execution_count": 8,
     "metadata": {},
     "output_type": "execute_result"
    }
   ],
   "source": [
    "len(block)"
   ]
  },
  {
   "cell_type": "code",
   "execution_count": 10,
   "metadata": {
    "collapsed": false
   },
   "outputs": [
    {
     "name": "stdout",
     "output_type": "stream",
     "text": [
      "process complete\n"
     ]
    }
   ],
   "source": [
    "#correlation\n",
    "corr = []\n",
    "for i in range(len(block)-1):\n",
    "    cor = np.corrcoef(block[i].reshape(-1), block[i+1].reshape(-1))[0][1]\n",
    "    corr.append(cor)\n",
    "print \"process complete\""
   ]
  },
  {
   "cell_type": "code",
   "execution_count": 11,
   "metadata": {
    "collapsed": false
   },
   "outputs": [
    {
     "name": "stdout",
     "output_type": "stream",
     "text": [
      "0\n"
     ]
    }
   ],
   "source": [
    "#Pre-Processing of the hyperspectral image, Hawaii. Using GOA technique\n",
    "haha = corr.index(min(corr))\n",
    "print haha"
   ]
  },
  {
   "cell_type": "code",
   "execution_count": 12,
   "metadata": {
    "collapsed": false
   },
   "outputs": [
    {
     "name": "stdout",
     "output_type": "stream",
     "text": [
      "Process Complete\n"
     ]
    }
   ],
   "source": [
    "#greedy ordering algorithm\n",
    "rblock = [] #reference block\n",
    "block1 = [] #all blocks\n",
    "block1 = block\n",
    "rindex = [] #contains all index\n",
    "ifin = []\n",
    "ifin1 = []\n",
    "\n",
    "\n",
    "rindex.append(haha)\n",
    "rblock.append(block1[haha])\n",
    "\n",
    "for gh in range(len(block)):\n",
    "        ifin.append(gh) #ifin will conatin the number od indices\n",
    "        \n",
    "for jk in range(len(block)): \n",
    "    corgoa = [] #conatins correlation of greedy ordering algorithm\n",
    "    Ref = rindex[jk] #Ref will contain the last rindex    \n",
    "    block1.pop(Ref) #Removes that index from the block\n",
    "    yoyo = ifin.pop(Ref) # saves it to a temp variable yoyo\n",
    "    ifin1.append(yoyo) #ifin1 will conatin the final rearranged indexes\n",
    "    for ijk in range(len(block1)):\n",
    "        corr2 = np.corrcoef(rblock[jk].reshape(-1), block1[ijk].reshape(-1))[0][1] #calculate correlation coefficient with respect to the reference block\n",
    "        corgoa.append(corr2)\n",
    "    if len(corgoa) !=0:\n",
    "        indexi = corgoa.index(max(corgoa)) #indexi will contain the index of maximum correlation w.r.t to the rblock\n",
    "        rblock.append(block1[indexi]) #add the corresponding block to the rblock\n",
    "        rindex.append(indexi) \n",
    "    del(corgoa)\n",
    "    del(Ref)\n",
    "print \"Process Complete\""
   ]
  },
  {
   "cell_type": "code",
   "execution_count": 23,
   "metadata": {
    "collapsed": false
   },
   "outputs": [
    {
     "name": "stdout",
     "output_type": "stream",
     "text": [
      "process complete\n"
     ]
    }
   ],
   "source": [
    "corrfin = []\n",
    "for i in range(len(block)-1):\n",
    "    corfin = np.corrcoef(rblock[i].reshape(-1), rblock[i+1].reshape(-1))[0][1]\n",
    "    print corfin\n",
    "    corrfin.append(corfin)\n",
    "print \"process complete\""
   ]
  },
  {
   "cell_type": "code",
   "execution_count": 22,
   "metadata": {
    "collapsed": false
   },
   "outputs": [
    {
     "data": {
      "image/png": "[encoded data removed]",
      "text/plain": [
       "<matplotlib.figure.Figure at 0x104e6d1d0>"
      ]
     },
     "metadata": {},
     "output_type": "display_data"
    }
   ],
   "source": [
    "plt.figure(12)\n",
    "plt.plot(range(0,len(block)),corrfin, 'k')\n",
    "plt.xlabel('Band Number')\n",
    "plt.ylabel('Correlation Coefficient')\n",
    "plt.title('Correlation Coefficient vs Band Number after GOA')\n",
    "plt.show()"
   ]
  },
  {
   "cell_type": "code",
   "execution_count": 20,
   "metadata": {
    "collapsed": false
   },
   "outputs": [
    {
     "data": {
      "text/plain": [
       "2776"
      ]
     },
     "execution_count": 20,
     "metadata": {},
     "output_type": "execute_result"
    }
   ],
   "source": [
    "len(rblock[0])"
   ]
  },
  {
   "cell_type": "code",
   "execution_count": 32,
   "metadata": {
    "collapsed": false
   },
   "outputs": [
    {
     "data": {
      "text/plain": [
       "(754, 1)"
      ]
     },
     "execution_count": 32,
     "metadata": {},
     "output_type": "execute_result"
    }
   ],
   "source": [
    "rblock[0][1].shape"
   ]
  },
  {
   "cell_type": "code",
   "execution_count": 25,
   "metadata": {
    "collapsed": false
   },
   "outputs": [
    {
     "name": "stdout",
     "output_type": "stream",
     "text": [
      "Help on function reshape in module numpy.core.fromnumeric:\n",
      "\n",
      "reshape(a, newshape, order='C')\n",
      "    Gives a new shape to an array without changing its data.\n",
      "    \n",
      "    Parameters\n",
      "    ----------\n",
      "    a : array_like\n",
      "        Array to be reshaped.\n",
      "    newshape : int or tuple of ints\n",
      "        The new shape should be compatible with the original shape. If\n",
      "        an integer, then the result will be a 1-D array of that length.\n",
      "        One shape dimension can be -1. In this case, the value is inferred\n",
      "        from the length of the array and remaining dimensions.\n",
      "    order : {'C', 'F', 'A'}, optional\n",
      "        Read the elements of `a` using this index order, and place the elements\n",
      "        into the reshaped array using this index order.  'C' means to\n",
      "        read / write the elements using C-like index order, with the last axis index\n",
      "        changing fastest, back to the first axis index changing slowest.  'F'\n",
      "        means to read / write the elements using Fortran-like index order, with\n",
      "        the first index changing fastest, and the last index changing slowest.\n",
      "        Note that the 'C' and 'F' options take no account of the memory layout\n",
      "        of the underlying array, and only refer to the order of indexing.  'A'\n",
      "        means to read / write the elements in Fortran-like index order if `a` is\n",
      "        Fortran *contiguous* in memory, C-like order otherwise.\n",
      "    \n",
      "    Returns\n",
      "    -------\n",
      "    reshaped_array : ndarray\n",
      "        This will be a new view object if possible; otherwise, it will\n",
      "        be a copy.  Note there is no guarantee of the *memory layout* (C- or\n",
      "        Fortran- contiguous) of the returned array.\n",
      "    \n",
      "    See Also\n",
      "    --------\n",
      "    ndarray.reshape : Equivalent method.\n",
      "    \n",
      "    Notes\n",
      "    -----\n",
      "    It is not always possible to change the shape of an array without\n",
      "    copying the data. If you want an error to be raise if the data is copied,\n",
      "    you should assign the new shape to the shape attribute of the array::\n",
      "    \n",
      "     >>> a = np.zeros((10, 2))\n",
      "     # A transpose make the array non-contiguous\n",
      "     >>> b = a.T\n",
      "     # Taking a view makes it possible to modify the shape without modifying the\n",
      "     # initial object.\n",
      "     >>> c = b.view()\n",
      "     >>> c.shape = (20)\n",
      "     AttributeError: incompatible shape for a non-contiguous array\n",
      "    \n",
      "    The `order` keyword gives the index ordering both for *fetching* the values\n",
      "    from `a`, and then *placing* the values into the output array.  For example,\n",
      "    let's say you have an array:\n",
      "    \n",
      "    >>> a = np.arange(6).reshape((3, 2))\n",
      "    >>> a\n",
      "    array([[0, 1],\n",
      "           [2, 3],\n",
      "           [4, 5]])\n",
      "    \n",
      "    You can think of reshaping as first raveling the array (using the given\n",
      "    index order), then inserting the elements from the raveled array into the\n",
      "    new array using the same kind of index ordering as was used for the\n",
      "    raveling.\n",
      "    \n",
      "    >>> np.reshape(a, (2, 3)) # C-like index ordering\n",
      "    array([[0, 1, 2],\n",
      "           [3, 4, 5]])\n",
      "    >>> np.reshape(np.ravel(a), (2, 3)) # equivalent to C ravel then C reshape\n",
      "    array([[0, 1, 2],\n",
      "           [3, 4, 5]])\n",
      "    >>> np.reshape(a, (2, 3), order='F') # Fortran-like index ordering\n",
      "    array([[0, 4, 3],\n",
      "           [2, 1, 5]])\n",
      "    >>> np.reshape(np.ravel(a, order='F'), (2, 3), order='F')\n",
      "    array([[0, 4, 3],\n",
      "           [2, 1, 5]])\n",
      "    \n",
      "    Examples\n",
      "    --------\n",
      "    >>> a = np.array([[1,2,3], [4,5,6]])\n",
      "    >>> np.reshape(a, 6)\n",
      "    array([1, 2, 3, 4, 5, 6])\n",
      "    >>> np.reshape(a, 6, order='F')\n",
      "    array([1, 4, 2, 5, 3, 6])\n",
      "    \n",
      "    >>> np.reshape(a, (3,-1))       # the unspecified value is inferred to be 2\n",
      "    array([[1, 2],\n",
      "           [3, 4],\n",
      "           [5, 6]])\n",
      "\n"
     ]
    }
   ],
   "source": [
    "help(np.reshape)"
   ]
  },
  {
   "cell_type": "code",
   "execution_count": 33,
   "metadata": {
    "collapsed": false
   },
   "outputs": [
    {
     "name": "stdout",
     "output_type": "stream",
     "text": [
      "Process Complete\n"
     ]
    }
   ],
   "source": [
    "#normalizing each block\n",
    "rblockn = []\n",
    "maxblock = []\n",
    "minblock = []\n",
    "for q in range(len(rblock)):\n",
    "    xc = rblock[q]\n",
    "    maxxc = np.max(xc)\n",
    "    maxblock.append(maxxc)\n",
    "    minxc = np.min(xc)\n",
    "    minblock.append(minxc)\n",
    "    xcfin = []\n",
    "    for xci in range(len(xc)):\n",
    "        for xcj in range(754):\n",
    "            xcres = (xc[xci][xcj] - minxc)/(maxxc - minxc) \n",
    "            xcfin.append(xcres)\n",
    "    xcfin1 = np.reshape(xcfin,(2776,754))\n",
    "    rblockn.append(xcfin1)\n",
    "print 'Process Complete'"
   ]
  },
  {
   "cell_type": "code",
   "execution_count": 34,
   "metadata": {
    "collapsed": true
   },
   "outputs": [],
   "source": [
    "def raster(arr):\n",
    "    a = arr\n",
    "    xx = []\n",
    "    for i in range(2776):\n",
    "        zz = []\n",
    "        for j in range(754):\n",
    "            x = float(a[i][j])\n",
    "            zz.append(x)\n",
    "        xx.extend(zz)\n",
    "        del zz\n",
    "    return xx"
   ]
  },
  {
   "cell_type": "code",
   "execution_count": 35,
   "metadata": {
    "collapsed": true
   },
   "outputs": [],
   "source": [
    "#imagescanning\n",
    "finlist = []\n",
    "for i in range(len(rblock)):\n",
    "    rblockyo = rblockn[i]\n",
    "    xx = rblockyo\n",
    "    yy = raster(xx)\n",
    "    finlist = finlist + yy"
   ]
  },
  {
   "cell_type": "code",
   "execution_count": 36,
   "metadata": {
    "collapsed": false
   },
   "outputs": [
    {
     "data": {
      "text/plain": [
       "10465520"
      ]
     },
     "execution_count": 36,
     "metadata": {},
     "output_type": "execute_result"
    }
   ],
   "source": [
    "len(finlist)"
   ]
  },
  {
   "cell_type": "code",
   "execution_count": null,
   "metadata": {
    "collapsed": false
   },
   "outputs": [],
   "source": [
    "finlist = list(finlist)"
   ]
  },
  {
   "cell_type": "code",
   "execution_count": null,
   "metadata": {
    "collapsed": false
   },
   "outputs": [],
   "source": [
    "plt.figure(29)\n",
    "plt.plot(range(500,1000),finlist[500:1000], 'k')\n",
    "plt.xlabel('Band')\n",
    "plt.ylabel('Correlation')\n",
    "plt.title('Correlation vs band')\n",
    "plt.show()"
   ]
  },
  {
   "cell_type": "code",
   "execution_count": null,
   "metadata": {
    "collapsed": true
   },
   "outputs": [],
   "source": [
    "from audiolazy import lpc"
   ]
  },
  {
   "cell_type": "code",
   "execution_count": null,
   "metadata": {
    "collapsed": true
   },
   "outputs": [],
   "source": [
    "y = 40 #frame size"
   ]
  },
  {
   "cell_type": "code",
   "execution_count": null,
   "metadata": {
    "collapsed": false
   },
   "outputs": [],
   "source": [
    "finli = map (lambda x: finlist[y*x:(x+1)*y], range (len(finlist)/y)) "
   ]
  },
  {
   "cell_type": "code",
   "execution_count": null,
   "metadata": {
    "collapsed": false
   },
   "outputs": [],
   "source": [
    "reslpcfin = []\n",
    "errorframe = []\n",
    "coefficient = []\n",
    "lpcfunction = []\n",
    "lpcerror = []\n",
    "errorfull = []\n",
    "for ijk in range(len(finlist)/y):\n",
    "    lpcframe = lpc(finli[ijk],order=3)\n",
    "    lpcfunction.append(lpcframe)\n",
    "    lpcerror.append(lpcframe.error)\n",
    "    reslpc = list(lpcframe(finli[ijk]))\n",
    "    reslpcfin.append(reslpc)\n",
    "    coefficient.append(lpcframe.numerator)\n",
    "    errorfr = []\n",
    "    for ijkl in range(len(reslpc)):\n",
    "        err = finli[ijk][ijkl] - reslpc[ijkl]\n",
    "        errorfr.append(err)\n",
    "        errorfull.append(err)\n",
    "    errorframe.append(errorfr)\n",
    "    del(errorfr)\n",
    "    del(reslpc)\n",
    "    del(lpcframe)\n",
    "print \"process complete\""
   ]
  },
  {
   "cell_type": "code",
   "execution_count": null,
   "metadata": {
    "collapsed": false
   },
   "outputs": [],
   "source": [
    "#lpcjai1 = lpc(finlist, order=3).plot().show()"
   ]
  },
  {
   "cell_type": "code",
   "execution_count": null,
   "metadata": {
    "collapsed": true
   },
   "outputs": [],
   "source": [
    "from sklearn import cluster"
   ]
  },
  {
   "cell_type": "code",
   "execution_count": null,
   "metadata": {
    "collapsed": true
   },
   "outputs": [],
   "source": [
    "abcd = np.array(errorframe)"
   ]
  },
  {
   "cell_type": "code",
   "execution_count": null,
   "metadata": {
    "collapsed": false
   },
   "outputs": [],
   "source": [
    "K_means = cluster.KMeans(n_clusters=128,max_iter=1,n_init =1, init='k-means++',tol = '1e-5')"
   ]
  },
  {
   "cell_type": "code",
   "execution_count": null,
   "metadata": {
    "collapsed": false
   },
   "outputs": [],
   "source": [
    "fincodebook1 = K_means.fit(abcd)"
   ]
  },
  {
   "cell_type": "code",
   "execution_count": null,
   "metadata": {
    "collapsed": false
   },
   "outputs": [],
   "source": [
    "codebook = K_means.cluster_centers_.squeeze()\n",
    "huffcodebook = list(K_means.labels_)"
   ]
  },
  {
   "cell_type": "code",
   "execution_count": null,
   "metadata": {
    "collapsed": false
   },
   "outputs": [],
   "source": [
    "dist = K_means.inertia_\n",
    "print dist"
   ]
  },
  {
   "cell_type": "code",
   "execution_count": null,
   "metadata": {
    "collapsed": false,
    "scrolled": true
   },
   "outputs": [],
   "source": [
    "#print codebook\n",
    "#print huffcodebook"
   ]
  },
  {
   "cell_type": "code",
   "execution_count": null,
   "metadata": {
    "collapsed": false
   },
   "outputs": [],
   "source": [
    "from heapq import heappush, heappop, heapify\n",
    "from collections import defaultdict\n",
    " \n",
    "def encode(symb2freq):\n",
    "    \"\"\"Huffman encode the given dict mapping symbols to weights\"\"\"\n",
    "    heap = [[wt, [sym, \"\"]] for sym, wt in symb2freq.items()]\n",
    "    heapify(heap)\n",
    "    while len(heap) > 1:\n",
    "        lo = heappop(heap)\n",
    "        hi = heappop(heap)\n",
    "        for pair in lo[1:]:\n",
    "            pair[1] = '0' + pair[1]\n",
    "        for pair in hi[1:]:\n",
    "            pair[1] = '1' + pair[1]\n",
    "        heappush(heap, [lo[0] + hi[0]] + lo[1:] + hi[1:])\n",
    "    return sorted(heappop(heap)[1:], key=lambda p: (len(p[-1]), p))\n",
    " \n",
    "txt = \"this is an example for huffman encoding\"\n",
    "symb2freq = defaultdict(int)\n",
    "for ch in huffcodebook:\n",
    "    symb2freq[ch] += 1\n",
    "# in Python 3.1+:\n",
    "# symb2freq = collections.Counter(txt)\n",
    "huff = encode(symb2freq)\n",
    "print \"Symbol\\tWeight\\tHuffman Code\"\n",
    "huffsymbol = []\n",
    "hufffreq = []\n",
    "for p in huff:\n",
    "    huffsymbol.append(p[1])\n",
    "    hufffreq.append(symb2freq[p[0]])\n",
    "    #print \"%s\\t%s\\t%s\" % (p[0], symb2freq[p[0]], p[1])"
   ]
  },
  {
   "cell_type": "code",
   "execution_count": null,
   "metadata": {
    "collapsed": false
   },
   "outputs": [],
   "source": [
    "lenhuff = []\n",
    "for i in range(len(huffsymbol)):\n",
    "    yo = huffsymbol[i]\n",
    "    x = str(yo)\n",
    "    ya = x.lstrip('0')\n",
    "    lenhuff.append(len(ya)*hufffreq[i])\n",
    "print sum(lenhuff)"
   ]
  },
  {
   "cell_type": "code",
   "execution_count": null,
   "metadata": {
    "collapsed": false
   },
   "outputs": [],
   "source": [
    "len(lenhuff)"
   ]
  },
  {
   "cell_type": "code",
   "execution_count": null,
   "metadata": {
    "collapsed": false
   },
   "outputs": [],
   "source": [
    "cr = float(len(finlist)*16)/sum(lenhuff)\n",
    "print cr"
   ]
  },
  {
   "cell_type": "code",
   "execution_count": null,
   "metadata": {
    "collapsed": true
   },
   "outputs": [],
   "source": [
    "def huffall(y):\n",
    "    finli = map (lambda x: finlist[y*x:(x+1)*y], range (len(finlist)/y)) \n",
    "    print len(finli)\n",
    "    global huffcode, lenhuff\n",
    "    huffcode = []\n",
    "    lenhuff = []\n",
    "    for sym in finli:\n",
    "        frequency = defaultdict(int)\n",
    "        for symbol in sym:\n",
    "            frequency[symbol] += 1\n",
    "\n",
    "        huff = encode(frequency)\n",
    "        #print \"Symbol\".ljust(10) + \"Weight\".ljust(10) + \"Huffman Code\"\n",
    "        repeat = frequency.values()\n",
    "\n",
    "        for i in range(len(huff)):\n",
    "            p = huff[i]\n",
    "            j = repeat[i]\n",
    "            for k in range(j):\n",
    "                x = str(p[1])\n",
    "                ya = x.lstrip('0')\n",
    "                lenyz = len(ya)\n",
    "                #print  p[0] , str(frequency[p[0]]).ljust(10) , ya\n",
    "                lenhuff.append(lenyz)\n",
    "                huffcode.append(p[1])\n",
    "        del frequency\n",
    "    print 'process complete'\n",
    "    print \"The length of Huffcode\", len(huffcode)\n",
    "    cr = float(len(finlist)*16)/sum(lenhuff)\n",
    "    print \"The compression ratio for frame size\", y, \"is\", cr"
   ]
  },
  {
   "cell_type": "code",
   "execution_count": null,
   "metadata": {
    "collapsed": false
   },
   "outputs": [],
   "source": [
    "#BPP\n",
    "bpp = sum(lenhuff)/22400.00\n",
    "print bpp"
   ]
  },
  {
   "cell_type": "code",
   "execution_count": null,
   "metadata": {
    "collapsed": false
   },
   "outputs": [],
   "source": [
    "#huffcodebook - vector de-quantization\n",
    "errordecode = []\n",
    "for ik in huffcodebook:\n",
    "    abcde = list(codebook[ik])\n",
    "    errordecode.append(abcde)"
   ]
  },
  {
   "cell_type": "code",
   "execution_count": null,
   "metadata": {
    "collapsed": false
   },
   "outputs": [],
   "source": [
    "len(errordecode)"
   ]
  },
  {
   "cell_type": "code",
   "execution_count": null,
   "metadata": {
    "collapsed": false
   },
   "outputs": [],
   "source": [
    "print coefficient[0]\n",
    "print \"---\"\n",
    "print lpcerror[0]\n",
    "print \"---\"\n",
    "print lpcfunction[0] #h\n",
    "print \"---\"\n",
    "print finli[0] #x\n",
    "print \"---\"\n",
    "print reslpcfin[0] #y\n",
    "print \"---\"\n",
    "print errordecode[0] #e\n"
   ]
  },
  {
   "cell_type": "code",
   "execution_count": null,
   "metadata": {
    "collapsed": true
   },
   "outputs": [],
   "source": [
    "from scipy.signal import lfilter"
   ]
  },
  {
   "cell_type": "code",
   "execution_count": null,
   "metadata": {
    "collapsed": true
   },
   "outputs": [],
   "source": [
    "estx = []"
   ]
  },
  {
   "cell_type": "code",
   "execution_count": null,
   "metadata": {
    "collapsed": true
   },
   "outputs": [],
   "source": [
    "estx.append(reslpcfin[0][0]+errordecode[0][0])"
   ]
  },
  {
   "cell_type": "code",
   "execution_count": null,
   "metadata": {
    "collapsed": false
   },
   "outputs": [],
   "source": [
    "estx"
   ]
  },
  {
   "cell_type": "code",
   "execution_count": null,
   "metadata": {
    "collapsed": true
   },
   "outputs": [],
   "source": [
    "esty = list(lpcfunction[0](estx))"
   ]
  },
  {
   "cell_type": "code",
   "execution_count": null,
   "metadata": {
    "collapsed": false
   },
   "outputs": [],
   "source": [
    "esty"
   ]
  },
  {
   "cell_type": "code",
   "execution_count": null,
   "metadata": {
    "collapsed": false
   },
   "outputs": [],
   "source": [
    "len(lpcfunction)"
   ]
  },
  {
   "cell_type": "code",
   "execution_count": null,
   "metadata": {
    "collapsed": false
   },
   "outputs": [],
   "source": [
    "estx = []\n",
    "esty = []\n",
    "for iq in range(len(errordecode)):\n",
    "    estx1 = []\n",
    "    esty1 = []\n",
    "    for iw in range(len(errordecode[iq])):\n",
    "        estx1.append(reslpcfin[iq][iw]+errordecode[iq][iw])\n",
    "        esty1 = list(lpcfunction[iq](estx1))\n",
    "    esty.append(esty1)\n",
    "    estx.append(estx1)"
   ]
  },
  {
   "cell_type": "code",
   "execution_count": null,
   "metadata": {
    "collapsed": false
   },
   "outputs": [],
   "source": [
    "print estx[0]\n",
    "print finli[0]"
   ]
  },
  {
   "cell_type": "code",
   "execution_count": null,
   "metadata": {
    "collapsed": false
   },
   "outputs": [],
   "source": [
    "print esty[0]\n",
    "print reslpcfin[0]"
   ]
  },
  {
   "cell_type": "code",
   "execution_count": null,
   "metadata": {
    "collapsed": true
   },
   "outputs": [],
   "source": [
    "estxfin = []\n",
    "for yi in estx:\n",
    "    for yu in yi:\n",
    "        estxfin.append(yu)"
   ]
  },
  {
   "cell_type": "code",
   "execution_count": null,
   "metadata": {
    "collapsed": false
   },
   "outputs": [],
   "source": [
    "y = 100\n",
    "estxfin1 = map (lambda x: estxfin[y*x:(x+1)*y], range (len(finlist)/y)) "
   ]
  },
  {
   "cell_type": "code",
   "execution_count": null,
   "metadata": {
    "collapsed": false
   },
   "outputs": [],
   "source": [
    "blockfin = []\n",
    "for iji in estxfin1:\n",
    "    bloc = np.reshape(iji,[10, 10])\n",
    "    blockfin.append(bloc)"
   ]
  },
  {
   "cell_type": "code",
   "execution_count": null,
   "metadata": {
    "collapsed": false
   },
   "outputs": [],
   "source": [
    "len(maxblock)"
   ]
  },
  {
   "cell_type": "code",
   "execution_count": null,
   "metadata": {
    "collapsed": false
   },
   "outputs": [],
   "source": [
    "finblockfin = []\n",
    "for i in range(len(blockfin)):\n",
    "    eega = blockfin[i]\n",
    "    eegamax = np.max(eega)\n",
    "    eegamin = np.min(eega)\n",
    "    oldmax = maxblock[i]\n",
    "    oldmin = minblock[i]\n",
    "    eegvalue = []\n",
    "    for j in range(len(eega)):\n",
    "        for k in range(len(eega)):\n",
    "            ee = ((eega[j][k] - eegamin)*(oldmax - oldmin))/(eegamax - eegamin)\n",
    "            eee = ee  + oldmin\n",
    "            eegvalue.append(eee)\n",
    "    fblock = np.reshape(eegvalue, [10,10])\n",
    "    finblockfin.append(fblock)\n",
    "print \"Process Complete\""
   ]
  },
  {
   "cell_type": "code",
   "execution_count": null,
   "metadata": {
    "collapsed": false
   },
   "outputs": [],
   "source": [
    "finblockfin[0]"
   ]
  },
  {
   "cell_type": "code",
   "execution_count": null,
   "metadata": {
    "collapsed": false
   },
   "outputs": [],
   "source": [
    "rblock5 = []\n",
    "for i in range(len(rblock)):\n",
    "    a = rblock[i]\n",
    "    ab = a[:10,:10]\n",
    "    rblock5.append(ab)"
   ]
  },
  {
   "cell_type": "code",
   "execution_count": null,
   "metadata": {
    "collapsed": false
   },
   "outputs": [],
   "source": [
    "psnr = []\n",
    "mse = []\n",
    "for i in range(224):\n",
    "    aq = rblock5[i]\n",
    "    aw = finblockfin[i]\n",
    "    subtr = []\n",
    "    for j in range(10):\n",
    "        for k in range(10):\n",
    "            sub = (aq[j][k] - aw[j][k])**2\n",
    "            subtr.append(sub)\n",
    "    mse1 = np.sum(subtr)/100.0\n",
    "    mse.append(mse1)\n",
    "    psnr1 = 10*np.log10(65536**2/mse1)\n",
    "    psnr.append(psnr1)\n",
    "print \"process complete\""
   ]
  },
  {
   "cell_type": "code",
   "execution_count": null,
   "metadata": {
    "collapsed": false
   },
   "outputs": [],
   "source": [
    "for i in range(20):\n",
    "    a = psnr.index(inf)\n",
    "    psnr[a] = 104"
   ]
  },
  {
   "cell_type": "code",
   "execution_count": null,
   "metadata": {
    "collapsed": false
   },
   "outputs": [],
   "source": [
    "psnr1 = np.sum(psnr)/224.0"
   ]
  },
  {
   "cell_type": "code",
   "execution_count": null,
   "metadata": {
    "collapsed": false
   },
   "outputs": [],
   "source": [
    "sdr = 10*np.log10(variance**2/dist)"
   ]
  },
  {
   "cell_type": "code",
   "execution_count": null,
   "metadata": {
    "collapsed": false
   },
   "outputs": [],
   "source": [
    "plt.figure(80)\n",
    "plt.plot(range(224),psnr, 'k')\n",
    "plt.xlabel('Band Number')\n",
    "plt.ylabel('PSNR (dB)')\n",
    "plt.title('PSNR vs Band Number')\n",
    "plt.show()"
   ]
  },
  {
   "cell_type": "code",
   "execution_count": null,
   "metadata": {
    "collapsed": false
   },
   "outputs": [],
   "source": [
    "print 'cr = ', cr\n",
    "print 'bpp= ', bpp\n",
    "print 'sdr= ', sdr\n",
    "print 'psnr= ', psnr1\n",
    "print 'dist= ',dist"
   ]
  },
  {
   "cell_type": "code",
   "execution_count": null,
   "metadata": {
    "collapsed": false
   },
   "outputs": [],
   "source": [
    "variance"
   ]
  },
  {
   "cell_type": "code",
   "execution_count": null,
   "metadata": {
    "collapsed": true
   },
   "outputs": [],
   "source": []
  }
 ],
 "metadata": {
  "kernelspec": {
   "display_name": "Python 2",
   "language": "python",
   "name": "python2"
  },
  "language_info": {
   "codemirror_mode": {
    "name": "ipython",
    "version": 2
   },
   "file_extension": ".py",
   "mimetype": "text/x-python",
   "name": "python",
   "nbconvert_exporter": "python",
   "pygments_lexer": "ipython2",
   "version": "2.7.10"
  }
 },
 "nbformat": 4,
 "nbformat_minor": 0
}

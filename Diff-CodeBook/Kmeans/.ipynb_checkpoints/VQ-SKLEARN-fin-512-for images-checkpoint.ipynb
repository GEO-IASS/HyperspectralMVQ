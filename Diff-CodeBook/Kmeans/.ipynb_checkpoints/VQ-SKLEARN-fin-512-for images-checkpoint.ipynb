{
 "cells": [
  {
   "cell_type": "code",
   "execution_count": 1,
   "metadata": {
    "collapsed": false
   },
   "outputs": [
    {
     "name": "stdout",
     "output_type": "stream",
     "text": [
      "Using matplotlib backend: MacOSX\n",
      "Populating the interactive namespace from numpy and matplotlib\n"
     ]
    }
   ],
   "source": [
    "%pylab"
   ]
  },
  {
   "cell_type": "code",
   "execution_count": 2,
   "metadata": {
    "collapsed": true
   },
   "outputs": [],
   "source": [
    "#Added all Libraries\n",
    "from spectral import *\n",
    "import numpy as np\n",
    "import PIL\n",
    "import matplotlib\n",
    "import matplotlib.pyplot as plt\n",
    "import mpmath as mp"
   ]
  },
  {
   "cell_type": "code",
   "execution_count": 3,
   "metadata": {
    "collapsed": false
   },
   "outputs": [
    {
     "name": "stdout",
     "output_type": "stream",
     "text": [
      "\tData Source:   '././f090819t01p00r06rdn_b_sc01_ort_img'\n",
      "\t# Rows:           6955\n",
      "\t# Samples:         781\n",
      "\t# Bands:           224\n",
      "\tInterleave:        BIP\n",
      "\tQuantization:  16 bits\n",
      "\tData format:     int16\n"
     ]
    }
   ],
   "source": [
    "img = open_image('f090819t01p00r06rdn_b_sc01_ort_img.hdr')\n",
    "print img\n",
    "arr = img.load()"
   ]
  },
  {
   "cell_type": "markdown",
   "metadata": {},
   "source": [
    "Reading Hyperspectral Image. For this example Hawaii"
   ]
  },
  {
   "cell_type": "code",
   "execution_count": null,
   "metadata": {
    "collapsed": false,
    "scrolled": true
   },
   "outputs": [],
   "source": [
    "#image stored in arr\n",
    "block = []\n",
    "for i in range(224):\n",
    "    data = arr[:720,340:350,i].astype(np.float32)\n",
    "    block.append(data)\n",
    "print \"process complete\"\n",
    "varblock = []\n",
    "for hg in range(224):\n",
    "    yog = np.var(block[hg])\n",
    "    varblock.append(yog)\n",
    "variance = np.average(varblock)\n",
    "##### considering 40x40 matrix\n",
    "block = []\n",
    "for i in range(224):\n",
    "    data = arr[710:750,340:380,i].astype(np.float32)\n",
    "    block.append(data)\n",
    "print \"process complete\""
   ]
  },
  {
   "cell_type": "code",
   "execution_count": null,
   "metadata": {
    "collapsed": false
   },
   "outputs": [],
   "source": [
    "imshow(img, (50,20,10))"
   ]
  },
  {
   "cell_type": "code",
   "execution_count": 9,
   "metadata": {
    "collapsed": false
   },
   "outputs": [
    {
     "data": {
      "text/plain": [
       "ImageView object:\n",
       "  Display bands       :  [0]\n",
       "  Interpolation       :  <default>\n",
       "  RGB data limits     :\n",
       "    R: [223.0, 1739.0]\n",
       "    G: [223.0, 1739.0]\n",
       "    B: [223.0, 1739.0]"
      ]
     },
     "execution_count": 9,
     "metadata": {},
     "output_type": "execute_result"
    }
   ],
   "source": [
    "imshow(arr[1000:1700,60:760,100])"
   ]
  },
  {
   "cell_type": "code",
   "execution_count": 10,
   "metadata": {
    "collapsed": true
   },
   "outputs": [],
   "source": [
    "block = []\n",
    "block = arr[1000:1700,60:760,100]"
   ]
  },
  {
   "cell_type": "code",
   "execution_count": null,
   "metadata": {
    "collapsed": false
   },
   "outputs": [],
   "source": [
    "#correlation\n",
    "corr = []\n",
    "for i in range(223):\n",
    "    cor = np.corrcoef(block[i].reshape(-1), block[i+1].reshape(-1))[0][1]\n",
    "    corr.append(cor)\n",
    "print \"process complete\""
   ]
  },
  {
   "cell_type": "code",
   "execution_count": null,
   "metadata": {
    "collapsed": false
   },
   "outputs": [],
   "source": [
    "#Pre-Processing of the hyperspectral image, Hawaii. Using GOA technique\n",
    "haha = corr.index(min(corr))\n",
    "print haha"
   ]
  },
  {
   "cell_type": "code",
   "execution_count": null,
   "metadata": {
    "collapsed": false
   },
   "outputs": [],
   "source": [
    "#greedy ordering algorithm\n",
    "rblock = [] #reference block\n",
    "block1 = [] #all blocks\n",
    "block1 = block\n",
    "rindex = [] #contains all index\n",
    "ifin = []\n",
    "ifin1 = []\n",
    "\n",
    "\n",
    "rindex.append(haha)\n",
    "rblock.append(block1[haha])\n",
    "\n",
    "for gh in range(len(block)):\n",
    "        ifin.append(gh) #ifin will conatin the number od indices\n",
    "        \n",
    "for jk in range(224): \n",
    "    corgoa = [] #conatins correlation of greedy ordering algorithm\n",
    "    Ref = rindex[jk] #Ref will contain the last rindex    \n",
    "    block1.pop(Ref) #Removes that index from the block\n",
    "    yoyo = ifin.pop(Ref) # saves it to a temp variable yoyo\n",
    "    ifin1.append(yoyo) #ifin1 will conatin the final rearranged indexes\n",
    "    for ijk in range(len(block1)):\n",
    "        corr2 = np.corrcoef(rblock[jk].reshape(-1), block1[ijk].reshape(-1))[0][1] #calculate correlation coefficient with respect to the reference block\n",
    "        corgoa.append(corr2)\n",
    "    if len(corgoa) !=0:\n",
    "        indexi = corgoa.index(max(corgoa)) #indexi will contain the index of maximum correlation w.r.t to the rblock\n",
    "        rblock.append(block1[indexi]) #add the corresponding block to the rblock\n",
    "        rindex.append(indexi) \n",
    "    del(corgoa)\n",
    "    del(Ref)\n",
    "print \"Process Complete\""
   ]
  },
  {
   "cell_type": "code",
   "execution_count": null,
   "metadata": {
    "collapsed": false
   },
   "outputs": [],
   "source": [
    "corrfin = []\n",
    "for i in range(223):\n",
    "    corfin = np.corrcoef(rblock[i].reshape(-1), rblock[i+1].reshape(-1))[0][1]\n",
    "    corrfin.append(corfin)\n",
    "print \"process complete\""
   ]
  },
  {
   "cell_type": "code",
   "execution_count": null,
   "metadata": {
    "collapsed": false
   },
   "outputs": [],
   "source": [
    "plt.figure(12)\n",
    "plt.plot(range(0,223),corrfin, 'k')\n",
    "plt.xlabel('Band Number')\n",
    "plt.ylabel('Correlation Coefficient')\n",
    "plt.title('Correlation Coefficient vs Band Number after GOA')\n",
    "plt.show()"
   ]
  },
  {
   "cell_type": "code",
   "execution_count": null,
   "metadata": {
    "collapsed": false
   },
   "outputs": [],
   "source": [
    "#normalizing each block\n",
    "rblockn = []\n",
    "maxblock = []\n",
    "minblock = []\n",
    "for q in range(len(rblock)):\n",
    "    xc = rblock[q]\n",
    "    maxxc = np.max(xc)\n",
    "    maxblock.append(maxxc)\n",
    "    minxc = np.min(xc)\n",
    "    minblock.append(minxc)\n",
    "    xcfin = []\n",
    "    for xci in range(len(xc)):\n",
    "        for xcj in range(len(xc)):\n",
    "            xcres = (xc[xci][xcj] - minxc)/(maxxc - minxc) \n",
    "            xcfin.append(xcres)\n",
    "    xcfin1 = np.reshape(xcfin,(40,-1))\n",
    "    rblockn.append(xcfin1)\n",
    "print 'Process Complete'"
   ]
  },
  {
   "cell_type": "code",
   "execution_count": 12,
   "metadata": {
    "collapsed": true
   },
   "outputs": [],
   "source": [
    "def raster(arr):\n",
    "    a = arr\n",
    "    xx = []\n",
    "    for i in range(700):\n",
    "        zz = []\n",
    "        for j in range(700):\n",
    "            x = float(a[i][j])\n",
    "            zz.append(x)\n",
    "        xx.extend(zz)\n",
    "        del zz\n",
    "    return xx"
   ]
  },
  {
   "cell_type": "code",
   "execution_count": 13,
   "metadata": {
    "collapsed": false
   },
   "outputs": [
    {
     "ename": "TypeError",
     "evalue": "only length-1 arrays can be converted to Python scalars",
     "output_type": "error",
     "traceback": [
      "\u001b[0;31m---------------------------------------------------------------------------\u001b[0m",
      "\u001b[0;31mTypeError\u001b[0m                                 Traceback (most recent call last)",
      "\u001b[0;32m<ipython-input-13-9d907aab7418>\u001b[0m in \u001b[0;36m<module>\u001b[0;34m()\u001b[0m\n\u001b[1;32m      3\u001b[0m \u001b[0mrblockyo\u001b[0m \u001b[0;34m=\u001b[0m \u001b[0mblock\u001b[0m\u001b[0;34m\u001b[0m\u001b[0m\n\u001b[1;32m      4\u001b[0m \u001b[0mxx\u001b[0m \u001b[0;34m=\u001b[0m \u001b[0mrblockyo\u001b[0m\u001b[0;34m[\u001b[0m\u001b[0;34m:\u001b[0m\u001b[0;34m,\u001b[0m\u001b[0;34m:\u001b[0m\u001b[0;34m]\u001b[0m\u001b[0;34m\u001b[0m\u001b[0m\n\u001b[0;32m----> 5\u001b[0;31m \u001b[0myy\u001b[0m \u001b[0;34m=\u001b[0m \u001b[0mraster\u001b[0m\u001b[0;34m(\u001b[0m\u001b[0mxx\u001b[0m\u001b[0;34m)\u001b[0m\u001b[0;34m\u001b[0m\u001b[0m\n\u001b[0m\u001b[1;32m      6\u001b[0m \u001b[0mfinlist\u001b[0m \u001b[0;34m=\u001b[0m \u001b[0mfinlist\u001b[0m \u001b[0;34m+\u001b[0m \u001b[0myy\u001b[0m\u001b[0;34m\u001b[0m\u001b[0m\n",
      "\u001b[0;32m<ipython-input-12-2a56011840c9>\u001b[0m in \u001b[0;36mraster\u001b[0;34m(arr)\u001b[0m\n\u001b[1;32m      5\u001b[0m         \u001b[0mzz\u001b[0m \u001b[0;34m=\u001b[0m \u001b[0;34m[\u001b[0m\u001b[0;34m]\u001b[0m\u001b[0;34m\u001b[0m\u001b[0m\n\u001b[1;32m      6\u001b[0m         \u001b[0;32mfor\u001b[0m \u001b[0mj\u001b[0m \u001b[0;32min\u001b[0m \u001b[0mrange\u001b[0m\u001b[0;34m(\u001b[0m\u001b[0;36m700\u001b[0m\u001b[0;34m)\u001b[0m\u001b[0;34m:\u001b[0m\u001b[0;34m\u001b[0m\u001b[0m\n\u001b[0;32m----> 7\u001b[0;31m             \u001b[0mx\u001b[0m \u001b[0;34m=\u001b[0m \u001b[0mfloat\u001b[0m\u001b[0;34m(\u001b[0m\u001b[0ma\u001b[0m\u001b[0;34m[\u001b[0m\u001b[0mi\u001b[0m\u001b[0;34m]\u001b[0m\u001b[0;34m[\u001b[0m\u001b[0mj\u001b[0m\u001b[0;34m]\u001b[0m\u001b[0;34m)\u001b[0m\u001b[0;34m\u001b[0m\u001b[0m\n\u001b[0m\u001b[1;32m      8\u001b[0m             \u001b[0mzz\u001b[0m\u001b[0;34m.\u001b[0m\u001b[0mappend\u001b[0m\u001b[0;34m(\u001b[0m\u001b[0mx\u001b[0m\u001b[0;34m)\u001b[0m\u001b[0;34m\u001b[0m\u001b[0m\n\u001b[1;32m      9\u001b[0m         \u001b[0mxx\u001b[0m\u001b[0;34m.\u001b[0m\u001b[0mextend\u001b[0m\u001b[0;34m(\u001b[0m\u001b[0mzz\u001b[0m\u001b[0;34m)\u001b[0m\u001b[0;34m\u001b[0m\u001b[0m\n",
      "\u001b[0;31mTypeError\u001b[0m: only length-1 arrays can be converted to Python scalars"
     ]
    }
   ],
   "source": [
    "#imagescanning\n",
    "finlist = []\n",
    "rblockyo = block\n",
    "xx = rblockyo[:,:]\n",
    "yy = raster(xx)\n",
    "finlist = finlist + yy"
   ]
  },
  {
   "cell_type": "code",
   "execution_count": 17,
   "metadata": {
    "collapsed": false
   },
   "outputs": [
    {
     "data": {
      "text/plain": [
       "ImageArray([[[ 1133.]\n",
       "             [ 1134.]\n",
       "             [ 1132.]\n",
       "             [ 1173.]\n",
       "             [ 1186.]\n",
       "             [ 1181.]\n",
       "             [ 1144.]\n",
       "             [ 1115.]\n",
       "             [ 1102.]\n",
       "             [ 1101.]\n",
       "             [ 1093.]\n",
       "             [ 1101.]\n",
       "             [ 1219.]\n",
       "             [ 1243.]\n",
       "             [ 1114.]\n",
       "             [ 1114.]\n",
       "             [ 1074.]\n",
       "             [ 1092.]\n",
       "             [ 1075.]\n",
       "             [ 1064.]\n",
       "             [ 1063.]\n",
       "             [ 1069.]\n",
       "             [ 1069.]\n",
       "             [ 1045.]\n",
       "             [ 1018.]\n",
       "             [ 1010.]\n",
       "             [ 1030.]\n",
       "             [ 1042.]\n",
       "             [ 1048.]\n",
       "             [ 1048.]\n",
       "             [ 1029.]\n",
       "             [ 1021.]\n",
       "             [ 1047.]\n",
       "             [ 1058.]\n",
       "             [ 1051.]\n",
       "             [ 1021.]\n",
       "             [ 1021.]\n",
       "             [ 1013.]\n",
       "             [ 1021.]\n",
       "             [ 1016.]\n",
       "             [ 1007.]\n",
       "             [ 1011.]\n",
       "             [ 1021.]\n",
       "             [ 1021.]\n",
       "             [ 1038.]\n",
       "             [ 1027.]\n",
       "             [ 1025.]\n",
       "             [ 1043.]\n",
       "             [ 1011.]\n",
       "             [ 1002.]\n",
       "             [ 1005.]\n",
       "             [ 1005.]\n",
       "             [ 1022.]\n",
       "             [ 1018.]\n",
       "             [  991.]\n",
       "             [  998.]\n",
       "             [  972.]\n",
       "             [  916.]\n",
       "             [  895.]\n",
       "             [  895.]\n",
       "             [  884.]\n",
       "             [  902.]\n",
       "             [  929.]\n",
       "             [  937.]\n",
       "             [  937.]\n",
       "             [  919.]\n",
       "             [  919.]\n",
       "             [  903.]\n",
       "             [  908.]\n",
       "             [  915.]\n",
       "             [  895.]\n",
       "             [  876.]\n",
       "             [  873.]\n",
       "             [  890.]\n",
       "             [  920.]\n",
       "             [  898.]\n",
       "             [  930.]\n",
       "             [  948.]\n",
       "             [  957.]\n",
       "             [  986.]\n",
       "             [  969.]\n",
       "             [  914.]\n",
       "             [  945.]\n",
       "             [  946.]\n",
       "             [  946.]\n",
       "             [  939.]\n",
       "             [  920.]\n",
       "             [  919.]\n",
       "             [  919.]\n",
       "             [  926.]\n",
       "             [  982.]\n",
       "             [  954.]\n",
       "             [  954.]\n",
       "             [  949.]\n",
       "             [  960.]\n",
       "             [  921.]\n",
       "             [  933.]\n",
       "             [  947.]\n",
       "             [  962.]\n",
       "             [  957.]\n",
       "             [  957.]\n",
       "             [  930.]\n",
       "             [  928.]\n",
       "             [  940.]\n",
       "             [  940.]\n",
       "             [  958.]\n",
       "             [  935.]\n",
       "             [  910.]\n",
       "             [  927.]\n",
       "             [  927.]\n",
       "             [  916.]\n",
       "             [  917.]\n",
       "             [  886.]\n",
       "             [  910.]\n",
       "             [  859.]\n",
       "             [  859.]\n",
       "             [  850.]\n",
       "             [  836.]\n",
       "             [  836.]\n",
       "             [  854.]\n",
       "             [  830.]\n",
       "             [  823.]\n",
       "             [  832.]\n",
       "             [  726.]\n",
       "             [  744.]\n",
       "             [  901.]\n",
       "             [  997.]\n",
       "             [  997.]\n",
       "             [ 1003.]\n",
       "             [ 1056.]\n",
       "             [  904.]\n",
       "             [  952.]\n",
       "             [  919.]\n",
       "             [  817.]\n",
       "             [  810.]\n",
       "             [  877.]\n",
       "             [  870.]\n",
       "             [  870.]\n",
       "             [  968.]\n",
       "             [  988.]\n",
       "             [  906.]\n",
       "             [  913.]\n",
       "             [  880.]\n",
       "             [  942.]\n",
       "             [  941.]\n",
       "             [  902.]\n",
       "             [  919.]\n",
       "             [  934.]\n",
       "             [  847.]\n",
       "             [  857.]\n",
       "             [  859.]\n",
       "             [  884.]\n",
       "             [  881.]\n",
       "             [  844.]\n",
       "             [  861.]\n",
       "             [  867.]\n",
       "             [  862.]\n",
       "             [  862.]\n",
       "             [  864.]\n",
       "             [  837.]\n",
       "             [  871.]\n",
       "             [  850.]\n",
       "             [  830.]\n",
       "             [  845.]\n",
       "             [  856.]\n",
       "             [  834.]\n",
       "             [  834.]\n",
       "             [  834.]\n",
       "             [  813.]\n",
       "             [  835.]\n",
       "             [  847.]\n",
       "             [  756.]\n",
       "             [  713.]\n",
       "             [  810.]\n",
       "             [  829.]\n",
       "             [  749.]\n",
       "             [  874.]\n",
       "             [  916.]\n",
       "             [  916.]\n",
       "             [  888.]\n",
       "             [  964.]\n",
       "             [  963.]\n",
       "             [  882.]\n",
       "             [  894.]\n",
       "             [  936.]\n",
       "             [  997.]\n",
       "             [  979.]\n",
       "             [  944.]\n",
       "             [  944.]\n",
       "             [  977.]\n",
       "             [  988.]\n",
       "             [ 1002.]\n",
       "             [  967.]\n",
       "             [  827.]\n",
       "             [  827.]\n",
       "             [  879.]\n",
       "             [  860.]\n",
       "             [  848.]\n",
       "             [  848.]\n",
       "             [  899.]\n",
       "             [  941.]\n",
       "             [  962.]\n",
       "             [  913.]\n",
       "             [  898.]\n",
       "             [  892.]\n",
       "             [  875.]\n",
       "             [  831.]\n",
       "             [  831.]\n",
       "             [  764.]\n",
       "             [  696.]\n",
       "             [  698.]\n",
       "             [  651.]\n",
       "             [  638.]\n",
       "             [  669.]\n",
       "             [  697.]\n",
       "             [  746.]\n",
       "             [  732.]\n",
       "             [  674.]\n",
       "             [  789.]\n",
       "             [  946.]\n",
       "             [  956.]\n",
       "             [  930.]\n",
       "             [  859.]\n",
       "             [  893.]\n",
       "             [  969.]\n",
       "             [  973.]\n",
       "             [  953.]\n",
       "             [  950.]\n",
       "             [  924.]\n",
       "             [  914.]\n",
       "             [  862.]\n",
       "             [  858.]\n",
       "             [  867.]\n",
       "             [  919.]\n",
       "             [  919.]\n",
       "             [  960.]\n",
       "             [  958.]\n",
       "             [  965.]\n",
       "             [  926.]\n",
       "             [  828.]\n",
       "             [  735.]\n",
       "             [  780.]\n",
       "             [  791.]\n",
       "             [  838.]\n",
       "             [  888.]\n",
       "             [  877.]\n",
       "             [  827.]\n",
       "             [  933.]\n",
       "             [  933.]\n",
       "             [  952.]\n",
       "             [  875.]\n",
       "             [  779.]\n",
       "             [  796.]\n",
       "             [  893.]\n",
       "             [  895.]\n",
       "             [  839.]\n",
       "             [  735.]\n",
       "             [  874.]\n",
       "             [  980.]\n",
       "             [ 1004.]\n",
       "             [  973.]\n",
       "             [  973.]\n",
       "             [  897.]\n",
       "             [  943.]\n",
       "             [ 1049.]\n",
       "             [  986.]\n",
       "             [  874.]\n",
       "             [  901.]\n",
       "             [  814.]\n",
       "             [  851.]\n",
       "             [  895.]\n",
       "             [  961.]\n",
       "             [  951.]\n",
       "             [  891.]\n",
       "             [  891.]\n",
       "             [  826.]\n",
       "             [  839.]\n",
       "             [  879.]\n",
       "             [  855.]\n",
       "             [  889.]\n",
       "             [  913.]\n",
       "             [  950.]\n",
       "             [  885.]\n",
       "             [  980.]\n",
       "             [  833.]\n",
       "             [  776.]\n",
       "             [  794.]\n",
       "             [  794.]\n",
       "             [  965.]\n",
       "             [  991.]\n",
       "             [ 1042.]\n",
       "             [ 1003.]\n",
       "             [  994.]\n",
       "             [  997.]\n",
       "             [  990.]\n",
       "             [  939.]\n",
       "             [  801.]\n",
       "             [  846.]\n",
       "             [  884.]\n",
       "             [  875.]\n",
       "             [  839.]\n",
       "             [  927.]\n",
       "             [  895.]\n",
       "             [  891.]\n",
       "             [ 1077.]\n",
       "             [ 1067.]\n",
       "             [ 1043.]\n",
       "             [ 1014.]\n",
       "             [ 1019.]\n",
       "             [  952.]\n",
       "             [ 1002.]\n",
       "             [ 1061.]\n",
       "             [  991.]\n",
       "             [  939.]\n",
       "             [ 1031.]\n",
       "             [  937.]\n",
       "             [  937.]\n",
       "             [ 1035.]\n",
       "             [ 1005.]\n",
       "             [ 1011.]\n",
       "             [ 1034.]\n",
       "             [ 1042.]\n",
       "             [ 1000.]\n",
       "             [  922.]\n",
       "             [  900.]\n",
       "             [  872.]\n",
       "             [  821.]\n",
       "             [  936.]\n",
       "             [  963.]\n",
       "             [ 1075.]\n",
       "             [ 1060.]\n",
       "             [ 1060.]\n",
       "             [  960.]\n",
       "             [  815.]\n",
       "             [  913.]\n",
       "             [ 1079.]\n",
       "             [ 1059.]\n",
       "             [ 1053.]\n",
       "             [ 1052.]\n",
       "             [ 1111.]\n",
       "             [ 1037.]\n",
       "             [  998.]\n",
       "             [  962.]\n",
       "             [  938.]\n",
       "             [  945.]\n",
       "             [  945.]\n",
       "             [  799.]\n",
       "             [  744.]\n",
       "             [  806.]\n",
       "             [  850.]\n",
       "             [  976.]\n",
       "             [  987.]\n",
       "             [  921.]\n",
       "             [  929.]\n",
       "             [  941.]\n",
       "             [  981.]\n",
       "             [  957.]\n",
       "             [  955.]\n",
       "             [  927.]\n",
       "             [  927.]\n",
       "             [  919.]\n",
       "             [ 1054.]\n",
       "             [ 1026.]\n",
       "             [ 1061.]\n",
       "             [ 1066.]\n",
       "             [ 1005.]\n",
       "             [ 1057.]\n",
       "             [ 1117.]\n",
       "             [ 1128.]\n",
       "             [ 1139.]\n",
       "             [ 1118.]\n",
       "             [ 1058.]\n",
       "             [  851.]\n",
       "             [  798.]\n",
       "             [  798.]\n",
       "             [  783.]\n",
       "             [  833.]\n",
       "             [  832.]\n",
       "             [  805.]\n",
       "             [  837.]\n",
       "             [  833.]\n",
       "             [  788.]\n",
       "             [  748.]\n",
       "             [  831.]\n",
       "             [  930.]\n",
       "             [  934.]\n",
       "             [ 1069.]\n",
       "             [ 1086.]\n",
       "             [ 1051.]\n",
       "             [ 1051.]\n",
       "             [ 1063.]\n",
       "             [ 1043.]\n",
       "             [ 1062.]\n",
       "             [ 1067.]\n",
       "             [ 1063.]\n",
       "             [ 1059.]\n",
       "             [  971.]\n",
       "             [  984.]\n",
       "             [  985.]\n",
       "             [ 1003.]\n",
       "             [  984.]\n",
       "             [  977.]\n",
       "             [ 1036.]\n",
       "             [ 1025.]\n",
       "             [ 1025.]\n",
       "             [  979.]\n",
       "             [  950.]\n",
       "             [  882.]\n",
       "             [  863.]\n",
       "             [  857.]\n",
       "             [  823.]\n",
       "             [  789.]\n",
       "             [  796.]\n",
       "             [  807.]\n",
       "             [  803.]\n",
       "             [  915.]\n",
       "             [  932.]\n",
       "             [  932.]\n",
       "             [  909.]\n",
       "             [  907.]\n",
       "             [  880.]\n",
       "             [  869.]\n",
       "             [  921.]\n",
       "             [  929.]\n",
       "             [  961.]\n",
       "             [  967.]\n",
       "             [  986.]\n",
       "             [ 1017.]\n",
       "             [  931.]\n",
       "             [  899.]\n",
       "             [  873.]\n",
       "             [  873.]\n",
       "             [  908.]\n",
       "             [  978.]\n",
       "             [  996.]\n",
       "             [ 1010.]\n",
       "             [  986.]\n",
       "             [  956.]\n",
       "             [  953.]\n",
       "             [  912.]\n",
       "             [  919.]\n",
       "             [ 1064.]\n",
       "             [  908.]\n",
       "             [  755.]\n",
       "             [  918.]\n",
       "             [  918.]\n",
       "             [  927.]\n",
       "             [  901.]\n",
       "             [  977.]\n",
       "             [  967.]\n",
       "             [  924.]\n",
       "             [  990.]\n",
       "             [  974.]\n",
       "             [  984.]\n",
       "             [  911.]\n",
       "             [  933.]\n",
       "             [  929.]\n",
       "             [  923.]\n",
       "             [  895.]\n",
       "             [  944.]\n",
       "             [  986.]\n",
       "             [ 1020.]\n",
       "             [  987.]\n",
       "             [ 1048.]\n",
       "             [ 1060.]\n",
       "             [ 1077.]\n",
       "             [ 1072.]\n",
       "             [ 1066.]\n",
       "             [ 1016.]\n",
       "             [  977.]\n",
       "             [  998.]\n",
       "             [  998.]\n",
       "             [  940.]\n",
       "             [  945.]\n",
       "             [  920.]\n",
       "             [  953.]\n",
       "             [  963.]\n",
       "             [  988.]\n",
       "             [  917.]\n",
       "             [  925.]\n",
       "             [  967.]\n",
       "             [ 1023.]\n",
       "             [  964.]\n",
       "             [  911.]\n",
       "             [  911.]\n",
       "             [  964.]\n",
       "             [  935.]\n",
       "             [  998.]\n",
       "             [ 1039.]\n",
       "             [ 1004.]\n",
       "             [ 1026.]\n",
       "             [  968.]\n",
       "             [ 1066.]\n",
       "             [ 1016.]\n",
       "             [  976.]\n",
       "             [ 1047.]\n",
       "             [ 1058.]\n",
       "             [ 1058.]\n",
       "             [ 1030.]\n",
       "             [ 1051.]\n",
       "             [ 1073.]\n",
       "             [  976.]\n",
       "             [ 1027.]\n",
       "             [ 1088.]\n",
       "             [ 1152.]\n",
       "             [ 1097.]\n",
       "             [  997.]\n",
       "             [  965.]\n",
       "             [  997.]\n",
       "             [  997.]\n",
       "             [ 1071.]\n",
       "             [ 1115.]\n",
       "             [ 1093.]\n",
       "             [ 1031.]\n",
       "             [ 1047.]\n",
       "             [ 1040.]\n",
       "             [ 1012.]\n",
       "             [ 1055.]\n",
       "             [ 1030.]\n",
       "             [ 1038.]\n",
       "             [ 1125.]\n",
       "             [ 1081.]\n",
       "             [ 1081.]\n",
       "             [ 1057.]\n",
       "             [ 1004.]\n",
       "             [  996.]\n",
       "             [ 1015.]\n",
       "             [ 1084.]\n",
       "             [ 1083.]\n",
       "             [ 1038.]\n",
       "             [ 1011.]\n",
       "             [ 1017.]\n",
       "             [ 1074.]\n",
       "             [ 1041.]\n",
       "             [ 1074.]\n",
       "             [ 1121.]\n",
       "             [ 1112.]\n",
       "             [ 1051.]\n",
       "             [ 1025.]\n",
       "             [ 1108.]\n",
       "             [ 1137.]\n",
       "             [ 1105.]\n",
       "             [ 1110.]\n",
       "             [ 1095.]\n",
       "             [ 1095.]\n",
       "             [ 1140.]\n",
       "             [ 1121.]\n",
       "             [ 1074.]\n",
       "             [ 1095.]\n",
       "             [ 1088.]\n",
       "             [ 1111.]\n",
       "             [ 1066.]\n",
       "             [ 1115.]\n",
       "             [ 1234.]\n",
       "             [ 1218.]\n",
       "             [ 1232.]\n",
       "             [ 1232.]\n",
       "             [ 1187.]\n",
       "             [ 1256.]\n",
       "             [ 1199.]\n",
       "             [ 1196.]\n",
       "             [ 1212.]\n",
       "             [ 1260.]\n",
       "             [ 1317.]\n",
       "             [ 1290.]\n",
       "             [ 1239.]\n",
       "             [ 1230.]\n",
       "             [ 1230.]\n",
       "             [ 1165.]\n",
       "             [ 1129.]\n",
       "             [ 1171.]\n",
       "             [ 1140.]\n",
       "             [ 1044.]\n",
       "             [ 1030.]\n",
       "             [ 1208.]\n",
       "             [ 1277.]\n",
       "             [ 1236.]\n",
       "             [ 1209.]\n",
       "             [ 1209.]\n",
       "             [ 1069.]\n",
       "             [ 1007.]\n",
       "             [ 1010.]\n",
       "             [ 1156.]\n",
       "             [ 1114.]\n",
       "             [ 1009.]\n",
       "             [ 1134.]\n",
       "             [ 1147.]\n",
       "             [ 1114.]\n",
       "             [ 1114.]\n",
       "             [ 1017.]\n",
       "             [ 1125.]\n",
       "             [ 1090.]\n",
       "             [ 1180.]\n",
       "             [ 1249.]\n",
       "             [ 1219.]\n",
       "             [ 1145.]\n",
       "             [ 1119.]\n",
       "             [ 1131.]\n",
       "             [ 1156.]\n",
       "             [ 1156.]\n",
       "             [ 1171.]\n",
       "             [ 1123.]\n",
       "             [ 1074.]\n",
       "             [ 1103.]\n",
       "             [ 1211.]\n",
       "             [ 1245.]\n",
       "             [ 1159.]\n",
       "             [ 1225.]\n",
       "             [ 1251.]\n",
       "             [ 1224.]\n",
       "             [ 1211.]\n",
       "             [ 1241.]\n",
       "             [ 1195.]\n",
       "             [ 1192.]\n",
       "             [ 1196.]\n",
       "             [ 1245.]\n",
       "             [ 1202.]\n",
       "             [ 1239.]\n",
       "             [ 1267.]\n",
       "             [ 1258.]\n",
       "             [ 1228.]\n",
       "             [ 1204.]\n",
       "             [ 1160.]\n",
       "             [ 1203.]\n",
       "             [ 1195.]\n",
       "             [ 1146.]\n",
       "             [ 1150.]\n",
       "             [ 1150.]\n",
       "             [ 1216.]\n",
       "             [ 1154.]\n",
       "             [ 1149.]\n",
       "             [ 1151.]\n",
       "             [ 1181.]\n",
       "             [ 1161.]\n",
       "             [ 1098.]\n",
       "             [ 1128.]\n",
       "             [ 1128.]\n",
       "             [ 1136.]\n",
       "             [ 1169.]\n",
       "             [ 1185.]\n",
       "             [ 1162.]\n",
       "             [ 1150.]\n",
       "             [ 1141.]\n",
       "             [ 1101.]\n",
       "             [ 1102.]\n",
       "             [ 1102.]\n",
       "             [ 1151.]\n",
       "             [ 1150.]\n",
       "             [ 1131.]\n",
       "             [ 1139.]\n",
       "             [ 1153.]\n",
       "             [ 1174.]\n",
       "             [ 1058.]\n",
       "             [  985.]\n",
       "             [  985.]\n",
       "             [  948.]\n",
       "             [  953.]\n",
       "             [ 1062.]\n",
       "             [ 1098.]\n",
       "             [ 1075.]\n",
       "             [ 1060.]\n",
       "             [ 1055.]\n",
       "             [ 1055.]\n",
       "             [ 1051.]\n",
       "             [ 1154.]\n",
       "             [ 1261.]\n",
       "             [ 1324.]\n",
       "             [ 1287.]\n",
       "             [ 1371.]\n",
       "             [ 1315.]\n",
       "             [ 1307.]\n",
       "             [ 1307.]\n",
       "             [ 1270.]\n",
       "             [ 1213.]\n",
       "             [ 1190.]\n",
       "             [ 1213.]\n",
       "             [ 1238.]\n",
       "             [ 1218.]\n",
       "             [ 1261.]\n",
       "             [ 1261.]\n",
       "             [ 1224.]\n",
       "             [ 1253.]\n",
       "             [ 1179.]\n",
       "             [ 1188.]\n",
       "             [ 1326.]\n",
       "             [ 1276.]\n",
       "             [ 1272.]\n",
       "             [ 1164.]\n",
       "             [ 1024.]\n",
       "             [  995.]\n",
       "             [ 1020.]\n",
       "             [ 1051.]\n",
       "             [ 1121.]\n",
       "             [ 1134.]\n",
       "             [ 1276.]\n",
       "             [ 1120.]\n",
       "             [ 1102.]\n",
       "             [ 1202.]\n",
       "             [ 1273.]\n",
       "             [ 1164.]]], dtype=float32)"
      ]
     },
     "execution_count": 17,
     "metadata": {},
     "output_type": "execute_result"
    }
   ],
   "source": []
  },
  {
   "cell_type": "code",
   "execution_count": null,
   "metadata": {
    "collapsed": false
   },
   "outputs": [],
   "source": [
    "len(finlist)"
   ]
  },
  {
   "cell_type": "code",
   "execution_count": null,
   "metadata": {
    "collapsed": false
   },
   "outputs": [],
   "source": [
    "finlist = list(finlist)"
   ]
  },
  {
   "cell_type": "code",
   "execution_count": null,
   "metadata": {
    "collapsed": false
   },
   "outputs": [],
   "source": [
    "plt.figure(29)\n",
    "plt.plot(range(500,1000),finlist[500:1000], 'k')\n",
    "plt.xlabel('Band')\n",
    "plt.ylabel('Correlation')\n",
    "plt.title('Correlation vs band')\n",
    "plt.show()"
   ]
  },
  {
   "cell_type": "code",
   "execution_count": null,
   "metadata": {
    "collapsed": true
   },
   "outputs": [],
   "source": [
    "from audiolazy import lpc"
   ]
  },
  {
   "cell_type": "code",
   "execution_count": null,
   "metadata": {
    "collapsed": true
   },
   "outputs": [],
   "source": [
    "y = 40 #frame size"
   ]
  },
  {
   "cell_type": "code",
   "execution_count": null,
   "metadata": {
    "collapsed": false
   },
   "outputs": [],
   "source": [
    "finli = map (lambda x: finlist[y*x:(x+1)*y], range (len(finlist)/y)) "
   ]
  },
  {
   "cell_type": "code",
   "execution_count": null,
   "metadata": {
    "collapsed": false
   },
   "outputs": [],
   "source": [
    "reslpcfin = []\n",
    "errorframe = []\n",
    "coefficient = []\n",
    "lpcfunction = []\n",
    "lpcerror = []\n",
    "errorfull = []\n",
    "for ijk in range(len(finlist)/y):\n",
    "    lpcframe = lpc(finli[ijk],order=3)\n",
    "    lpcfunction.append(lpcframe)\n",
    "    lpcerror.append(lpcframe.error)\n",
    "    reslpc = list(lpcframe(finli[ijk]))\n",
    "    reslpcfin.append(reslpc)\n",
    "    coefficient.append(lpcframe.numerator)\n",
    "    errorfr = []\n",
    "    for ijkl in range(len(reslpc)):\n",
    "        err = finli[ijk][ijkl] - reslpc[ijkl]\n",
    "        errorfr.append(err)\n",
    "        errorfull.append(err)\n",
    "    errorframe.append(errorfr)\n",
    "    del(errorfr)\n",
    "    del(reslpc)\n",
    "    del(lpcframe)\n",
    "print \"process complete\""
   ]
  },
  {
   "cell_type": "code",
   "execution_count": null,
   "metadata": {
    "collapsed": false
   },
   "outputs": [],
   "source": [
    "#lpcjai1 = lpc(finlist, order=3).plot().show()"
   ]
  },
  {
   "cell_type": "code",
   "execution_count": null,
   "metadata": {
    "collapsed": true
   },
   "outputs": [],
   "source": [
    "from sklearn import cluster"
   ]
  },
  {
   "cell_type": "code",
   "execution_count": null,
   "metadata": {
    "collapsed": true
   },
   "outputs": [],
   "source": [
    "abcd = np.array(errorframe)"
   ]
  },
  {
   "cell_type": "code",
   "execution_count": null,
   "metadata": {
    "collapsed": false
   },
   "outputs": [],
   "source": [
    "K_means = cluster.KMeans(n_clusters=512,max_iter=1,n_init =1, init='k-means++',tol = '1e-5')"
   ]
  },
  {
   "cell_type": "code",
   "execution_count": null,
   "metadata": {
    "collapsed": false
   },
   "outputs": [],
   "source": [
    "fincodebook1 = K_means.fit(abcd)"
   ]
  },
  {
   "cell_type": "code",
   "execution_count": null,
   "metadata": {
    "collapsed": false
   },
   "outputs": [],
   "source": [
    "codebook = K_means.cluster_centers_.squeeze()\n",
    "huffcodebook = list(K_means.labels_)"
   ]
  },
  {
   "cell_type": "code",
   "execution_count": null,
   "metadata": {
    "collapsed": false
   },
   "outputs": [],
   "source": [
    "dist = K_means.inertia_\n",
    "print dist"
   ]
  },
  {
   "cell_type": "code",
   "execution_count": null,
   "metadata": {
    "collapsed": false,
    "scrolled": true
   },
   "outputs": [],
   "source": [
    "#print codebook\n",
    "#print huffcodebook"
   ]
  },
  {
   "cell_type": "code",
   "execution_count": null,
   "metadata": {
    "collapsed": false
   },
   "outputs": [],
   "source": [
    "from heapq import heappush, heappop, heapify\n",
    "from collections import defaultdict\n",
    " \n",
    "def encode(symb2freq):\n",
    "    \"\"\"Huffman encode the given dict mapping symbols to weights\"\"\"\n",
    "    heap = [[wt, [sym, \"\"]] for sym, wt in symb2freq.items()]\n",
    "    heapify(heap)\n",
    "    while len(heap) > 1:\n",
    "        lo = heappop(heap)\n",
    "        hi = heappop(heap)\n",
    "        for pair in lo[1:]:\n",
    "            pair[1] = '0' + pair[1]\n",
    "        for pair in hi[1:]:\n",
    "            pair[1] = '1' + pair[1]\n",
    "        heappush(heap, [lo[0] + hi[0]] + lo[1:] + hi[1:])\n",
    "    return sorted(heappop(heap)[1:], key=lambda p: (len(p[-1]), p))\n",
    " \n",
    "txt = \"this is an example for huffman encoding\"\n",
    "symb2freq = defaultdict(int)\n",
    "for ch in huffcodebook:\n",
    "    symb2freq[ch] += 1\n",
    "# in Python 3.1+:\n",
    "# symb2freq = collections.Counter(txt)\n",
    "huff = encode(symb2freq)\n",
    "print \"Symbol\\tWeight\\tHuffman Code\"\n",
    "huffsymbol = []\n",
    "hufffreq = []\n",
    "for p in huff:\n",
    "    huffsymbol.append(p[1])\n",
    "    hufffreq.append(symb2freq[p[0]])\n",
    "    #print \"%s\\t%s\\t%s\" % (p[0], symb2freq[p[0]], p[1])"
   ]
  },
  {
   "cell_type": "code",
   "execution_count": null,
   "metadata": {
    "collapsed": false
   },
   "outputs": [],
   "source": [
    "lenhuff = []\n",
    "for i in range(len(huffsymbol)):\n",
    "    yo = huffsymbol[i]\n",
    "    x = str(yo)\n",
    "    ya = x.lstrip('0')\n",
    "    lenhuff.append(len(ya)*hufffreq[i])\n",
    "print sum(lenhuff)"
   ]
  },
  {
   "cell_type": "code",
   "execution_count": null,
   "metadata": {
    "collapsed": false
   },
   "outputs": [],
   "source": [
    "len(lenhuff)"
   ]
  },
  {
   "cell_type": "code",
   "execution_count": null,
   "metadata": {
    "collapsed": false
   },
   "outputs": [],
   "source": [
    "cr = float(len(finlist)*16)/sum(lenhuff)\n",
    "print cr"
   ]
  },
  {
   "cell_type": "code",
   "execution_count": null,
   "metadata": {
    "collapsed": true
   },
   "outputs": [],
   "source": [
    "def huffall(y):\n",
    "    finli = map (lambda x: finlist[y*x:(x+1)*y], range (len(finlist)/y)) \n",
    "    print len(finli)\n",
    "    global huffcode, lenhuff\n",
    "    huffcode = []\n",
    "    lenhuff = []\n",
    "    for sym in finli:\n",
    "        frequency = defaultdict(int)\n",
    "        for symbol in sym:\n",
    "            frequency[symbol] += 1\n",
    "\n",
    "        huff = encode(frequency)\n",
    "        #print \"Symbol\".ljust(10) + \"Weight\".ljust(10) + \"Huffman Code\"\n",
    "        repeat = frequency.values()\n",
    "\n",
    "        for i in range(len(huff)):\n",
    "            p = huff[i]\n",
    "            j = repeat[i]\n",
    "            for k in range(j):\n",
    "                x = str(p[1])\n",
    "                ya = x.lstrip('0')\n",
    "                lenyz = len(ya)\n",
    "                #print  p[0] , str(frequency[p[0]]).ljust(10) , ya\n",
    "                lenhuff.append(lenyz)\n",
    "                huffcode.append(p[1])\n",
    "        del frequency\n",
    "    print 'process complete'\n",
    "    print \"The length of Huffcode\", len(huffcode)\n",
    "    cr = float(len(finlist)*16)/sum(lenhuff)\n",
    "    print \"The compression ratio for frame size\", y, \"is\", cr"
   ]
  },
  {
   "cell_type": "code",
   "execution_count": null,
   "metadata": {
    "collapsed": false
   },
   "outputs": [],
   "source": [
    "#BPP\n",
    "bpp = sum(lenhuff)/22400.00\n",
    "print bpp"
   ]
  },
  {
   "cell_type": "code",
   "execution_count": null,
   "metadata": {
    "collapsed": false
   },
   "outputs": [],
   "source": [
    "#huffcodebook - vector de-quantization\n",
    "errordecode = []\n",
    "for ik in huffcodebook:\n",
    "    abcde = list(codebook[ik])\n",
    "    errordecode.append(abcde)"
   ]
  },
  {
   "cell_type": "code",
   "execution_count": null,
   "metadata": {
    "collapsed": false
   },
   "outputs": [],
   "source": [
    "len(errordecode)"
   ]
  },
  {
   "cell_type": "code",
   "execution_count": null,
   "metadata": {
    "collapsed": false
   },
   "outputs": [],
   "source": [
    "print coefficient[0]\n",
    "print \"---\"\n",
    "print lpcerror[0]\n",
    "print \"---\"\n",
    "print lpcfunction[0] #h\n",
    "print \"---\"\n",
    "print finli[0] #x\n",
    "print \"---\"\n",
    "print reslpcfin[0] #y\n",
    "print \"---\"\n",
    "print errordecode[0] #e\n"
   ]
  },
  {
   "cell_type": "code",
   "execution_count": null,
   "metadata": {
    "collapsed": true
   },
   "outputs": [],
   "source": [
    "from scipy.signal import lfilter"
   ]
  },
  {
   "cell_type": "code",
   "execution_count": null,
   "metadata": {
    "collapsed": true
   },
   "outputs": [],
   "source": [
    "estx = []"
   ]
  },
  {
   "cell_type": "code",
   "execution_count": null,
   "metadata": {
    "collapsed": true
   },
   "outputs": [],
   "source": [
    "estx.append(reslpcfin[0][0]+errordecode[0][0])"
   ]
  },
  {
   "cell_type": "code",
   "execution_count": null,
   "metadata": {
    "collapsed": false
   },
   "outputs": [],
   "source": [
    "estx"
   ]
  },
  {
   "cell_type": "code",
   "execution_count": null,
   "metadata": {
    "collapsed": true
   },
   "outputs": [],
   "source": [
    "esty = list(lpcfunction[0](estx))"
   ]
  },
  {
   "cell_type": "code",
   "execution_count": null,
   "metadata": {
    "collapsed": false
   },
   "outputs": [],
   "source": [
    "esty"
   ]
  },
  {
   "cell_type": "code",
   "execution_count": null,
   "metadata": {
    "collapsed": false
   },
   "outputs": [],
   "source": [
    "len(lpcfunction)"
   ]
  },
  {
   "cell_type": "code",
   "execution_count": null,
   "metadata": {
    "collapsed": false
   },
   "outputs": [],
   "source": [
    "estx = []\n",
    "esty = []\n",
    "for iq in range(len(errordecode)):\n",
    "    estx1 = []\n",
    "    esty1 = []\n",
    "    for iw in range(len(errordecode[iq])):\n",
    "        estx1.append(reslpcfin[iq][iw]+errordecode[iq][iw])\n",
    "        esty1 = list(lpcfunction[iq](estx1))\n",
    "    esty.append(esty1)\n",
    "    estx.append(estx1)"
   ]
  },
  {
   "cell_type": "code",
   "execution_count": null,
   "metadata": {
    "collapsed": false
   },
   "outputs": [],
   "source": [
    "print estx[0]\n",
    "print finli[0]"
   ]
  },
  {
   "cell_type": "code",
   "execution_count": null,
   "metadata": {
    "collapsed": false
   },
   "outputs": [],
   "source": [
    "print esty[0]\n",
    "print reslpcfin[0]"
   ]
  },
  {
   "cell_type": "code",
   "execution_count": null,
   "metadata": {
    "collapsed": true
   },
   "outputs": [],
   "source": [
    "estxfin = []\n",
    "for yi in estx:\n",
    "    for yu in yi:\n",
    "        estxfin.append(yu)"
   ]
  },
  {
   "cell_type": "code",
   "execution_count": null,
   "metadata": {
    "collapsed": false
   },
   "outputs": [],
   "source": [
    "y = 100\n",
    "estxfin1 = map (lambda x: estxfin[y*x:(x+1)*y], range (len(finlist)/y)) "
   ]
  },
  {
   "cell_type": "code",
   "execution_count": null,
   "metadata": {
    "collapsed": false
   },
   "outputs": [],
   "source": [
    "blockfin = []\n",
    "for iji in estxfin1:\n",
    "    bloc = np.reshape(iji,[10, 10])\n",
    "    blockfin.append(bloc)"
   ]
  },
  {
   "cell_type": "code",
   "execution_count": null,
   "metadata": {
    "collapsed": false
   },
   "outputs": [],
   "source": [
    "len(maxblock)"
   ]
  },
  {
   "cell_type": "code",
   "execution_count": null,
   "metadata": {
    "collapsed": false
   },
   "outputs": [],
   "source": [
    "finblockfin = []\n",
    "for i in range(len(blockfin)):\n",
    "    eega = blockfin[i]\n",
    "    eegamax = np.max(eega)\n",
    "    eegamin = np.min(eega)\n",
    "    oldmax = maxblock[i]\n",
    "    oldmin = minblock[i]\n",
    "    eegvalue = []\n",
    "    for j in range(len(eega)):\n",
    "        for k in range(len(eega)):\n",
    "            ee = ((eega[j][k] - eegamin)*(oldmax - oldmin))/(eegamax - eegamin)\n",
    "            eee = ee  + oldmin\n",
    "            eegvalue.append(eee)\n",
    "    fblock = np.reshape(eegvalue, [10,10])\n",
    "    finblockfin.append(fblock)\n",
    "print \"Process Complete\""
   ]
  },
  {
   "cell_type": "code",
   "execution_count": null,
   "metadata": {
    "collapsed": false
   },
   "outputs": [],
   "source": [
    "finblockfin[0]"
   ]
  },
  {
   "cell_type": "code",
   "execution_count": null,
   "metadata": {
    "collapsed": false
   },
   "outputs": [],
   "source": [
    "rblock5 = []\n",
    "for i in range(len(rblock)):\n",
    "    a = rblock[i]\n",
    "    ab = a[:10,:10]\n",
    "    rblock5.append(ab)"
   ]
  },
  {
   "cell_type": "code",
   "execution_count": null,
   "metadata": {
    "collapsed": false
   },
   "outputs": [],
   "source": [
    "psnr = []\n",
    "mse = []\n",
    "for i in range(224):\n",
    "    aq = rblock5[i]\n",
    "    aw = finblockfin[i]\n",
    "    subtr = []\n",
    "    for j in range(10):\n",
    "        for k in range(10):\n",
    "            sub = (aq[j][k] - aw[j][k])**2\n",
    "            subtr.append(sub)\n",
    "    mse1 = np.sum(subtr)/100.0\n",
    "    mse.append(mse1)\n",
    "    psnr1 = 10*np.log10(65536**2/mse1)\n",
    "    psnr.append(psnr1)\n",
    "print \"process complete\""
   ]
  },
  {
   "cell_type": "code",
   "execution_count": null,
   "metadata": {
    "collapsed": false
   },
   "outputs": [],
   "source": [
    "psnr1 = np.sum(psnr)/224.0"
   ]
  },
  {
   "cell_type": "code",
   "execution_count": null,
   "metadata": {
    "collapsed": false
   },
   "outputs": [],
   "source": [
    "sdr = 10*np.log10(variance**2/dist)"
   ]
  },
  {
   "cell_type": "code",
   "execution_count": null,
   "metadata": {
    "collapsed": false
   },
   "outputs": [],
   "source": [
    "plt.figure(80)\n",
    "plt.plot(range(224),psnr, 'k')\n",
    "plt.xlabel('Band Number')\n",
    "plt.ylabel('PSNR (dB)')\n",
    "plt.title('PSNR vs Band Number')\n",
    "plt.show()"
   ]
  },
  {
   "cell_type": "code",
   "execution_count": null,
   "metadata": {
    "collapsed": false
   },
   "outputs": [],
   "source": [
    "print 'cr = ', cr\n",
    "print 'bpp= ', bpp\n",
    "print 'sdr= ', sdr\n",
    "print 'psnr= ', psnr1\n",
    "print 'dist= ',dist"
   ]
  },
  {
   "cell_type": "code",
   "execution_count": null,
   "metadata": {
    "collapsed": true
   },
   "outputs": [],
   "source": []
  }
 ],
 "metadata": {
  "kernelspec": {
   "display_name": "Python 2",
   "language": "python",
   "name": "python2"
  },
  "language_info": {
   "codemirror_mode": {
    "name": "ipython",
    "version": 2
   },
   "file_extension": ".py",
   "mimetype": "text/x-python",
   "name": "python",
   "nbconvert_exporter": "python",
   "pygments_lexer": "ipython2",
   "version": "2.7.10"
  }
 },
 "nbformat": 4,
 "nbformat_minor": 0
}

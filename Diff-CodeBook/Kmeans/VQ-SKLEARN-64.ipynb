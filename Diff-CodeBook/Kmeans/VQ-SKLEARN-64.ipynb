{
 "cells": [
  {
   "cell_type": "code",
   "execution_count": 1,
   "metadata": {
    "collapsed": false
   },
   "outputs": [
    {
     "name": "stdout",
     "output_type": "stream",
     "text": [
      "Using matplotlib backend: MacOSX\n",
      "Populating the interactive namespace from numpy and matplotlib\n"
     ]
    }
   ],
   "source": [
    "%pylab"
   ]
  },
  {
   "cell_type": "code",
   "execution_count": 2,
   "metadata": {
    "collapsed": true
   },
   "outputs": [],
   "source": [
    "#Added all Libraries\n",
    "from spectral import *\n",
    "import numpy as np\n",
    "import PIL\n",
    "import matplotlib\n",
    "import matplotlib.pyplot as plt\n",
    "import mpmath as mp"
   ]
  },
  {
   "cell_type": "markdown",
   "metadata": {},
   "source": [
    "Reading Hyperspectral Image. For this example Hawaii"
   ]
  },
  {
   "cell_type": "code",
   "execution_count": 3,
   "metadata": {
    "collapsed": false,
    "scrolled": true
   },
   "outputs": [
    {
     "name": "stdout",
     "output_type": "stream",
     "text": [
      "\tData Source:   '././f090819t01p00r06rdn_b_sc01_ort_img'\n",
      "\t# Rows:           6955\n",
      "\t# Samples:         781\n",
      "\t# Bands:           224\n",
      "\tInterleave:        BIP\n",
      "\tQuantization:  16 bits\n",
      "\tData format:     int16\n",
      "process complete\n",
      "process complete\n"
     ]
    }
   ],
   "source": [
    "#image stored in arr\n",
    "img = open_image('f090819t01p00r06rdn_b_sc01_ort_img.hdr')\n",
    "print img\n",
    "arr = img.load()\n",
    "block = []\n",
    "for i in range(224):\n",
    "    data = arr[2500:2510,450:460,i].astype(np.float32)\n",
    "    block.append(data)\n",
    "print \"process complete\"\n",
    "varblock = []\n",
    "for hg in range(224):\n",
    "    yog = np.var(block[hg])\n",
    "    varblock.append(yog)\n",
    "variance = np.average(varblock)\n",
    "##### considering 40x40 matrix\n",
    "block = []\n",
    "for i in range(224):\n",
    "    data = arr[2500:2540,450:490,i].astype(np.float32)\n",
    "    block.append(data)\n",
    "print \"process complete\""
   ]
  },
  {
   "cell_type": "code",
   "execution_count": 4,
   "metadata": {
    "collapsed": false
   },
   "outputs": [
    {
     "name": "stdout",
     "output_type": "stream",
     "text": [
      "process complete\n"
     ]
    }
   ],
   "source": [
    "#correlation\n",
    "corr = []\n",
    "for i in range(223):\n",
    "    cor = np.corrcoef(block[i].reshape(-1), block[i+1].reshape(-1))[0][1]\n",
    "    corr.append(cor)\n",
    "print \"process complete\""
   ]
  },
  {
   "cell_type": "code",
   "execution_count": 5,
   "metadata": {
    "collapsed": false
   },
   "outputs": [
    {
     "name": "stdout",
     "output_type": "stream",
     "text": [
      "157\n"
     ]
    }
   ],
   "source": [
    "#Pre-Processing of the hyperspectral image, Hawaii. Using GOA technique\n",
    "haha = corr.index(min(corr))\n",
    "print haha"
   ]
  },
  {
   "cell_type": "code",
   "execution_count": 6,
   "metadata": {
    "collapsed": false
   },
   "outputs": [
    {
     "name": "stdout",
     "output_type": "stream",
     "text": [
      "Process Complete\n"
     ]
    }
   ],
   "source": [
    "#greedy ordering algorithm\n",
    "rblock = [] #reference block\n",
    "block1 = [] #all blocks\n",
    "block1 = block\n",
    "rindex = [] #contains all index\n",
    "ifin = []\n",
    "ifin1 = []\n",
    "\n",
    "\n",
    "rindex.append(haha)\n",
    "rblock.append(block1[haha])\n",
    "\n",
    "for gh in range(len(block)):\n",
    "        ifin.append(gh) #ifin will conatin the number od indices\n",
    "        \n",
    "for jk in range(224): \n",
    "    corgoa = [] #conatins correlation of greedy ordering algorithm\n",
    "    Ref = rindex[jk] #Ref will contain the last rindex    \n",
    "    block1.pop(Ref) #Removes that index from the block\n",
    "    yoyo = ifin.pop(Ref) # saves it to a temp variable yoyo\n",
    "    ifin1.append(yoyo) #ifin1 will conatin the final rearranged indexes\n",
    "    for ijk in range(len(block1)):\n",
    "        corr2 = np.corrcoef(rblock[jk].reshape(-1), block1[ijk].reshape(-1))[0][1] #calculate correlation coefficient with respect to the reference block\n",
    "        corgoa.append(corr2)\n",
    "    if len(corgoa) !=0:\n",
    "        indexi = corgoa.index(max(corgoa)) #indexi will contain the index of maximum correlation w.r.t to the rblock\n",
    "        rblock.append(block1[indexi]) #add the corresponding block to the rblock\n",
    "        rindex.append(indexi) \n",
    "    del(corgoa)\n",
    "    del(Ref)\n",
    "print \"Process Complete\""
   ]
  },
  {
   "cell_type": "code",
   "execution_count": 7,
   "metadata": {
    "collapsed": false
   },
   "outputs": [
    {
     "name": "stdout",
     "output_type": "stream",
     "text": [
      "process complete\n"
     ]
    }
   ],
   "source": [
    "corrfin = []\n",
    "for i in range(223):\n",
    "    corfin = np.corrcoef(rblock[i].reshape(-1), rblock[i+1].reshape(-1))[0][1]\n",
    "    corrfin.append(corfin)\n",
    "print \"process complete\""
   ]
  },
  {
   "cell_type": "code",
   "execution_count": 8,
   "metadata": {
    "collapsed": false
   },
   "outputs": [],
   "source": [
    "plt.figure(12)\n",
    "plt.plot(range(0,223),corrfin, 'k')\n",
    "plt.xlabel('Band Number')\n",
    "plt.ylabel('Correlation Coefficient')\n",
    "plt.title('Correlation Coefficient vs Band Number after GOA')\n",
    "plt.show()"
   ]
  },
  {
   "cell_type": "code",
   "execution_count": 9,
   "metadata": {
    "collapsed": false
   },
   "outputs": [
    {
     "name": "stdout",
     "output_type": "stream",
     "text": [
      "Process Complete\n"
     ]
    }
   ],
   "source": [
    "#normalizing each block\n",
    "rblockn = []\n",
    "maxblock = []\n",
    "minblock = []\n",
    "for q in range(len(rblock)):\n",
    "    xc = rblock[q]\n",
    "    maxxc = np.max(xc)\n",
    "    maxblock.append(maxxc)\n",
    "    minxc = np.min(xc)\n",
    "    minblock.append(minxc)\n",
    "    xcfin = []\n",
    "    for xci in range(len(xc)):\n",
    "        for xcj in range(len(xc)):\n",
    "            xcres = (xc[xci][xcj] - minxc)/(maxxc - minxc) \n",
    "            xcfin.append(xcres)\n",
    "    xcfin1 = np.reshape(xcfin,(40,-1))\n",
    "    rblockn.append(xcfin1)\n",
    "print 'Process Complete'"
   ]
  },
  {
   "cell_type": "code",
   "execution_count": 10,
   "metadata": {
    "collapsed": true
   },
   "outputs": [],
   "source": [
    "def raster(arr):\n",
    "    a = arr\n",
    "    xx = []\n",
    "    for i in range(10):\n",
    "        zz = []\n",
    "        for j in range(10):\n",
    "            x = float(a[i][j])\n",
    "            zz.append(x)\n",
    "        xx.extend(zz)\n",
    "        del zz\n",
    "    return xx"
   ]
  },
  {
   "cell_type": "code",
   "execution_count": 11,
   "metadata": {
    "collapsed": true
   },
   "outputs": [],
   "source": [
    "#imagescanning\n",
    "finlist = []\n",
    "for i in range(224):\n",
    "    rblockyo = rblockn[i]\n",
    "    xx = rblockyo[:10,:10]\n",
    "    yy = raster(xx)\n",
    "    finlist = finlist + yy"
   ]
  },
  {
   "cell_type": "code",
   "execution_count": 12,
   "metadata": {
    "collapsed": false
   },
   "outputs": [
    {
     "data": {
      "text/plain": [
       "22400"
      ]
     },
     "execution_count": 12,
     "metadata": {},
     "output_type": "execute_result"
    }
   ],
   "source": [
    "len(finlist)"
   ]
  },
  {
   "cell_type": "code",
   "execution_count": 13,
   "metadata": {
    "collapsed": false
   },
   "outputs": [],
   "source": [
    "finlist = list(finlist)"
   ]
  },
  {
   "cell_type": "code",
   "execution_count": 14,
   "metadata": {
    "collapsed": false
   },
   "outputs": [],
   "source": [
    "plt.figure(29)\n",
    "plt.plot(range(500,1000),finlist[500:1000], 'k')\n",
    "plt.xlabel('Band')\n",
    "plt.ylabel('Correlation')\n",
    "plt.title('Correlation vs band')\n",
    "plt.show()"
   ]
  },
  {
   "cell_type": "code",
   "execution_count": 15,
   "metadata": {
    "collapsed": true
   },
   "outputs": [],
   "source": [
    "from audiolazy import lpc"
   ]
  },
  {
   "cell_type": "code",
   "execution_count": 16,
   "metadata": {
    "collapsed": true
   },
   "outputs": [],
   "source": [
    "y = 40 #frame size"
   ]
  },
  {
   "cell_type": "code",
   "execution_count": 17,
   "metadata": {
    "collapsed": false
   },
   "outputs": [],
   "source": [
    "finli = map (lambda x: finlist[y*x:(x+1)*y], range (len(finlist)/y)) "
   ]
  },
  {
   "cell_type": "code",
   "execution_count": 18,
   "metadata": {
    "collapsed": false
   },
   "outputs": [
    {
     "name": "stdout",
     "output_type": "stream",
     "text": [
      "process complete\n"
     ]
    }
   ],
   "source": [
    "reslpcfin = []\n",
    "errorframe = []\n",
    "coefficient = []\n",
    "lpcfunction = []\n",
    "lpcerror = []\n",
    "errorfull = []\n",
    "for ijk in range(len(finlist)/y):\n",
    "    lpcframe = lpc(finli[ijk],order=3)\n",
    "    lpcfunction.append(lpcframe)\n",
    "    lpcerror.append(lpcframe.error)\n",
    "    reslpc = list(lpcframe(finli[ijk]))\n",
    "    reslpcfin.append(reslpc)\n",
    "    coefficient.append(lpcframe.numerator)\n",
    "    errorfr = []\n",
    "    for ijkl in range(len(reslpc)):\n",
    "        err = finli[ijk][ijkl] - reslpc[ijkl]\n",
    "        errorfr.append(err)\n",
    "        errorfull.append(err)\n",
    "    errorframe.append(errorfr)\n",
    "    del(errorfr)\n",
    "    del(reslpc)\n",
    "    del(lpcframe)\n",
    "print \"process complete\""
   ]
  },
  {
   "cell_type": "code",
   "execution_count": 19,
   "metadata": {
    "collapsed": false
   },
   "outputs": [],
   "source": [
    "#lpcjai1 = lpc(finlist, order=3).plot().show()"
   ]
  },
  {
   "cell_type": "code",
   "execution_count": 20,
   "metadata": {
    "collapsed": true
   },
   "outputs": [],
   "source": [
    "from sklearn import cluster"
   ]
  },
  {
   "cell_type": "code",
   "execution_count": 21,
   "metadata": {
    "collapsed": true
   },
   "outputs": [],
   "source": [
    "abcd = np.array(errorframe)"
   ]
  },
  {
   "cell_type": "code",
   "execution_count": 22,
   "metadata": {
    "collapsed": false
   },
   "outputs": [],
   "source": [
    "K_means = cluster.KMeans(n_clusters=64,max_iter=1,n_init =1, init='k-means++',tol = '1e-5')"
   ]
  },
  {
   "cell_type": "code",
   "execution_count": 23,
   "metadata": {
    "collapsed": false
   },
   "outputs": [],
   "source": [
    "fincodebook1 = K_means.fit(abcd)"
   ]
  },
  {
   "cell_type": "code",
   "execution_count": 24,
   "metadata": {
    "collapsed": false
   },
   "outputs": [],
   "source": [
    "codebook = K_means.cluster_centers_.squeeze()\n",
    "huffcodebook = list(K_means.labels_)"
   ]
  },
  {
   "cell_type": "code",
   "execution_count": 25,
   "metadata": {
    "collapsed": false
   },
   "outputs": [
    {
     "name": "stdout",
     "output_type": "stream",
     "text": [
      "11.5476034692\n"
     ]
    }
   ],
   "source": [
    "dist = K_means.inertia_\n",
    "print dist"
   ]
  },
  {
   "cell_type": "code",
   "execution_count": 26,
   "metadata": {
    "collapsed": false,
    "scrolled": true
   },
   "outputs": [],
   "source": [
    "#print codebook\n",
    "#print huffcodebook"
   ]
  },
  {
   "cell_type": "code",
   "execution_count": 27,
   "metadata": {
    "collapsed": false
   },
   "outputs": [
    {
     "name": "stdout",
     "output_type": "stream",
     "text": [
      "Symbol\tWeight\tHuffman Code\n"
     ]
    }
   ],
   "source": [
    "from heapq import heappush, heappop, heapify\n",
    "from collections import defaultdict\n",
    " \n",
    "def encode(symb2freq):\n",
    "    \"\"\"Huffman encode the given dict mapping symbols to weights\"\"\"\n",
    "    heap = [[wt, [sym, \"\"]] for sym, wt in symb2freq.items()]\n",
    "    heapify(heap)\n",
    "    while len(heap) > 1:\n",
    "        lo = heappop(heap)\n",
    "        hi = heappop(heap)\n",
    "        for pair in lo[1:]:\n",
    "            pair[1] = '0' + pair[1]\n",
    "        for pair in hi[1:]:\n",
    "            pair[1] = '1' + pair[1]\n",
    "        heappush(heap, [lo[0] + hi[0]] + lo[1:] + hi[1:])\n",
    "    return sorted(heappop(heap)[1:], key=lambda p: (len(p[-1]), p))\n",
    " \n",
    "txt = \"this is an example for huffman encoding\"\n",
    "symb2freq = defaultdict(int)\n",
    "for ch in huffcodebook:\n",
    "    symb2freq[ch] += 1\n",
    "# in Python 3.1+:\n",
    "# symb2freq = collections.Counter(txt)\n",
    "huff = encode(symb2freq)\n",
    "print \"Symbol\\tWeight\\tHuffman Code\"\n",
    "huffsymbol = []\n",
    "hufffreq = []\n",
    "for p in huff:\n",
    "    huffsymbol.append(p[1])\n",
    "    hufffreq.append(symb2freq[p[0]])\n",
    "    #print \"%s\\t%s\\t%s\" % (p[0], symb2freq[p[0]], p[1])"
   ]
  },
  {
   "cell_type": "code",
   "execution_count": 28,
   "metadata": {
    "collapsed": false
   },
   "outputs": [
    {
     "name": "stdout",
     "output_type": "stream",
     "text": [
      "2581\n"
     ]
    }
   ],
   "source": [
    "lenhuff = []\n",
    "for i in range(len(huffsymbol)):\n",
    "    yo = huffsymbol[i]\n",
    "    x = str(yo)\n",
    "    ya = x.lstrip('0')\n",
    "    lenhuff.append(len(ya)*hufffreq[i])\n",
    "print sum(lenhuff)"
   ]
  },
  {
   "cell_type": "code",
   "execution_count": 29,
   "metadata": {
    "collapsed": false
   },
   "outputs": [
    {
     "data": {
      "text/plain": [
       "64"
      ]
     },
     "execution_count": 29,
     "metadata": {},
     "output_type": "execute_result"
    }
   ],
   "source": [
    "len(lenhuff)"
   ]
  },
  {
   "cell_type": "code",
   "execution_count": 30,
   "metadata": {
    "collapsed": false
   },
   "outputs": [
    {
     "name": "stdout",
     "output_type": "stream",
     "text": [
      "138.860906625\n"
     ]
    }
   ],
   "source": [
    "cr = float(len(finlist)*16)/sum(lenhuff)\n",
    "print cr"
   ]
  },
  {
   "cell_type": "code",
   "execution_count": 31,
   "metadata": {
    "collapsed": true
   },
   "outputs": [],
   "source": [
    "def huffall(y):\n",
    "    finli = map (lambda x: finlist[y*x:(x+1)*y], range (len(finlist)/y)) \n",
    "    print len(finli)\n",
    "    global huffcode, lenhuff\n",
    "    huffcode = []\n",
    "    lenhuff = []\n",
    "    for sym in finli:\n",
    "        frequency = defaultdict(int)\n",
    "        for symbol in sym:\n",
    "            frequency[symbol] += 1\n",
    "\n",
    "        huff = encode(frequency)\n",
    "        #print \"Symbol\".ljust(10) + \"Weight\".ljust(10) + \"Huffman Code\"\n",
    "        repeat = frequency.values()\n",
    "\n",
    "        for i in range(len(huff)):\n",
    "            p = huff[i]\n",
    "            j = repeat[i]\n",
    "            for k in range(j):\n",
    "                x = str(p[1])\n",
    "                ya = x.lstrip('0')\n",
    "                lenyz = len(ya)\n",
    "                #print  p[0] , str(frequency[p[0]]).ljust(10) , ya\n",
    "                lenhuff.append(lenyz)\n",
    "                huffcode.append(p[1])\n",
    "        del frequency\n",
    "    print 'process complete'\n",
    "    print \"The length of Huffcode\", len(huffcode)\n",
    "    cr = float(len(finlist)*16)/sum(lenhuff)\n",
    "    print \"The compression ratio for frame size\", y, \"is\", cr"
   ]
  },
  {
   "cell_type": "code",
   "execution_count": 32,
   "metadata": {
    "collapsed": false
   },
   "outputs": [
    {
     "name": "stdout",
     "output_type": "stream",
     "text": [
      "0.115223214286\n"
     ]
    }
   ],
   "source": [
    "#BPP\n",
    "bpp = sum(lenhuff)/22400.00\n",
    "print bpp"
   ]
  },
  {
   "cell_type": "code",
   "execution_count": 33,
   "metadata": {
    "collapsed": false
   },
   "outputs": [],
   "source": [
    "#huffcodebook - vector de-quantization\n",
    "errordecode = []\n",
    "for ik in huffcodebook:\n",
    "    abcde = list(codebook[ik])\n",
    "    errordecode.append(abcde)"
   ]
  },
  {
   "cell_type": "code",
   "execution_count": 34,
   "metadata": {
    "collapsed": false
   },
   "outputs": [
    {
     "data": {
      "text/plain": [
       "560"
      ]
     },
     "execution_count": 34,
     "metadata": {},
     "output_type": "execute_result"
    }
   ],
   "source": [
    "len(errordecode)"
   ]
  },
  {
   "cell_type": "code",
   "execution_count": 35,
   "metadata": {
    "collapsed": false
   },
   "outputs": [
    {
     "name": "stdout",
     "output_type": "stream",
     "text": [
      "[1, -0.6269251537761988, -0.2212629565898565, -0.09078058486566887]\n",
      "---\n",
      "2.60258177955\n",
      "---\n",
      "1 - 0.626925 * z^-1 - 0.221263 * z^-2 - 0.0907806 * z^-3\n",
      "---\n",
      "[0.5555555820465088, 0.8888888955116272, 0.8888888955116272, 1.0, 0.4444444477558136, 0.5555555820465088, 0.6666666865348816, 0.6666666865348816, 0.5555555820465088, 0.5555555820465088, 0.4444444477558136, 0.4444444477558136, 1.0, 0.6666666865348816, 0.6666666865348816, 0.4444444477558136, 0.6666666865348816, 0.5555555820465088, 0.3333333432674408, 0.5555555820465088, 0.5555555820465088, 0.8888888955116272, 0.4444444477558136, 0.5555555820465088, 0.5555555820465088, 0.5555555820465088, 0.8888888955116272, 0.5555555820465088, 0.4444444477558136, 0.5555555820465088, 0.5555555820465088, 0.8888888955116272, 0.4444444477558136, 0.5555555820465088, 0.5555555820465088, 0.5555555820465088, 0.8888888955116272, 0.4444444477558136, 0.3333333432674408, 0.5555555820465088]\n",
      "---\n",
      "[0.5555555820465088, 0.5405971268060045, 0.2086982173695327, 0.1956213467270857, -0.45985274493628026, -0.025034632112865635, 0.12925524041309777, 0.08544577402038987, -0.06033683571306136, -0.0007652204959954292, -0.08729158329761283, -0.007546487295664518, 0.5725938430317495, -0.09894448669916532, -0.012893311935921262, -0.2117948942058701, 0.1800042489437973, -0.021254017191284204, -0.20281399446853438, 0.1631362622120966, 0.08307583161591628, 0.3874130603152582, -0.28617989104986735, 0.029810332527797308, 0.028230866975253344, 0.0439930157996114, 0.36723959550872914, -0.17506875675917213, -0.1509591667143178, 0.0733044538434455, 0.0584910601268385, 0.3773263292647298, -0.28617989104986735, 0.029810332527797308, 0.028230866975253344, 0.0439930157996114, 0.36723959550872914, -0.28617989104986735, -0.1924119062512707, 0.16754757819426758]\n",
      "---\n",
      "[0.0, 0.34829176870562273, 0.68019067814209455, 0.80437865327291425, 0.90429719269209385, 0.5805902141593744, 0.53741144612178382, 0.58122091251449171, 0.61589241775957015, 0.55632080254250427, 0.53173603105342648, 0.45199093505147814, 0.42740615696825046, 0.76561117323404693, 0.67955999847080284, 0.65623934196168365, 0.4866624375910843, 0.57680959923779296, 0.53614733773597512, 0.39241931983441219, 0.47247975043059254, 0.50147583519636907, 0.73062433880568101, 0.52574524951871149, 0.52732471507125545, 0.51156256624689744, 0.52164930000289811, 0.7306243388056809, 0.59540361447013135, 0.48225112820306326, 0.49706452191967027, 0.51156256624689744, 0.73062433880568101, 0.52574524951871149, 0.52732471507125545, 0.51156256624689744, 0.52164930000289811, 0.73062433880568101, 0.52574524951871149, 0.38800800385224121]\n"
     ]
    }
   ],
   "source": [
    "print coefficient[0]\n",
    "print \"---\"\n",
    "print lpcerror[0]\n",
    "print \"---\"\n",
    "print lpcfunction[0] #h\n",
    "print \"---\"\n",
    "print finli[0] #x\n",
    "print \"---\"\n",
    "print reslpcfin[0] #y\n",
    "print \"---\"\n",
    "print errordecode[0] #e\n"
   ]
  },
  {
   "cell_type": "code",
   "execution_count": 36,
   "metadata": {
    "collapsed": true
   },
   "outputs": [],
   "source": [
    "from scipy.signal import lfilter"
   ]
  },
  {
   "cell_type": "code",
   "execution_count": 37,
   "metadata": {
    "collapsed": true
   },
   "outputs": [],
   "source": [
    "estx = []"
   ]
  },
  {
   "cell_type": "code",
   "execution_count": 38,
   "metadata": {
    "collapsed": true
   },
   "outputs": [],
   "source": [
    "estx.append(reslpcfin[0][0]+errordecode[0][0])"
   ]
  },
  {
   "cell_type": "code",
   "execution_count": 39,
   "metadata": {
    "collapsed": false
   },
   "outputs": [
    {
     "data": {
      "text/plain": [
       "[0.55555558204650879]"
      ]
     },
     "execution_count": 39,
     "metadata": {},
     "output_type": "execute_result"
    }
   ],
   "source": [
    "estx"
   ]
  },
  {
   "cell_type": "code",
   "execution_count": 40,
   "metadata": {
    "collapsed": true
   },
   "outputs": [],
   "source": [
    "esty = list(lpcfunction[0](estx))"
   ]
  },
  {
   "cell_type": "code",
   "execution_count": 41,
   "metadata": {
    "collapsed": false
   },
   "outputs": [
    {
     "data": {
      "text/plain": [
       "[0.55555558204650879]"
      ]
     },
     "execution_count": 41,
     "metadata": {},
     "output_type": "execute_result"
    }
   ],
   "source": [
    "esty"
   ]
  },
  {
   "cell_type": "code",
   "execution_count": 42,
   "metadata": {
    "collapsed": false
   },
   "outputs": [
    {
     "data": {
      "text/plain": [
       "560"
      ]
     },
     "execution_count": 42,
     "metadata": {},
     "output_type": "execute_result"
    }
   ],
   "source": [
    "len(lpcfunction)"
   ]
  },
  {
   "cell_type": "code",
   "execution_count": 43,
   "metadata": {
    "collapsed": false
   },
   "outputs": [],
   "source": [
    "estx = []\n",
    "esty = []\n",
    "for iq in range(len(errordecode)):\n",
    "    estx1 = []\n",
    "    esty1 = []\n",
    "    for iw in range(len(errordecode[iq])):\n",
    "        estx1.append(reslpcfin[iq][iw]+errordecode[iq][iw])\n",
    "        esty1 = list(lpcfunction[iq](estx1))\n",
    "    esty.append(esty1)\n",
    "    estx.append(estx1)"
   ]
  },
  {
   "cell_type": "code",
   "execution_count": 44,
   "metadata": {
    "collapsed": false
   },
   "outputs": [
    {
     "name": "stdout",
     "output_type": "stream",
     "text": [
      "[0.55555558204650879, 0.8888888955116272, 0.8888888955116272, 1.0, 0.4444444477558136, 0.55555558204650879, 0.66666668653488159, 0.66666668653488159, 0.55555558204650879, 0.55555558204650879, 0.44444444775581365, 0.4444444477558136, 1.0, 0.66666668653488159, 0.66666668653488159, 0.44444444775581354, 0.66666668653488159, 0.55555558204650879, 0.33333334326744074, 0.55555558204650879, 0.55555558204650879, 0.8888888955116272, 0.44444444775581365, 0.55555558204650879, 0.55555558204650879, 0.55555558204650879, 0.8888888955116272, 0.55555558204650879, 0.44444444775581354, 0.55555558204650879, 0.55555558204650879, 0.8888888955116272, 0.44444444775581365, 0.55555558204650879, 0.55555558204650879, 0.55555558204650879, 0.8888888955116272, 0.44444444775581365, 0.3333333432674408, 0.55555558204650879]\n",
      "[0.5555555820465088, 0.8888888955116272, 0.8888888955116272, 1.0, 0.4444444477558136, 0.5555555820465088, 0.6666666865348816, 0.6666666865348816, 0.5555555820465088, 0.5555555820465088, 0.4444444477558136, 0.4444444477558136, 1.0, 0.6666666865348816, 0.6666666865348816, 0.4444444477558136, 0.6666666865348816, 0.5555555820465088, 0.3333333432674408, 0.5555555820465088, 0.5555555820465088, 0.8888888955116272, 0.4444444477558136, 0.5555555820465088, 0.5555555820465088, 0.5555555820465088, 0.8888888955116272, 0.5555555820465088, 0.4444444477558136, 0.5555555820465088, 0.5555555820465088, 0.8888888955116272, 0.4444444477558136, 0.5555555820465088, 0.5555555820465088, 0.5555555820465088, 0.8888888955116272, 0.4444444477558136, 0.3333333432674408, 0.5555555820465088]\n"
     ]
    }
   ],
   "source": [
    "print estx[0]\n",
    "print finli[0]"
   ]
  },
  {
   "cell_type": "code",
   "execution_count": 45,
   "metadata": {
    "collapsed": false
   },
   "outputs": [
    {
     "name": "stdout",
     "output_type": "stream",
     "text": [
      "[0.55555558204650879, 0.54059712680600447, 0.2086982173695327, 0.1956213467270857, -0.45985274493628026, -0.025034632112865635, 0.12925524041309777, 0.085445774020389872, -0.060336835713061358, -0.00076522049599542924, -0.087291583297612774, -0.0075464872956645737, 0.57259384303174954, -0.098944486699165335, -0.012893311935921262, -0.21179489420587017, 0.1800042489437973, -0.02125401719128419, -0.20281399446853443, 0.16313626221209659, 0.083075831615916307, 0.38741306031525818, -0.2861798910498673, 0.029810332527797252, 0.02823086697525333, 0.043993015799611394, 0.36723959550872914, -0.17506875675917213, -0.15095916671431786, 0.0733044538434455, 0.058491060126838516, 0.37732632926472981, -0.2861798910498673, 0.029810332527797252, 0.02823086697525333, 0.043993015799611394, 0.36723959550872914, -0.2861798910498673, -0.19241190625127075, 0.16754757819426755]\n",
      "[0.5555555820465088, 0.5405971268060045, 0.2086982173695327, 0.1956213467270857, -0.45985274493628026, -0.025034632112865635, 0.12925524041309777, 0.08544577402038987, -0.06033683571306136, -0.0007652204959954292, -0.08729158329761283, -0.007546487295664518, 0.5725938430317495, -0.09894448669916532, -0.012893311935921262, -0.2117948942058701, 0.1800042489437973, -0.021254017191284204, -0.20281399446853438, 0.1631362622120966, 0.08307583161591628, 0.3874130603152582, -0.28617989104986735, 0.029810332527797308, 0.028230866975253344, 0.0439930157996114, 0.36723959550872914, -0.17506875675917213, -0.1509591667143178, 0.0733044538434455, 0.0584910601268385, 0.3773263292647298, -0.28617989104986735, 0.029810332527797308, 0.028230866975253344, 0.0439930157996114, 0.36723959550872914, -0.28617989104986735, -0.1924119062512707, 0.16754757819426758]\n"
     ]
    }
   ],
   "source": [
    "print esty[0]\n",
    "print reslpcfin[0]"
   ]
  },
  {
   "cell_type": "code",
   "execution_count": 46,
   "metadata": {
    "collapsed": true
   },
   "outputs": [],
   "source": [
    "estxfin = []\n",
    "for yi in estx:\n",
    "    for yu in yi:\n",
    "        estxfin.append(yu)"
   ]
  },
  {
   "cell_type": "code",
   "execution_count": 47,
   "metadata": {
    "collapsed": false
   },
   "outputs": [],
   "source": [
    "y = 100\n",
    "estxfin1 = map (lambda x: estxfin[y*x:(x+1)*y], range (len(finlist)/y)) "
   ]
  },
  {
   "cell_type": "code",
   "execution_count": 48,
   "metadata": {
    "collapsed": false
   },
   "outputs": [],
   "source": [
    "blockfin = []\n",
    "for iji in estxfin1:\n",
    "    bloc = np.reshape(iji,[10, 10])\n",
    "    blockfin.append(bloc)"
   ]
  },
  {
   "cell_type": "code",
   "execution_count": 49,
   "metadata": {
    "collapsed": false
   },
   "outputs": [
    {
     "data": {
      "text/plain": [
       "224"
      ]
     },
     "execution_count": 49,
     "metadata": {},
     "output_type": "execute_result"
    }
   ],
   "source": [
    "len(maxblock)"
   ]
  },
  {
   "cell_type": "code",
   "execution_count": 50,
   "metadata": {
    "collapsed": false
   },
   "outputs": [
    {
     "name": "stdout",
     "output_type": "stream",
     "text": [
      "Process Complete\n"
     ]
    }
   ],
   "source": [
    "finblockfin = []\n",
    "for i in range(len(blockfin)):\n",
    "    eega = blockfin[i]\n",
    "    eegamax = np.max(eega)\n",
    "    eegamin = np.min(eega)\n",
    "    oldmax = maxblock[i]\n",
    "    oldmin = minblock[i]\n",
    "    eegvalue = []\n",
    "    for j in range(len(eega)):\n",
    "        for k in range(len(eega)):\n",
    "            ee = ((eega[j][k] - eegamin)*(oldmax - oldmin))/(eegamax - eegamin)\n",
    "            eee = ee  + oldmin\n",
    "            eegvalue.append(eee)\n",
    "    fblock = np.reshape(eegvalue, [10,10])\n",
    "    finblockfin.append(fblock)\n",
    "print \"Process Complete\""
   ]
  },
  {
   "cell_type": "code",
   "execution_count": 51,
   "metadata": {
    "collapsed": false
   },
   "outputs": [
    {
     "data": {
      "text/plain": [
       "array([[ 2.85714315,  6.71428579,  6.71428579,  8.        ,  1.5714286 ,\n",
       "         2.85714315,  4.14285736,  4.14285736,  2.85714315,  2.85714315],\n",
       "       [ 1.5714286 ,  1.5714286 ,  8.        ,  4.14285736,  4.14285736,\n",
       "         1.5714286 ,  4.14285736,  2.85714315,  0.28571438,  2.85714315],\n",
       "       [ 2.85714315,  6.71428579,  1.5714286 ,  2.85714315,  2.85714315,\n",
       "         2.85714315,  6.71428579,  2.85714315,  1.5714286 ,  2.85714315],\n",
       "       [ 2.85714315,  6.71428579,  1.5714286 ,  2.85714315,  2.85714315,\n",
       "         2.85714315,  6.71428579,  1.5714286 ,  0.28571438,  2.85714315],\n",
       "       [ 5.42857158,  2.85714315,  2.85714315,  1.5714286 ,  2.85714315,\n",
       "         4.14285736,  1.5714286 ,  1.5714286 ,  0.28571438,  2.85714315],\n",
       "       [ 5.42857158,  2.85714315,  5.42857158,  0.28571438,  1.5714286 ,\n",
       "         1.5714286 ,  2.85714315,  8.        ,  6.71428579,  2.85714315],\n",
       "       [ 1.5714286 ,  1.5714286 ,  5.42857158,  4.14285736,  4.14285736,\n",
       "         0.28571438,  1.5714286 ,  1.5714286 ,  4.14285736,  4.14285736],\n",
       "       [ 0.28571438,  1.5714286 ,  1.5714286 , -1.        , -1.        ,\n",
       "         2.85714315,  1.5714286 ,  4.14285736,  2.85714315,  0.28571438],\n",
       "       [ 4.14285736,  2.85714315,  5.42857158,  4.14285736,  4.14285736,\n",
       "         2.85714315,  1.5714286 ,  2.85714315,  1.5714286 ,  4.14285736],\n",
       "       [ 4.14285736,  1.5714286 ,  2.85714315,  2.85714315,  1.5714286 ,\n",
       "         4.14285736,  1.5714286 ,  4.14285736,  4.14285736,  2.85714315]])"
      ]
     },
     "execution_count": 51,
     "metadata": {},
     "output_type": "execute_result"
    }
   ],
   "source": [
    "finblockfin[0]"
   ]
  },
  {
   "cell_type": "code",
   "execution_count": 52,
   "metadata": {
    "collapsed": false
   },
   "outputs": [],
   "source": [
    "rblock5 = []\n",
    "for i in range(len(rblock)):\n",
    "    a = rblock[i]\n",
    "    ab = a[:10,:10]\n",
    "    rblock5.append(ab)"
   ]
  },
  {
   "cell_type": "code",
   "execution_count": 53,
   "metadata": {
    "collapsed": false
   },
   "outputs": [
    {
     "name": "stdout",
     "output_type": "stream",
     "text": [
      "process complete\n"
     ]
    }
   ],
   "source": [
    "psnr = []\n",
    "mse = []\n",
    "for i in range(224):\n",
    "    aq = rblock5[i]\n",
    "    aw = finblockfin[i]\n",
    "    subtr = []\n",
    "    for j in range(10):\n",
    "        for k in range(10):\n",
    "            sub = (aq[j][k] - aw[j][k])**2\n",
    "            subtr.append(sub)\n",
    "    mse1 = np.sum(subtr)/100.0\n",
    "    mse.append(mse1)\n",
    "    psnr1 = 10*np.log10(65536**2/mse1)\n",
    "    psnr.append(psnr1)\n",
    "print \"process complete\""
   ]
  },
  {
   "cell_type": "code",
   "execution_count": 55,
   "metadata": {
    "collapsed": false
   },
   "outputs": [],
   "source": [
    "psnr1 = np.sum(psnr)/224.0"
   ]
  },
  {
   "cell_type": "code",
   "execution_count": 56,
   "metadata": {
    "collapsed": false
   },
   "outputs": [],
   "source": [
    "sdr = 10*np.log10(variance**2/dist)"
   ]
  },
  {
   "cell_type": "code",
   "execution_count": 57,
   "metadata": {
    "collapsed": false
   },
   "outputs": [],
   "source": [
    "plt.figure(80)\n",
    "plt.plot(range(224),psnr, 'k')\n",
    "plt.xlabel('Band Number')\n",
    "plt.ylabel('PSNR (dB)')\n",
    "plt.title('PSNR vs Band Number')\n",
    "plt.show()"
   ]
  },
  {
   "cell_type": "code",
   "execution_count": 58,
   "metadata": {
    "collapsed": false
   },
   "outputs": [
    {
     "name": "stdout",
     "output_type": "stream",
     "text": [
      "cr =  138.860906625\n",
      "bpp=  0.115223214286\n",
      "sdr=  64.3796405483\n",
      "psnr=  58.6832452066\n",
      "dist=  11.5476034692\n"
     ]
    }
   ],
   "source": [
    "print 'cr = ', cr\n",
    "print 'bpp= ', bpp\n",
    "print 'sdr= ', sdr\n",
    "print 'psnr= ', psnr1\n",
    "print 'dist= ',dist"
   ]
  },
  {
   "cell_type": "code",
   "execution_count": null,
   "metadata": {
    "collapsed": true
   },
   "outputs": [],
   "source": []
  }
 ],
 "metadata": {
  "kernelspec": {
   "display_name": "Python 2",
   "language": "python",
   "name": "python2"
  },
  "language_info": {
   "codemirror_mode": {
    "name": "ipython",
    "version": 2
   },
   "file_extension": ".py",
   "mimetype": "text/x-python",
   "name": "python",
   "nbconvert_exporter": "python",
   "pygments_lexer": "ipython2",
   "version": "2.7.10"
  }
 },
 "nbformat": 4,
 "nbformat_minor": 0
}
